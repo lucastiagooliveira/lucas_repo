{
  "nbformat": 4,
  "nbformat_minor": 0,
  "metadata": {
    "colab": {
      "name": "Digit_recognizer_keras.ipynb",
      "provenance": [],
      "private_outputs": true,
      "toc_visible": true
    },
    "kernelspec": {
      "name": "python3",
      "display_name": "Python 3"
    },
    "accelerator": "GPU"
  },
  "cells": [
    {
      "cell_type": "markdown",
      "metadata": {
        "id": "5fMDNMBb1UpM",
        "colab_type": "text"
      },
      "source": [
        "## Libraries\n"
      ]
    },
    {
      "cell_type": "code",
      "metadata": {
        "id": "AZerHrqg6ryt",
        "colab_type": "code",
        "colab": {}
      },
      "source": [
        "!pip install sklearn"
      ],
      "execution_count": null,
      "outputs": []
    },
    {
      "cell_type": "code",
      "metadata": {
        "id": "hm3AZko70oJR",
        "colab_type": "code",
        "colab": {}
      },
      "source": [
        "import pandas as pd\n",
        "import numpy as np\n",
        "from keras.models import Sequential\n",
        "from keras.layers import Dense\n",
        "import keras.layers as layers\n",
        "from sklearn.model_selection import train_test_split\n",
        "import tensorflow as tf\n"
      ],
      "execution_count": null,
      "outputs": []
    },
    {
      "cell_type": "markdown",
      "metadata": {
        "id": "kSa1lSnH1arz",
        "colab_type": "text"
      },
      "source": [
        "## Load data"
      ]
    },
    {
      "cell_type": "code",
      "metadata": {
        "id": "hAoZ8i871Ga-",
        "colab_type": "code",
        "colab": {}
      },
      "source": [
        "train_data = \"https://raw.githubusercontent.com/lucastiagooliveira/lucastiagooliveira/master/Kaggle/digit-recognizer/train.csv\"\n",
        "test_data = \"https://raw.githubusercontent.com/lucastiagooliveira/lucastiagooliveira/master/Kaggle/digit-recognizer/test.csv\""
      ],
      "execution_count": null,
      "outputs": []
    },
    {
      "cell_type": "code",
      "metadata": {
        "id": "5VwjxZ9y1LE5",
        "colab_type": "code",
        "colab": {}
      },
      "source": [
        "df_train = pd.read_csv(train_data)\n",
        "df_test = pd.read_csv(test_data)"
      ],
      "execution_count": null,
      "outputs": []
    },
    {
      "cell_type": "markdown",
      "metadata": {
        "id": "Vs5s0kd61ew6",
        "colab_type": "text"
      },
      "source": [
        "## Visualization of the data"
      ]
    },
    {
      "cell_type": "code",
      "metadata": {
        "id": "d1G6u3KD1PmF",
        "colab_type": "code",
        "colab": {}
      },
      "source": [
        "df_train.head()"
      ],
      "execution_count": null,
      "outputs": []
    },
    {
      "cell_type": "code",
      "metadata": {
        "id": "bA6UORME1TjH",
        "colab_type": "code",
        "colab": {}
      },
      "source": [
        "df_test.head()"
      ],
      "execution_count": null,
      "outputs": []
    },
    {
      "cell_type": "markdown",
      "metadata": {
        "id": "_vbBvHv52EG1",
        "colab_type": "text"
      },
      "source": [
        "## Transforming data"
      ]
    },
    {
      "cell_type": "code",
      "metadata": {
        "id": "AkG9Xp8Y2Doh",
        "colab_type": "code",
        "colab": {}
      },
      "source": [
        "label = df_train[['label']]\n",
        "df_train = df_train.drop(columns = \"label\")"
      ],
      "execution_count": null,
      "outputs": []
    },
    {
      "cell_type": "code",
      "metadata": {
        "id": "o-tEj23-2Iut",
        "colab_type": "code",
        "colab": {}
      },
      "source": [
        "from keras.utils import to_categorical\n",
        "X = np.asarray(df_train)\n",
        "y = to_categorical(np.asarray(list(label.label)))\n",
        "\n",
        "X = X.reshape(X.shape[0], 28,28, 1)\n",
        "X.shape"
      ],
      "execution_count": null,
      "outputs": []
    },
    {
      "cell_type": "markdown",
      "metadata": {
        "id": "11QuH2966cNj",
        "colab_type": "text"
      },
      "source": [
        "## Split data"
      ]
    },
    {
      "cell_type": "code",
      "metadata": {
        "id": "i4UbIaK_6fh0",
        "colab_type": "code",
        "colab": {}
      },
      "source": [
        ">>> X_train, X_test, y_train, y_test = train_test_split(X, y, test_size=0.2, random_state=1)"
      ],
      "execution_count": null,
      "outputs": []
    },
    {
      "cell_type": "markdown",
      "metadata": {
        "id": "wxT6D1-y2jNp",
        "colab_type": "text"
      },
      "source": [
        "## Modeling"
      ]
    },
    {
      "cell_type": "code",
      "metadata": {
        "id": "-3WSKiKEUwjO",
        "colab_type": "code",
        "colab": {}
      },
      "source": [
        "from google.colab import drive\n",
        "drive.mount('/content/model')"
      ],
      "execution_count": null,
      "outputs": []
    },
    {
      "cell_type": "code",
      "metadata": {
        "id": "oqXzWoys2lWy",
        "colab_type": "code",
        "colab": {}
      },
      "source": [
        "model = Sequential()\n",
        "model.add(layers.Conv2D(32, kernel_size=3, activation= 'relu', padding = 'same',input_shape = (28,28,1)))\n",
        "model.add(layers.MaxPool2D(pool_size=(2,2), strides = 2, padding = 'valid' ))\n",
        "model.add(layers.Conv2D(64, kernel_size=3, activation= 'relu', padding = 'same'))\n",
        "model.add(layers.MaxPool2D(pool_size=(2,2), strides = 2, padding = 'valid' ))\n",
        "#model.add(layers.Conv2D(16, kernel_size=3, activation= 'relu', padding = 'same'))\n",
        "#model.add(layers.Conv1D(8, kernel_size=3, activation= 'relu', padding = 'same'))\n",
        "model.add(layers.Flatten())\n",
        "model.add(Dense(49, activation = 'relu'))\n",
        "model.add(Dense(10, activation= 'sigmoid'))"
      ],
      "execution_count": null,
      "outputs": []
    },
    {
      "cell_type": "code",
      "metadata": {
        "id": "mazHbcOZ3cN7",
        "colab_type": "code",
        "colab": {}
      },
      "source": [
        "model.summary()"
      ],
      "execution_count": null,
      "outputs": []
    },
    {
      "cell_type": "code",
      "metadata": {
        "id": "_UmFVk4C3j9h",
        "colab_type": "code",
        "colab": {}
      },
      "source": [
        "model.compile(loss='binary_crossentropy', optimizer='sgd', metrics=['mse','accuracy'])"
      ],
      "execution_count": null,
      "outputs": []
    },
    {
      "cell_type": "code",
      "metadata": {
        "id": "BQEyBuY-32UA",
        "colab_type": "code",
        "colab": {}
      },
      "source": [
        "model.fit(X_train, y_train, epochs = 5, batch_size= 2, validation_data= (X_test, y_test), shuffle= True)"
      ],
      "execution_count": null,
      "outputs": []
    },
    {
      "cell_type": "code",
      "metadata": {
        "id": "6TqtxR-Lirw5",
        "colab_type": "code",
        "colab": {}
      },
      "source": [
        "model.save('model/My Drive/model')"
      ],
      "execution_count": null,
      "outputs": []
    },
    {
      "cell_type": "markdown",
      "metadata": {
        "id": "NN6JdulGL2lu",
        "colab_type": "text"
      },
      "source": [
        "## Predicting the values"
      ]
    },
    {
      "cell_type": "code",
      "metadata": {
        "id": "VK214aZhVylF",
        "colab_type": "code",
        "colab": {}
      },
      "source": [
        "x_test = np.asarray(df_test)\n",
        "x_test = x_test.reshape(x_test.shape[0],28,28,1)\n",
        "pred = model.predict(x_test)\n",
        "y_pred = [np.argmax(i) for i in pred]"
      ],
      "execution_count": null,
      "outputs": []
    },
    {
      "cell_type": "markdown",
      "metadata": {
        "id": "tk8dwRpkL9v6",
        "colab_type": "text"
      },
      "source": [
        "## Submission File"
      ]
    },
    {
      "cell_type": "code",
      "metadata": {
        "id": "8Ba0XMO6F5Ib",
        "colab_type": "code",
        "colab": {}
      },
      "source": [
        "submission = pd.DataFrame({\"ImageId\": [i for i in range(1,pred.shape[0]+1)], \"Label\": y_pred})\n",
        "submission.head()"
      ],
      "execution_count": null,
      "outputs": []
    },
    {
      "cell_type": "code",
      "metadata": {
        "id": "odcIarqLIsSH",
        "colab_type": "code",
        "colab": {}
      },
      "source": [
        "submission.to_csv(\"Output/submission_dig.csv\", index = False)"
      ],
      "execution_count": null,
      "outputs": []
    }
  ]
}