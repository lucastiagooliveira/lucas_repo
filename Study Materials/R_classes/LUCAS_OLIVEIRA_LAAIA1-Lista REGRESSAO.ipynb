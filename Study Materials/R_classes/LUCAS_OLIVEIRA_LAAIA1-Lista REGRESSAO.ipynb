{
 "cells": [
  {
   "cell_type": "markdown",
   "metadata": {},
   "source": [
    "# Exercício: People Analytics - Salário\n",
    "\n",
    "- **Aluno:** Lucas Tiago de Oliveira;\n",
    "- **Turma:** LAAIA1\n",
    "- **Lista:** Regressão Linear"
   ]
  },
  {
   "cell_type": "markdown",
   "metadata": {},
   "source": [
    "#### Um recrutador deseja estimar o salário de um candidato a partir da nota média de várias provas realizadas durante o processo seletivo de admissão na empresa. O objetivo é ajudar os gestores a atribuir o salário do candidato dentro do intervalo já estipulado pela política de remuneração da empresa.\n",
    "\n",
    "#### Siga as seguintes intruções para solução do case:\n",
    "\n",
    "#### a) Obtenha o gráfico de dispersão entre as variáveis.\n",
    "\n",
    "#### b) Calcule o coeficiente de correlação entre as variáveis. É uma correlação positiva ou negativa? É uma correlação forte?\n",
    "\n",
    "#### c) Obtenha o modelo de regressão linear simples. Com 90% de confiança, há relação linear entre as variáveis?\n",
    "\n",
    "#### d) Interprete os parâmetros do modelo e o coeficiente de determinação.\n",
    "\n",
    "#### e) Apresente a equação do modelo estimada.\n",
    "\n",
    "#### f) Estime o valor do salário para um candidato que possui a nota média igual a 7."
   ]
  },
  {
   "cell_type": "code",
   "execution_count": 2,
   "metadata": {},
   "outputs": [],
   "source": [
    "#Escolhendo como caminho para o R pasta atual.\n",
    "setwd(getwd())"
   ]
  },
  {
   "cell_type": "code",
   "execution_count": 3,
   "metadata": {
    "collapsed": true
   },
   "outputs": [
    {
     "name": "stdout",
     "output_type": "stream",
     "text": [
      "package 'readxl' successfully unpacked and MD5 sums checked\n",
      "\n",
      "The downloaded binary packages are in\n",
      "\tC:\\Users\\lucas\\AppData\\Local\\Temp\\RtmpysxsLM\\downloaded_packages\n"
     ]
    }
   ],
   "source": [
    "#Primeiramente precisamos instalar os pacotes necessários para execução do código.\n",
    "install.packages(\"readxl\")\n",
    "\n",
    "#Carregando o pacote baixado.\n",
    "library(readxl)"
   ]
  },
  {
   "cell_type": "code",
   "execution_count": 4,
   "metadata": {},
   "outputs": [
    {
     "data": {
      "text/html": [
       "<table>\n",
       "<thead><tr><th scope=col>Nota_Media</th><th scope=col>Salario_Mensal</th></tr></thead>\n",
       "<tbody>\n",
       "\t<tr><td>2.6 </td><td>2800</td></tr>\n",
       "\t<tr><td>3.4 </td><td>3100</td></tr>\n",
       "\t<tr><td>3.6 </td><td>3500</td></tr>\n",
       "\t<tr><td>3.2 </td><td>3000</td></tr>\n",
       "\t<tr><td>3.5 </td><td>3400</td></tr>\n",
       "\t<tr><td>2.9 </td><td>3100</td></tr>\n",
       "</tbody>\n",
       "</table>\n"
      ],
      "text/latex": [
       "\\begin{tabular}{r|ll}\n",
       " Nota\\_Media & Salario\\_Mensal\\\\\n",
       "\\hline\n",
       "\t 2.6  & 2800\\\\\n",
       "\t 3.4  & 3100\\\\\n",
       "\t 3.6  & 3500\\\\\n",
       "\t 3.2  & 3000\\\\\n",
       "\t 3.5  & 3400\\\\\n",
       "\t 2.9  & 3100\\\\\n",
       "\\end{tabular}\n"
      ],
      "text/markdown": [
       "\n",
       "| Nota_Media | Salario_Mensal |\n",
       "|---|---|\n",
       "| 2.6  | 2800 |\n",
       "| 3.4  | 3100 |\n",
       "| 3.6  | 3500 |\n",
       "| 3.2  | 3000 |\n",
       "| 3.5  | 3400 |\n",
       "| 2.9  | 3100 |\n",
       "\n"
      ],
      "text/plain": [
       "  Nota_Media Salario_Mensal\n",
       "1 2.6        2800          \n",
       "2 3.4        3100          \n",
       "3 3.6        3500          \n",
       "4 3.2        3000          \n",
       "5 3.5        3400          \n",
       "6 2.9        3100          "
      ]
     },
     "metadata": {},
     "output_type": "display_data"
    }
   ],
   "source": [
    "#Carregando base de dados.\n",
    "salario = read_excel(\"Regressao linear simples.xls\", sheet = \"Salario\")\n",
    "\n",
    "#6 primeiras linhas da base de dados carregada\n",
    "head(salario)"
   ]
  },
  {
   "cell_type": "markdown",
   "metadata": {},
   "source": [
    "#### a) Obtenha o gráfico de dispersão entre as variáveis."
   ]
  },
  {
   "cell_type": "code",
   "execution_count": 5,
   "metadata": {
    "scrolled": false
   },
   "outputs": [
    {
     "data": {
      "image/png": "[encoded data removed]",
      "text/plain": [
       "plot without title"
      ]
     },
     "metadata": {},
     "output_type": "display_data"
    }
   ],
   "source": [
    "plot(salario$Nota_Media, salario$Salario_Mensal, xlab = \"Nota Média\", ylab = \"Salário Mensal (R$)\", col = \"Blue\")"
   ]
  },
  {
   "cell_type": "markdown",
   "metadata": {},
   "source": [
    "#### b) Calcule o coeficiente de correlação entre as variáveis. É uma correlação positiva ou negativa? É uma correlação forte?"
   ]
  },
  {
   "cell_type": "code",
   "execution_count": 6,
   "metadata": {},
   "outputs": [
    {
     "data": {
      "text/html": [
       "0.776465200197956"
      ],
      "text/latex": [
       "0.776465200197956"
      ],
      "text/markdown": [
       "0.776465200197956"
      ],
      "text/plain": [
       "[1] 0.7764652"
      ]
     },
     "metadata": {},
     "output_type": "display_data"
    }
   ],
   "source": [
    "#Calculando o coeficiente de Correlação Linear\n",
    "cor(salario$Nota_Media, salario$Salario_Mensal)"
   ]
  },
  {
   "cell_type": "markdown",
   "metadata": {},
   "source": [
    "**Resposta:** Conforme apresentado acima a correlação linear entre nota média obtida durante o processo seletivo e o salário mensal é de **0.7765**, asim resultando uma correlação **positiva** e **alta/forte**."
   ]
  },
  {
   "cell_type": "markdown",
   "metadata": {},
   "source": [
    "#### c) Obtenha o modelo de regressão linear simples. Com 90% de confiança, há relação linear entre as variáveis?"
   ]
  },
  {
   "cell_type": "code",
   "execution_count": 7,
   "metadata": {},
   "outputs": [
    {
     "data": {
      "text/plain": [
       "\n",
       "Call:\n",
       "lm(formula = salario$Salario_Mensal ~ salario$Nota_Media)\n",
       "\n",
       "Residuals:\n",
       "    Min      1Q  Median      3Q     Max \n",
       "-301.20 -143.19  -48.13  222.87  333.35 \n",
       "\n",
       "Coefficients:\n",
       "                   Estimate Std. Error t value Pr(>|t|)    \n",
       "(Intercept)         2788.88      89.57  31.135  < 2e-16 ***\n",
       "salario$Nota_Media   104.94      12.29   8.537 3.44e-11 ***\n",
       "---\n",
       "Signif. codes:  0 '***' 0.001 '**' 0.01 '*' 0.05 '.' 0.1 ' ' 1\n",
       "\n",
       "Residual standard error: 210.7 on 48 degrees of freedom\n",
       "Multiple R-squared:  0.6029,\tAdjusted R-squared:  0.5946 \n",
       "F-statistic: 72.88 on 1 and 48 DF,  p-value: 3.444e-11\n"
      ]
     },
     "metadata": {},
     "output_type": "display_data"
    }
   ],
   "source": [
    "#Realizando a função lm para realizar a regresão linear.\n",
    "regr = lm(salario$Salario_Mensal ~ salario$Nota_Media)\n",
    "\n",
    "#resumo do modelo linear\n",
    "summary(regr)"
   ]
  },
  {
   "cell_type": "markdown",
   "metadata": {},
   "source": [
    "**Resposta**: Como consideraremos um intervalo de confiança de 90% podemos dizer que **existe relação linear entre as variáveis**, pois o p-valor (3.44e-11) é menor que *alpha* (0,10)."
   ]
  },
  {
   "cell_type": "markdown",
   "metadata": {},
   "source": [
    "#### d) Interprete os parâmetros do modelo e o coeficiente de determinação."
   ]
  },
  {
   "cell_type": "markdown",
   "metadata": {},
   "source": [
    "**Dados resultantes do modelo linear:**\n",
    "Intercepto = 2788,88 -> valor no qual do modelo linear a reta irá tocar o eixo Y\n",
    "Inclinação = 104,94 -> taxa de crescimento do salário.\n",
    "\n",
    "**Coeficiente de determinação:**\n",
    "R^2 é 0.6029, ou seja, 60,29% da variabilidade dos salários dos novos funcionários podem ser previstos pela nota média obtida no processo seletivo."
   ]
  },
  {
   "cell_type": "markdown",
   "metadata": {},
   "source": [
    "#### e) Apresente a equação do modelo estimada."
   ]
  },
  {
   "cell_type": "markdown",
   "metadata": {},
   "source": [
    "**Equação estimada:** _Y = 104,94*X + 2788,88_, onde:\n",
    "- Y = Salário Mensal estimado pelo modelo \n",
    "- X = Nota Média obtida no processo seletivo"
   ]
  },
  {
   "cell_type": "markdown",
   "metadata": {},
   "source": [
    "#### f) Estime o valor do salário para um candidato que possui a nota média igual a 7."
   ]
  },
  {
   "cell_type": "code",
   "execution_count": 8,
   "metadata": {},
   "outputs": [
    {
     "data": {
      "text/html": [
       "3523.46"
      ],
      "text/latex": [
       "3523.46"
      ],
      "text/markdown": [
       "3523.46"
      ],
      "text/plain": [
       "[1] 3523.46"
      ]
     },
     "metadata": {},
     "output_type": "display_data"
    }
   ],
   "source": [
    "#Para calcular é somente realizar a substituição de X por 7 na equação do modelo acima\n",
    "104.94*7 + 2788.88"
   ]
  },
  {
   "cell_type": "markdown",
   "metadata": {},
   "source": [
    "**Resposta:** Sendo assim, o salário para um funcionário que obter nota 7 no processo seletivo terá um salário de **R$ 3.523,46**."
   ]
  }
 ],
 "metadata": {
  "kernelspec": {
   "display_name": "R",
   "language": "R",
   "name": "ir"
  },
  "language_info": {
   "codemirror_mode": "r",
   "file_extension": ".r",
   "mimetype": "text/x-r-source",
   "name": "R",
   "pygments_lexer": "r",
   "version": "3.6.1"
  }
 },
 "nbformat": 4,
 "nbformat_minor": 4
}
