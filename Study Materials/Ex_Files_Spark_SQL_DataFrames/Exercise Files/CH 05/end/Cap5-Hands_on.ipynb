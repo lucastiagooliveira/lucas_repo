{
 "cells": [
  {
   "cell_type": "markdown",
   "metadata": {},
   "source": [
    "# CAP 5 - Data Analysis with Spark"
   ]
  },
  {
   "cell_type": "code",
   "execution_count": 1,
   "metadata": {},
   "outputs": [],
   "source": [
    "from pyspark.sql import SparkSession\n",
    "import py"
   ]
  },
  {
   "cell_type": "code",
   "execution_count": 2,
   "metadata": {},
   "outputs": [],
   "source": [
    "spark = SparkSession.builder.getOrCreate()"
   ]
  },
  {
   "cell_type": "code",
   "execution_count": 3,
   "metadata": {},
   "outputs": [],
   "source": [
    "data_path = r\"C:\\Users\\lucas\\Documents\\lucastiagooliveira\\Study Materials\\Ex_Files_Spark_SQL_DataFrames\\Exercise Files\\Data\""
   ]
  },
  {
   "cell_type": "code",
   "execution_count": 10,
   "metadata": {},
   "outputs": [],
   "source": [
    "file_path = data_path + \"/utilization.csv\"\n",
    "df_util = spark.read.format(\"csv\").option(\"header\",\"false\").load(file_path)"
   ]
  },
  {
   "cell_type": "code",
   "execution_count": 19,
   "metadata": {},
   "outputs": [],
   "source": [
    "df_util = df_util.withColumnRenamed(\"_c0\",\"event_datatime\")\\\n",
    "         .withColumnRenamed(\"_c1\",\"server_id\")\\\n",
    "         .withColumnRenamed(\"_c2\",\"cpu_utilization\")\\\n",
    "         .withColumnRenamed(\"_c4\",\"session_count\")\\\n",
    "         .withColumnRenamed(\"_c3\",\"free_memory\")"
   ]
  },
  {
   "cell_type": "code",
   "execution_count": 20,
   "metadata": {},
   "outputs": [],
   "source": [
    "df_util.createOrReplaceTempView(\"utilization\")"
   ]
  },
  {
   "cell_type": "code",
   "execution_count": 21,
   "metadata": {},
   "outputs": [
    {
     "name": "stdout",
     "output_type": "stream",
     "text": [
      "+-------------------+-------+---------------+-----------+-------------+\n",
      "|     event_datatime|server_|cpu_utilization|free_memory|session_count|\n",
      "+-------------------+-------+---------------+-----------+-------------+\n",
      "|03/05/2019 08:06:14|    100|           0.57|       0.51|           47|\n",
      "|03/05/2019 08:11:14|    100|           0.47|       0.62|           43|\n",
      "|03/05/2019 08:16:14|    100|           0.56|       0.57|           62|\n",
      "|03/05/2019 08:21:14|    100|           0.57|       0.56|           50|\n",
      "|03/05/2019 08:26:14|    100|           0.35|       0.46|           43|\n",
      "|03/05/2019 08:31:14|    100|           0.41|       0.58|           48|\n",
      "|03/05/2019 08:36:14|    100|           0.57|       0.35|           58|\n",
      "|03/05/2019 08:41:14|    100|           0.41|       0.40|           58|\n",
      "|03/05/2019 08:46:14|    100|           0.53|       0.35|           62|\n",
      "|03/05/2019 08:51:14|    100|           0.51|       0.60|           45|\n",
      "|03/05/2019 08:56:14|    100|           0.32|       0.37|           47|\n",
      "|03/05/2019 09:01:14|    100|           0.62|       0.59|           60|\n",
      "|03/05/2019 09:06:14|    100|           0.66|       0.72|           57|\n",
      "|03/05/2019 09:11:14|    100|           0.54|       0.54|           44|\n",
      "|03/05/2019 09:16:14|    100|           0.29|       0.40|           47|\n",
      "|03/05/2019 09:21:14|    100|           0.43|       0.68|           66|\n",
      "|03/05/2019 09:26:14|    100|           0.49|       0.66|           65|\n",
      "|03/05/2019 09:31:14|    100|           0.64|       0.55|           66|\n",
      "|03/05/2019 09:36:14|    100|           0.42|       0.60|           42|\n",
      "|03/05/2019 09:41:14|    100|           0.55|       0.59|           63|\n",
      "+-------------------+-------+---------------+-----------+-------------+\n",
      "only showing top 20 rows\n",
      "\n"
     ]
    }
   ],
   "source": [
    "df_util.show()"
   ]
  },
  {
   "cell_type": "code",
   "execution_count": 22,
   "metadata": {},
   "outputs": [
    {
     "data": {
      "text/plain": [
       "500000"
      ]
     },
     "execution_count": 22,
     "metadata": {},
     "output_type": "execute_result"
    }
   ],
   "source": [
    "df_util.count()"
   ]
  },
  {
   "cell_type": "code",
   "execution_count": 23,
   "metadata": {},
   "outputs": [
    {
     "name": "stdout",
     "output_type": "stream",
     "text": [
      "+-------+-------------------+------------------+-------------------+-------------------+------------------+\n",
      "|summary|     event_datatime|           server_|    cpu_utilization|        free_memory|     session_count|\n",
      "+-------+-------------------+------------------+-------------------+-------------------+------------------+\n",
      "|  count|             500000|            500000|             500000|             500000|            500000|\n",
      "|   mean|               null|             124.5| 0.6205177400000115|0.37912809999999625|          69.59616|\n",
      "| stddev|               null|14.430884120553204|0.15875173872912818|0.15830931278376212|14.850676696352831|\n",
      "|    min|03/05/2019 08:06:14|               100|               0.22|               0.00|               100|\n",
      "|    max|04/09/2019 01:22:46|               149|               1.00|               0.78|                99|\n",
      "+-------+-------------------+------------------+-------------------+-------------------+------------------+\n",
      "\n"
     ]
    }
   ],
   "source": [
    "df_util.describe().show()"
   ]
  },
  {
   "cell_type": "code",
   "execution_count": 36,
   "metadata": {},
   "outputs": [
    {
     "data": {
      "text/plain": [
       "DataFrame[summary: string, event_datatime: string, server_: string, cpu_utilization: string, free_memory: string, session_count: string]"
      ]
     },
     "execution_count": 36,
     "metadata": {},
     "output_type": "execute_result"
    }
   ],
   "source": [
    "tran"
   ]
  },
  {
   "cell_type": "code",
   "execution_count": 41,
   "metadata": {},
   "outputs": [
    {
     "ename": "NameError",
     "evalue": "name 'DataType' is not defined",
     "output_type": "error",
     "traceback": [
      "\u001b[1;31m---------------------------------------------------------------------------\u001b[0m",
      "\u001b[1;31mNameError\u001b[0m                                 Traceback (most recent call last)",
      "\u001b[1;32m<ipython-input-41-d5208bdb726b>\u001b[0m in \u001b[0;36m<module>\u001b[1;34m\u001b[0m\n\u001b[1;32m----> 1\u001b[1;33m \u001b[0mdf_util\u001b[0m\u001b[1;33m[\u001b[0m\u001b[1;34m'cpu_utilization'\u001b[0m\u001b[1;33m]\u001b[0m\u001b[1;33m.\u001b[0m\u001b[0mcast\u001b[0m\u001b[1;33m(\u001b[0m\u001b[0mDataType\u001b[0m\u001b[1;33m(\u001b[0m\u001b[1;33m)\u001b[0m\u001b[1;33m)\u001b[0m\u001b[1;33m\u001b[0m\u001b[1;33m\u001b[0m\u001b[0m\n\u001b[0m",
      "\u001b[1;31mNameError\u001b[0m: name 'DataType' is not defined"
     ]
    }
   ],
   "source": [
    "df_util['cpu_utilization'].cast(DataType())"
   ]
  }
 ],
 "metadata": {
  "kernelspec": {
   "display_name": "Python 3",
   "language": "python",
   "name": "python3"
  },
  "language_info": {
   "codemirror_mode": {
    "name": "ipython",
    "version": 3
   },
   "file_extension": ".py",
   "mimetype": "text/x-python",
   "name": "python",
   "nbconvert_exporter": "python",
   "pygments_lexer": "ipython3",
   "version": "3.7.6"
  }
 },
 "nbformat": 4,
 "nbformat_minor": 4
}
