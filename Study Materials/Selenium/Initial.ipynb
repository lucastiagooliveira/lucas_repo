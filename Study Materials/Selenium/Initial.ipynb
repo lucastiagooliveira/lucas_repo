{
 "cells": [
  {
   "cell_type": "markdown",
   "metadata": {},
   "source": [
    "# Webscraping utilizando Selenium.\n",
    "> Tutorial de como utilizar o selenium para realizar webscraping.\n",
    "\n",
    "-"
   ]
  },
  {
   "cell_type": "markdown",
   "metadata": {},
   "source": [
    "Selenium é um pacote utilizado em python para automatizar um *browser*, ou seja, é possível criar um *boot* para simular um usuário interagindo com um site, este foi criado para automatizar testes em aplicações web mas certamente não se limitando a isso. \n",
    "\n",
    "Para realizar a instalação para a máquina que possui o python instalado é simplismente digitar no prompt `pip install selenium`, para maiores informações de instalação e documentação acesse: https://selenium-python.readthedocs.io/."
   ]
  },
  {
   "cell_type": "markdown",
   "metadata": {},
   "source": [
    "Para a interação com o *browser* é necessário o download do driver que é utilizado pelo biblioteca para ter acesso ao navegador, neste caso o navegador que será utilizado é o Google Chrome o qual pode ser baixado pelo link abaixo.\n",
    "\n",
    "Chrome Web-driver Download: https://sites.google.com/a/chromium.org/chromedriver/downloads\n",
    "\n",
    "Para realizar o download é necessário conhecer a versão do Chrome que está sendo utilizado, neste caso é `Versão 85.0.4183.102 (Versão oficial) 64 bits`. Isso pode ser verificado indo em `Personalizar e controlar o Google Chrome > Ajuda > Sobre o Google Chrome`.\n",
    "\n",
    "É importante após o download e extrair o arquivo saber a pasta que o arquivo está, pois será utilizado durante o código."
   ]
  },
  {
   "cell_type": "code",
   "execution_count": 1,
   "metadata": {},
   "outputs": [],
   "source": [
    "from selenium import webdriver\n",
    "from selenium.webdriver.common.keys import Keys\n",
    "\n",
    "from selenium.webdriver.common.by import By \n",
    "from selenium.webdriver.support.ui import WebDriverWait\n",
    "from selenium.webdriver.support import expected_conditions as EC"
   ]
  },
  {
   "cell_type": "code",
   "execution_count": 2,
   "metadata": {},
   "outputs": [],
   "source": [
    "PATH = \"C:\\Program Files (x86)\\chromedriver.exe\" #caminho do chromedriver"
   ]
  },
  {
   "cell_type": "code",
   "execution_count": 3,
   "metadata": {},
   "outputs": [],
   "source": [
    "driver = webdriver.Chrome(PATH) #abrindo o objeto que irá interagir com o site"
   ]
  },
  {
   "cell_type": "code",
   "execution_count": 4,
   "metadata": {},
   "outputs": [],
   "source": [
    "driver.get(\"https://techwithtim.net/\") #escolhendo o site que iremos acessar por meio do browser"
   ]
  },
  {
   "cell_type": "code",
   "execution_count": null,
   "metadata": {},
   "outputs": [],
   "source": [
    "print(driver.title) #imprimir o titulo da página"
   ]
  },
  {
   "cell_type": "code",
   "execution_count": null,
   "metadata": {},
   "outputs": [],
   "source": [
    "search = driver.find_element_by_name(\"s\") #procurando um elemento no site, neste caso como não temos ID vamos procurar pelo nome outra opção seria por classe (mas essa é recomendada)\n",
    "search.clear() #metodo para limpar o que está possivelmente escrito na barra de pesquisa\n",
    "search.send_keys(\"test\") #metodo utilizado para 'escrever' dentro da searchbox\n",
    "search.send_keys(Keys.RETURN) #método para enviar o sinal de enter "
   ]
  },
  {
   "cell_type": "code",
   "execution_count": null,
   "metadata": {},
   "outputs": [],
   "source": [
    "print(driver.page_source) #imprimir o código fonte da pagina web"
   ]
  },
  {
   "cell_type": "code",
   "execution_count": null,
   "metadata": {},
   "outputs": [],
   "source": [
    "main = driver.find_element_by_id(\"main\") #buscando elementos na página pelo id"
   ]
  },
  {
   "cell_type": "code",
   "execution_count": null,
   "metadata": {},
   "outputs": [],
   "source": [
    "try: #para evitar erro enquanto a pagina carrega, utilizaremos a função WebDriverWait\n",
    "    main = WebDriverWait(driver, 10).until(\n",
    "        EC.presence_of_element_located((By.ID, \"main\"))\n",
    "    )\n",
    "    \n",
    "    articles = main.find_elements_by_tag_name(\"article\") #procurando todos os artigos do site pelo nome\n",
    "    for article in articles:\n",
    "        header = article.find_element_by_class_name(\"entry-summary\") #pegando os titulos dos artigos no site\n",
    "        print(header.text, '\\n')\n",
    "finally:\n",
    "    driver.quit()"
   ]
  },
  {
   "cell_type": "code",
   "execution_count": null,
   "metadata": {},
   "outputs": [],
   "source": [
    "driver.close() #fechar somente uma aba"
   ]
  },
  {
   "cell_type": "code",
   "execution_count": 5,
   "metadata": {},
   "outputs": [],
   "source": [
    "driver.quit() #fechar todo o navegador"
   ]
  },
  {
   "cell_type": "markdown",
   "metadata": {},
   "source": [
    "## Python Selenium Tutorial #3 - Page Navigating and Clicking Elements"
   ]
  },
  {
   "cell_type": "code",
   "execution_count": 6,
   "metadata": {},
   "outputs": [],
   "source": [
    "import selenium"
   ]
  },
  {
   "cell_type": "code",
   "execution_count": 12,
   "metadata": {},
   "outputs": [],
   "source": [
    "from selenium.webdriver.common.keys import Keys\n",
    "from selenium.webdriver.common.by import By \n",
    "from selenium.webdriver.support.ui import WebDriverWait\n",
    "from selenium.webdriver.support import expected_conditions as EC"
   ]
  },
  {
   "cell_type": "code",
   "execution_count": 27,
   "metadata": {},
   "outputs": [],
   "source": [
    "PATH = \"C:\\Program Files (x86)\\chromedriver.exe\" #caminho do chromedriver\n",
    "driver = webdriver.Chrome(PATH) #abrindo o objeto que irá interagir com o site\n",
    "driver.get(\"https://techwithtim.net/\") #escolhendo o site que iremos acessar por meio do browser"
   ]
  },
  {
   "cell_type": "code",
   "execution_count": 28,
   "metadata": {},
   "outputs": [],
   "source": [
    "link = driver.find_element_by_partial_link_text(\"Python Programming\") #procura por um link cujo o texto é 'Pyton Progra..'\n",
    "link.click() #click neste link"
   ]
  },
  {
   "cell_type": "code",
   "execution_count": 26,
   "metadata": {},
   "outputs": [],
   "source": [
    "try:\n",
    "    element = WebDriverWait(driver, 10).until(\n",
    "        EC.presence_of_element_located((By.LINK_TEXT, \"Beginner Python Tutorials\")) #procura na página um link com testo Beginner ...\n",
    "    )\n",
    "    element.click() #click no link\n",
    "    \n",
    "    element = WebDriverWait(driver, 10).until(\n",
    "        EC.presence_of_element_located((By.ID, \"sow-button-19310003\")) #procura um item (no caso um botão) com o ID sow....\n",
    "    )\n",
    "    element.click() #click no item\n",
    "    \n",
    "    driver.back() #volta para o passo anterior\n",
    "    driver.back()\n",
    "    driver.back()\n",
    "    \n",
    "    driver.forward() #avança um passo\n",
    "except:\n",
    "    driver.quit()\n",
    "    \n",
    "#Opção melhor para finalizar é:\n",
    "# finally:\n",
    "#     driver.quit()\n",
    "    "
   ]
  },
  {
   "cell_type": "markdown",
   "metadata": {},
   "source": [
    "## Python Selenium Tutorial #4 - ActionChains & Automating Cookie Clicker!"
   ]
  },
  {
   "cell_type": "code",
   "execution_count": 29,
   "metadata": {},
   "outputs": [],
   "source": [
    "from selenium import webdriver\n",
    "from selenium.webdriver.common.action_chains import ActionChains"
   ]
  },
  {
   "cell_type": "code",
   "execution_count": 39,
   "metadata": {},
   "outputs": [],
   "source": [
    "PATH = \"C:\\Program Files (x86)\\chromedriver.exe\" #caminho do chromedriver\n",
    "driver = webdriver.Chrome(PATH) #abrindo o objeto que irá interagir com o site\n",
    "driver.get(\"https://orteil.dashnet.org/cookieclicker/\") #escolhendo o site que iremos acessar por meio do browser"
   ]
  },
  {
   "cell_type": "code",
   "execution_count": 40,
   "metadata": {},
   "outputs": [
    {
     "ename": "ValueError",
     "evalue": "invalid literal for int() with base 10: '1,077'",
     "output_type": "error",
     "traceback": [
      "\u001b[1;31m---------------------------------------------------------------------------\u001b[0m",
      "\u001b[1;31mValueError\u001b[0m                                Traceback (most recent call last)",
      "\u001b[1;32m<ipython-input-40-19413a791f1d>\u001b[0m in \u001b[0;36m<module>\u001b[1;34m\u001b[0m\n\u001b[0;32m     12\u001b[0m     \u001b[0mcount\u001b[0m \u001b[1;33m=\u001b[0m \u001b[0mint\u001b[0m\u001b[1;33m(\u001b[0m\u001b[0mcookie_count\u001b[0m\u001b[1;33m.\u001b[0m\u001b[0mtext\u001b[0m\u001b[1;33m.\u001b[0m\u001b[0msplit\u001b[0m\u001b[1;33m(\u001b[0m\u001b[1;34m\" \"\u001b[0m\u001b[1;33m)\u001b[0m\u001b[1;33m[\u001b[0m\u001b[1;36m0\u001b[0m\u001b[1;33m]\u001b[0m\u001b[1;33m)\u001b[0m\u001b[1;33m\u001b[0m\u001b[1;33m\u001b[0m\u001b[0m\n\u001b[0;32m     13\u001b[0m     \u001b[1;32mfor\u001b[0m \u001b[0mitem\u001b[0m \u001b[1;32min\u001b[0m \u001b[0mitems\u001b[0m\u001b[1;33m:\u001b[0m\u001b[1;33m\u001b[0m\u001b[1;33m\u001b[0m\u001b[0m\n\u001b[1;32m---> 14\u001b[1;33m         \u001b[0mvalue\u001b[0m \u001b[1;33m=\u001b[0m \u001b[0mint\u001b[0m\u001b[1;33m(\u001b[0m\u001b[0mitem\u001b[0m\u001b[1;33m.\u001b[0m\u001b[0mtext\u001b[0m\u001b[1;33m)\u001b[0m\u001b[1;33m\u001b[0m\u001b[1;33m\u001b[0m\u001b[0m\n\u001b[0m\u001b[0;32m     15\u001b[0m         \u001b[1;32mif\u001b[0m \u001b[0mvalue\u001b[0m \u001b[1;33m<=\u001b[0m \u001b[0mcount\u001b[0m\u001b[1;33m:\u001b[0m\u001b[1;33m\u001b[0m\u001b[1;33m\u001b[0m\u001b[0m\n\u001b[0;32m     16\u001b[0m             \u001b[0mupgrade_actions\u001b[0m \u001b[1;33m=\u001b[0m \u001b[0mActionChains\u001b[0m\u001b[1;33m(\u001b[0m\u001b[0mdriver\u001b[0m\u001b[1;33m)\u001b[0m\u001b[1;33m\u001b[0m\u001b[1;33m\u001b[0m\u001b[0m\n",
      "\u001b[1;31mValueError\u001b[0m: invalid literal for int() with base 10: '1,077'"
     ]
    }
   ],
   "source": [
    "driver.implicitly_wait(5) #tempo para a página carregar\n",
    "\n",
    "cookie = driver.find_element_by_id(\"bigCookie\") #procura o elemento com o id big..\n",
    "cookie_count = driver.find_element_by_id(\"cookies\") \n",
    "items = [driver.find_element_by_id(\"productPrice\" + str(i)) for i in range(1,-1,-1)] #encontra os items que estão diponiveis e sequencia do mais barato para o mais caro\n",
    "\n",
    "actions = ActionChains(driver) #criar uma cadeia de ações \n",
    "actions.double_click(cookie) #criando uma ação \n",
    "\n",
    "for i in range(5000):\n",
    "    actions.perform() #executando a cadeia de ações\n",
    "    count = int(cookie_count.text.split(\" \")[0]) #coletando a informação da quantidade de clicks no site e transformando para int \n",
    "    for item in items:\n",
    "        value = int(item.text)\n",
    "        if value <= count: #verificando a possibilidade de comprar os updgrades\n",
    "            upgrade_actions = ActionChains(driver) #criando uma nova cadeia de ações\n",
    "            upgrade_actions.move_to_element(item) #movimentando o cursor para o item\n",
    "            upgrade_actions.click() #estabelece a ação de click\n",
    "            upgrade_actions.perform() #perfoma toda a cadeia de ação"
   ]
  }
 ],
 "metadata": {
  "kernelspec": {
   "display_name": "Python 3",
   "language": "python",
   "name": "python3"
  },
  "language_info": {
   "codemirror_mode": {
    "name": "ipython",
    "version": 3
   },
   "file_extension": ".py",
   "mimetype": "text/x-python",
   "name": "python",
   "nbconvert_exporter": "python",
   "pygments_lexer": "ipython3",
   "version": "3.7.1"
  }
 },
 "nbformat": 4,
 "nbformat_minor": 4
}
