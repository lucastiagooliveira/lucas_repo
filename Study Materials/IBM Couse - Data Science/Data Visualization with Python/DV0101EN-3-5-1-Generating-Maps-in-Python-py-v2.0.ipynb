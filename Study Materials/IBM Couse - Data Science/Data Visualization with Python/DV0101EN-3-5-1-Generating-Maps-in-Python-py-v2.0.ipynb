{
 "cells": [
  {
   "cell_type": "markdown",
   "metadata": {
    "button": false,
    "deletable": true,
    "editable": true,
    "new_sheet": false,
    "run_control": {
     "read_only": false
    }
   },
   "source": [
    "<a href=\"https://cognitiveclass.ai\"><img src = \"https://ibm.box.com/shared/static/9gegpsmnsoo25ikkbl4qzlvlyjbgxs5x.png\" width = 400> </a>\n",
    "\n",
    "<h1 align=center><font size = 5>Generating Maps with Python</font></h1>"
   ]
  },
  {
   "cell_type": "markdown",
   "metadata": {
    "button": false,
    "deletable": true,
    "editable": true,
    "new_sheet": false,
    "run_control": {
     "read_only": false
    }
   },
   "source": [
    "## Introduction\n",
    "\n",
    "In this lab, we will learn how to create maps for different objectives. To do that, we will part ways with Matplotlib and work with another Python visualization library, namely **Folium**. What is nice about **Folium** is that it was developed for the sole purpose of visualizing geospatial data. While other libraries are available to visualize geospatial data, such as **plotly**, they might have a cap on how many API calls you can make within a defined time frame. **Folium**, on the other hand, is completely free."
   ]
  },
  {
   "cell_type": "markdown",
   "metadata": {
    "button": false,
    "deletable": true,
    "editable": true,
    "new_sheet": false,
    "run_control": {
     "read_only": false
    }
   },
   "source": [
    "## Table of Contents\n",
    "\n",
    "<div class=\"alert alert-block alert-info\" style=\"margin-top: 20px\">\n",
    "\n",
    "1. [Exploring Datasets with *p*andas](#0)<br>\n",
    "2. [Downloading and Prepping Data](#2)<br>\n",
    "3. [Introduction to Folium](#4) <br>\n",
    "4. [Map with Markers](#6) <br>\n",
    "5. [Choropleth Maps](#8) <br>\n",
    "</div>\n",
    "<hr>"
   ]
  },
  {
   "cell_type": "markdown",
   "metadata": {
    "button": false,
    "deletable": true,
    "editable": true,
    "new_sheet": false,
    "run_control": {
     "read_only": false
    }
   },
   "source": [
    "# Exploring Datasets with *pandas* and Matplotlib<a id=\"0\"></a>\n",
    "\n",
    "Toolkits: This lab heavily relies on [*pandas*](http://pandas.pydata.org/) and [**Numpy**](http://www.numpy.org/) for data wrangling, analysis, and visualization. The primary plotting library we will explore in this lab is [**Folium**](https://github.com/python-visualization/folium/).\n",
    "\n",
    "Datasets: \n",
    "\n",
    "1. San Francisco Police Department Incidents for the year 2016 - [Police Department Incidents](https://data.sfgov.org/Public-Safety/Police-Department-Incidents-Previous-Year-2016-/ritf-b9ki) from San Francisco public data portal. Incidents derived from San Francisco Police Department (SFPD) Crime Incident Reporting system. Updated daily, showing data for the entire year of 2016. Address and location has been anonymized by moving to mid-block or to an intersection.    \n",
    "\n",
    "2. Immigration to Canada from 1980 to 2013 - [International migration flows to and from selected countries - The 2015 revision](http://www.un.org/en/development/desa/population/migration/data/empirical2/migrationflows.shtml) from United Nation's website. The dataset contains annual data on the flows of international migrants as recorded by the countries of destination. The data presents both inflows and outflows according to the place of birth, citizenship or place of previous / next residence both for foreigners and nationals. For this lesson, we will focus on the Canadian Immigration data"
   ]
  },
  {
   "cell_type": "markdown",
   "metadata": {
    "button": false,
    "deletable": true,
    "editable": true,
    "new_sheet": false,
    "run_control": {
     "read_only": false
    }
   },
   "source": [
    "# Downloading and Prepping Data <a id=\"2\"></a>"
   ]
  },
  {
   "cell_type": "markdown",
   "metadata": {
    "button": false,
    "deletable": true,
    "editable": true,
    "new_sheet": false,
    "run_control": {
     "read_only": false
    }
   },
   "source": [
    "Import Primary Modules:"
   ]
  },
  {
   "cell_type": "code",
   "execution_count": 1,
   "metadata": {
    "button": false,
    "deletable": true,
    "editable": true,
    "new_sheet": false,
    "run_control": {
     "read_only": false
    }
   },
   "outputs": [],
   "source": [
    "import numpy as np  # useful for many scientific computing in Python\n",
    "import pandas as pd # primary data structure library"
   ]
  },
  {
   "cell_type": "markdown",
   "metadata": {
    "button": false,
    "deletable": true,
    "editable": true,
    "new_sheet": false,
    "run_control": {
     "read_only": false
    }
   },
   "source": [
    "# Introduction to Folium <a id=\"4\"></a>"
   ]
  },
  {
   "cell_type": "markdown",
   "metadata": {
    "button": false,
    "deletable": true,
    "editable": true,
    "new_sheet": false,
    "run_control": {
     "read_only": false
    }
   },
   "source": [
    "Folium is a powerful Python library that helps you create several types of Leaflet maps. The fact that the Folium results are interactive makes this library very useful for dashboard building.\n",
    "\n",
    "From the official Folium documentation page:\n",
    "\n",
    "> Folium builds on the data wrangling strengths of the Python ecosystem and the mapping strengths of the Leaflet.js library. Manipulate your data in Python, then visualize it in on a Leaflet map via Folium.\n",
    "\n",
    "> Folium makes it easy to visualize data that's been manipulated in Python on an interactive Leaflet map. It enables both the binding of data to a map for choropleth visualizations as well as passing Vincent/Vega visualizations as markers on the map.\n",
    "\n",
    "> The library has a number of built-in tilesets from OpenStreetMap, Mapbox, and Stamen, and supports custom tilesets with Mapbox or Cloudmade API keys. Folium supports both GeoJSON and TopoJSON overlays, as well as the binding of data to those overlays to create choropleth maps with color-brewer color schemes."
   ]
  },
  {
   "cell_type": "markdown",
   "metadata": {
    "button": false,
    "deletable": true,
    "editable": true,
    "new_sheet": false,
    "run_control": {
     "read_only": false
    }
   },
   "source": [
    "#### Let's install **Folium**"
   ]
  },
  {
   "cell_type": "markdown",
   "metadata": {
    "button": false,
    "deletable": true,
    "editable": true,
    "new_sheet": false,
    "run_control": {
     "read_only": false
    }
   },
   "source": [
    "**Folium** is not available by default. So, we first need to install it before we are able to import it."
   ]
  },
  {
   "cell_type": "code",
   "execution_count": 2,
   "metadata": {
    "button": false,
    "collapsed": false,
    "deletable": true,
    "editable": true,
    "jupyter": {
     "outputs_hidden": false
    },
    "new_sheet": false,
    "run_control": {
     "read_only": false
    }
   },
   "outputs": [
    {
     "name": "stdout",
     "output_type": "stream",
     "text": [
      "Folium installed and imported!\n"
     ]
    }
   ],
   "source": [
    "#!conda install -c conda-forge folium=0.5.0 --yes\n",
    "import folium\n",
    "\n",
    "print('Folium installed and imported!')"
   ]
  },
  {
   "cell_type": "markdown",
   "metadata": {
    "button": false,
    "deletable": true,
    "editable": true,
    "new_sheet": false,
    "run_control": {
     "read_only": false
    }
   },
   "source": [
    "Generating the world map is straigtforward in **Folium**. You simply create a **Folium** *Map* object and then you display it. What is attactive about **Folium** maps is that they are interactive, so you can zoom into any region of interest despite the initial zoom level. "
   ]
  },
  {
   "cell_type": "code",
   "execution_count": 3,
   "metadata": {
    "button": false,
    "collapsed": false,
    "deletable": true,
    "editable": true,
    "jupyter": {
     "outputs_hidden": false
    },
    "new_sheet": false,
    "run_control": {
     "read_only": false
    },
    "scrolled": true
   },
   "outputs": [
    {
     "data": {
      "text/html": [
       "<div style=\"width:100%;\"><div style=\"position:relative;width:100%;height:0;padding-bottom:60%;\"><span style=\"color:#565656\">Make this Notebook Trusted to load map: File -> Trust Notebook</span><iframe src=\"about:blank\" style=\"position:absolute;width:100%;height:100%;left:0;top:0;border:none !important;\" data-html=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 onload=\"this.contentDocument.open();this.contentDocument.write(atob(this.getAttribute('data-html')));this.contentDocument.close();\" allowfullscreen webkitallowfullscreen mozallowfullscreen></iframe></div></div>"
      ],
      "text/plain": [
       "<folium.folium.Map at 0x21e28dbde48>"
      ]
     },
     "execution_count": 3,
     "metadata": {},
     "output_type": "execute_result"
    }
   ],
   "source": [
    "# define the world map\n",
    "world_map = folium.Map()\n",
    "\n",
    "# display world map\n",
    "world_map"
   ]
  },
  {
   "cell_type": "markdown",
   "metadata": {
    "button": false,
    "deletable": true,
    "editable": true,
    "new_sheet": false,
    "run_control": {
     "read_only": false
    }
   },
   "source": [
    "Go ahead. Try zooming in and out of the rendered map above."
   ]
  },
  {
   "cell_type": "markdown",
   "metadata": {
    "button": false,
    "deletable": true,
    "editable": true,
    "new_sheet": false,
    "run_control": {
     "read_only": false
    }
   },
   "source": [
    "You can customize this default definition of the world map by specifying the centre of your map and the intial zoom level. \n",
    "\n",
    "All locations on a map are defined by their respective *Latitude* and *Longitude* values. So you can create a map and pass in a center of *Latitude* and *Longitude* values of **[0, 0]**. \n",
    "\n",
    "For a defined center, you can also define the intial zoom level into that location when the map is rendered. **The higher the zoom level the more the map is zoomed into the center**.\n",
    "\n",
    "Let's create a map centered around Canada and play with the zoom level to see how it affects the rendered map."
   ]
  },
  {
   "cell_type": "code",
   "execution_count": 4,
   "metadata": {
    "button": false,
    "collapsed": false,
    "deletable": true,
    "editable": true,
    "jupyter": {
     "outputs_hidden": false
    },
    "new_sheet": false,
    "run_control": {
     "read_only": false
    }
   },
   "outputs": [
    {
     "data": {
      "text/html": [
       "<div style=\"width:100%;\"><div style=\"position:relative;width:100%;height:0;padding-bottom:60%;\"><span style=\"color:#565656\">Make this Notebook Trusted to load map: File -> Trust Notebook</span><iframe src=\"about:blank\" style=\"position:absolute;width:100%;height:100%;left:0;top:0;border:none !important;\" data-html=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 onload=\"this.contentDocument.open();this.contentDocument.write(atob(this.getAttribute('data-html')));this.contentDocument.close();\" allowfullscreen webkitallowfullscreen mozallowfullscreen></iframe></div></div>"
      ],
      "text/plain": [
       "<folium.folium.Map at 0x21e28db8048>"
      ]
     },
     "execution_count": 4,
     "metadata": {},
     "output_type": "execute_result"
    }
   ],
   "source": [
    "# define the world map centered around Canada with a low zoom level\n",
    "world_map = folium.Map(location=[56.130, -106.35], zoom_start=4)\n",
    "\n",
    "# display world map\n",
    "world_map"
   ]
  },
  {
   "cell_type": "markdown",
   "metadata": {
    "button": false,
    "deletable": true,
    "editable": true,
    "new_sheet": false,
    "run_control": {
     "read_only": false
    }
   },
   "source": [
    "Let's create the map again with a higher zoom level"
   ]
  },
  {
   "cell_type": "code",
   "execution_count": 5,
   "metadata": {
    "button": false,
    "collapsed": false,
    "deletable": true,
    "editable": true,
    "jupyter": {
     "outputs_hidden": false
    },
    "new_sheet": false,
    "run_control": {
     "read_only": false
    }
   },
   "outputs": [
    {
     "data": {
      "text/html": [
       "<div style=\"width:100%;\"><div style=\"position:relative;width:100%;height:0;padding-bottom:60%;\"><span style=\"color:#565656\">Make this Notebook Trusted to load map: File -> Trust Notebook</span><iframe src=\"about:blank\" style=\"position:absolute;width:100%;height:100%;left:0;top:0;border:none !important;\" data-html=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 onload=\"this.contentDocument.open();this.contentDocument.write(atob(this.getAttribute('data-html')));this.contentDocument.close();\" allowfullscreen webkitallowfullscreen mozallowfullscreen></iframe></div></div>"
      ],
      "text/plain": [
       "<folium.folium.Map at 0x21e28d985c8>"
      ]
     },
     "execution_count": 5,
     "metadata": {},
     "output_type": "execute_result"
    }
   ],
   "source": [
    "# define the world map centered around Canada with a higher zoom level\n",
    "world_map = folium.Map(location=[56.130, -106.35], zoom_start=8)\n",
    "\n",
    "# display world map\n",
    "world_map"
   ]
  },
  {
   "cell_type": "markdown",
   "metadata": {
    "button": false,
    "deletable": true,
    "editable": true,
    "new_sheet": false,
    "run_control": {
     "read_only": false
    }
   },
   "source": [
    "As you can see, the higher the zoom level the more the map is zoomed into the given center."
   ]
  },
  {
   "cell_type": "markdown",
   "metadata": {
    "button": false,
    "deletable": true,
    "new_sheet": false,
    "run_control": {
     "read_only": false
    }
   },
   "source": [
    "**Question**: Create a map of Mexico with a zoom level of 4."
   ]
  },
  {
   "cell_type": "code",
   "execution_count": 6,
   "metadata": {
    "button": false,
    "collapsed": false,
    "deletable": true,
    "jupyter": {
     "outputs_hidden": false
    },
    "new_sheet": false,
    "run_control": {
     "read_only": false
    }
   },
   "outputs": [
    {
     "data": {
      "text/html": [
       "<div style=\"width:100%;\"><div style=\"position:relative;width:100%;height:0;padding-bottom:60%;\"><span style=\"color:#565656\">Make this Notebook Trusted to load map: File -> Trust Notebook</span><iframe src=\"about:blank\" style=\"position:absolute;width:100%;height:100%;left:0;top:0;border:none !important;\" data-html=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 onload=\"this.contentDocument.open();this.contentDocument.write(atob(this.getAttribute('data-html')));this.contentDocument.close();\" allowfullscreen webkitallowfullscreen mozallowfullscreen></iframe></div></div>"
      ],
      "text/plain": [
       "<folium.folium.Map at 0x21e28dcb248>"
      ]
     },
     "execution_count": 6,
     "metadata": {},
     "output_type": "execute_result"
    }
   ],
   "source": [
    "### type your answer here\n",
    "mexico_map = folium.Map(location=[23.6345, -102.5528], zoom_start=5)\n",
    "\n",
    "mexico_map"
   ]
  },
  {
   "cell_type": "markdown",
   "metadata": {
    "button": false,
    "deletable": true,
    "new_sheet": false,
    "run_control": {
     "read_only": false
    }
   },
   "source": [
    "Double-click __here__ for the solution.\n",
    "<!-- The correct answer is:\n",
    "\\\\ # define Mexico's geolocation coordinates\n",
    "mexico_latitude = 23.6345 \n",
    "mexico_longitude = -102.5528\n",
    "-->\n",
    "\n",
    "<!--\n",
    "\\\\ # define the world map centered around Canada with a higher zoom level\n",
    "mexico_map = folium.Map(location=[mexico_latitude, mexico_longitude], zoom_start=4)\n",
    "-->\n",
    "\n",
    "<!--\n",
    "\\\\ # display world map\n",
    "mexico_map\n",
    "-->"
   ]
  },
  {
   "cell_type": "markdown",
   "metadata": {
    "button": false,
    "deletable": true,
    "editable": true,
    "new_sheet": false,
    "run_control": {
     "read_only": false
    }
   },
   "source": [
    "Another cool feature of **Folium** is that you can generate different map styles."
   ]
  },
  {
   "cell_type": "markdown",
   "metadata": {
    "button": false,
    "deletable": true,
    "editable": true,
    "new_sheet": false,
    "run_control": {
     "read_only": false
    }
   },
   "source": [
    "### A. Stamen Toner Maps\n",
    "\n",
    "These are high-contrast B+W (black and white) maps. They are perfect for data mashups and exploring river meanders and coastal zones. "
   ]
  },
  {
   "cell_type": "markdown",
   "metadata": {
    "button": false,
    "deletable": true,
    "editable": true,
    "new_sheet": false,
    "run_control": {
     "read_only": false
    }
   },
   "source": [
    "Let's create a Stamen Toner map of canada with a zoom level of 4."
   ]
  },
  {
   "cell_type": "code",
   "execution_count": 7,
   "metadata": {
    "button": false,
    "collapsed": false,
    "deletable": true,
    "editable": true,
    "jupyter": {
     "outputs_hidden": false
    },
    "new_sheet": false,
    "run_control": {
     "read_only": false
    }
   },
   "outputs": [
    {
     "data": {
      "text/html": [
       "<div style=\"width:100%;\"><div style=\"position:relative;width:100%;height:0;padding-bottom:60%;\"><span style=\"color:#565656\">Make this Notebook Trusted to load map: File -> Trust Notebook</span><iframe src=\"about:blank\" style=\"position:absolute;width:100%;height:100%;left:0;top:0;border:none !important;\" data-html=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 onload=\"this.contentDocument.open();this.contentDocument.write(atob(this.getAttribute('data-html')));this.contentDocument.close();\" allowfullscreen webkitallowfullscreen mozallowfullscreen></iframe></div></div>"
      ],
      "text/plain": [
       "<folium.folium.Map at 0x21e26667608>"
      ]
     },
     "execution_count": 7,
     "metadata": {},
     "output_type": "execute_result"
    }
   ],
   "source": [
    "# create a Stamen Toner map of the world centered around Canada\n",
    "world_map = folium.Map(location=[56.130, -106.35], zoom_start=4, tiles='Stamen Toner')\n",
    "\n",
    "# display map\n",
    "world_map"
   ]
  },
  {
   "cell_type": "markdown",
   "metadata": {
    "button": false,
    "deletable": true,
    "editable": true,
    "new_sheet": false,
    "run_control": {
     "read_only": false
    }
   },
   "source": [
    "Feel free to zoom in and out to see how this style compares to the default one."
   ]
  },
  {
   "cell_type": "markdown",
   "metadata": {
    "button": false,
    "deletable": true,
    "editable": true,
    "new_sheet": false,
    "run_control": {
     "read_only": false
    }
   },
   "source": [
    "### B. Stamen Terrain Maps\n",
    "\n",
    "These are maps that feature hill shading and natural vegetation colors. They showcase advanced labeling and linework generalization of dual-carriageway roads."
   ]
  },
  {
   "cell_type": "markdown",
   "metadata": {
    "button": false,
    "deletable": true,
    "editable": true,
    "new_sheet": false,
    "run_control": {
     "read_only": false
    }
   },
   "source": [
    "Let's create a Stamen Terrain map of Canada with zoom level 4."
   ]
  },
  {
   "cell_type": "code",
   "execution_count": 8,
   "metadata": {
    "button": false,
    "collapsed": false,
    "deletable": true,
    "editable": true,
    "jupyter": {
     "outputs_hidden": false
    },
    "new_sheet": false,
    "run_control": {
     "read_only": false
    }
   },
   "outputs": [
    {
     "data": {
      "text/html": [
       "<div style=\"width:100%;\"><div style=\"position:relative;width:100%;height:0;padding-bottom:60%;\"><span style=\"color:#565656\">Make this Notebook Trusted to load map: File -> Trust Notebook</span><iframe src=\"about:blank\" style=\"position:absolute;width:100%;height:100%;left:0;top:0;border:none !important;\" data-html=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 onload=\"this.contentDocument.open();this.contentDocument.write(atob(this.getAttribute('data-html')));this.contentDocument.close();\" allowfullscreen webkitallowfullscreen mozallowfullscreen></iframe></div></div>"
      ],
      "text/plain": [
       "<folium.folium.Map at 0x21e28e11408>"
      ]
     },
     "execution_count": 8,
     "metadata": {},
     "output_type": "execute_result"
    }
   ],
   "source": [
    "# create a Stamen Toner map of the world centered around Canada\n",
    "world_map = folium.Map(location=[56.130, -106.35], zoom_start=4, tiles='Stamen Terrain')\n",
    "\n",
    "# display map\n",
    "world_map"
   ]
  },
  {
   "cell_type": "markdown",
   "metadata": {
    "button": false,
    "deletable": true,
    "editable": true,
    "new_sheet": false,
    "run_control": {
     "read_only": false
    }
   },
   "source": [
    "Feel free to zoom in and out to see how this style compares to Stamen Toner and the default style."
   ]
  },
  {
   "cell_type": "markdown",
   "metadata": {
    "button": false,
    "deletable": true,
    "editable": true,
    "new_sheet": false,
    "run_control": {
     "read_only": false
    }
   },
   "source": [
    "### C. Mapbox Bright Maps\n",
    "\n",
    "These are maps that quite similar to the default style, except that the borders are not visible with a low zoom level. Furthermore, unlike the default style where country names are displayed in each country's native language, *Mapbox Bright* style displays all country names in English."
   ]
  },
  {
   "cell_type": "markdown",
   "metadata": {
    "button": false,
    "deletable": true,
    "editable": true,
    "new_sheet": false,
    "run_control": {
     "read_only": false
    }
   },
   "source": [
    "Let's create a world map with this style."
   ]
  },
  {
   "cell_type": "code",
   "execution_count": 9,
   "metadata": {
    "button": false,
    "collapsed": false,
    "deletable": true,
    "editable": true,
    "jupyter": {
     "outputs_hidden": false
    },
    "new_sheet": false,
    "run_control": {
     "read_only": false
    }
   },
   "outputs": [
    {
     "data": {
      "text/html": [
       "<div style=\"width:100%;\"><div style=\"position:relative;width:100%;height:0;padding-bottom:60%;\"><span style=\"color:#565656\">Make this Notebook Trusted to load map: File -> Trust Notebook</span><iframe src=\"about:blank\" style=\"position:absolute;width:100%;height:100%;left:0;top:0;border:none !important;\" data-html=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 onload=\"this.contentDocument.open();this.contentDocument.write(atob(this.getAttribute('data-html')));this.contentDocument.close();\" allowfullscreen webkitallowfullscreen mozallowfullscreen></iframe></div></div>"
      ],
      "text/plain": [
       "<folium.folium.Map at 0x21e28e17308>"
      ]
     },
     "execution_count": 9,
     "metadata": {},
     "output_type": "execute_result"
    }
   ],
   "source": [
    "# create a world map with a Mapbox Bright style.\n",
    "world_map = folium.Map(tiles='Mapbox Bright')\n",
    "\n",
    "# display the map\n",
    "world_map"
   ]
  },
  {
   "cell_type": "markdown",
   "metadata": {
    "button": false,
    "deletable": true,
    "editable": true,
    "new_sheet": false,
    "run_control": {
     "read_only": false
    }
   },
   "source": [
    "Zoom in and notice how the borders start showing as you zoom in, and the displayed country names are in English."
   ]
  },
  {
   "cell_type": "markdown",
   "metadata": {
    "button": false,
    "deletable": true,
    "new_sheet": false,
    "run_control": {
     "read_only": false
    }
   },
   "source": [
    "**Question**: Create a map of Mexico to visualize its hill shading and natural vegetation. Use a zoom level of 6."
   ]
  },
  {
   "cell_type": "code",
   "execution_count": 10,
   "metadata": {
    "button": false,
    "collapsed": false,
    "deletable": true,
    "jupyter": {
     "outputs_hidden": false
    },
    "new_sheet": false,
    "run_control": {
     "read_only": false
    }
   },
   "outputs": [
    {
     "data": {
      "text/html": [
       "<div style=\"width:100%;\"><div style=\"position:relative;width:100%;height:0;padding-bottom:60%;\"><span style=\"color:#565656\">Make this Notebook Trusted to load map: File -> Trust Notebook</span><iframe src=\"about:blank\" style=\"position:absolute;width:100%;height:100%;left:0;top:0;border:none !important;\" data-html=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 onload=\"this.contentDocument.open();this.contentDocument.write(atob(this.getAttribute('data-html')));this.contentDocument.close();\" allowfullscreen webkitallowfullscreen mozallowfullscreen></iframe></div></div>"
      ],
      "text/plain": [
       "<folium.folium.Map at 0x21e28dc33c8>"
      ]
     },
     "execution_count": 10,
     "metadata": {},
     "output_type": "execute_result"
    }
   ],
   "source": [
    "### type your answer here\n",
    "\n",
    "mexico_map = folium.Map(location=[23.6345, -102.5528], zoom_start=5, tiles= 'Stamen Terrain')\n",
    "\n",
    "mexico_map\n",
    "\n"
   ]
  },
  {
   "cell_type": "markdown",
   "metadata": {
    "button": false,
    "deletable": true,
    "new_sheet": false,
    "run_control": {
     "read_only": false
    }
   },
   "source": [
    "Double-click __here__ for the solution.\n",
    "<!-- The correct answer is:\n",
    "\\\\ # define Mexico's geolocation coordinates\n",
    "mexico_latitude = 23.6345 \n",
    "mexico_longitude = -102.5528\n",
    "-->\n",
    "\n",
    "<!--\n",
    "\\\\ # define the world map centered around Canada with a higher zoom level\n",
    "mexico_map = folium.Map(location=[mexico_latitude, mexico_longitude], zoom_start=6, tiles='Stamen Terrain')\n",
    "-->\n",
    "\n",
    "<!--\n",
    "\\\\ # display world map\n",
    "mexico_map\n",
    "-->"
   ]
  },
  {
   "cell_type": "markdown",
   "metadata": {
    "button": false,
    "deletable": true,
    "editable": true,
    "new_sheet": false,
    "run_control": {
     "read_only": false
    }
   },
   "source": [
    "# Maps with Markers <a id=\"6\"></a>\n"
   ]
  },
  {
   "cell_type": "markdown",
   "metadata": {
    "button": false,
    "deletable": true,
    "editable": true,
    "new_sheet": false,
    "run_control": {
     "read_only": false
    }
   },
   "source": [
    "Let's download and import the data on police department incidents using *pandas* `read_csv()` method."
   ]
  },
  {
   "cell_type": "markdown",
   "metadata": {
    "button": false,
    "deletable": true,
    "editable": true,
    "new_sheet": false,
    "run_control": {
     "read_only": false
    }
   },
   "source": [
    "Download the dataset and read it into a *pandas* dataframe:"
   ]
  },
  {
   "cell_type": "code",
   "execution_count": 11,
   "metadata": {
    "button": false,
    "collapsed": false,
    "deletable": true,
    "editable": true,
    "jupyter": {
     "outputs_hidden": false
    },
    "new_sheet": false,
    "run_control": {
     "read_only": false
    }
   },
   "outputs": [
    {
     "name": "stdout",
     "output_type": "stream",
     "text": [
      "Dataset downloaded and read into a pandas dataframe!\n"
     ]
    }
   ],
   "source": [
    "df_incidents = pd.read_csv('https://s3-api.us-geo.objectstorage.softlayer.net/cf-courses-data/CognitiveClass/DV0101EN/labs/Data_Files/Police_Department_Incidents_-_Previous_Year__2016_.csv')\n",
    "\n",
    "print('Dataset downloaded and read into a pandas dataframe!')"
   ]
  },
  {
   "cell_type": "markdown",
   "metadata": {
    "button": false,
    "deletable": true,
    "editable": true,
    "new_sheet": false,
    "run_control": {
     "read_only": false
    }
   },
   "source": [
    "Let's take a look at the first five items in our dataset."
   ]
  },
  {
   "cell_type": "code",
   "execution_count": 12,
   "metadata": {
    "button": false,
    "collapsed": false,
    "deletable": true,
    "editable": true,
    "jupyter": {
     "outputs_hidden": false
    },
    "new_sheet": false,
    "run_control": {
     "read_only": false
    }
   },
   "outputs": [
    {
     "data": {
      "text/html": [
       "<div>\n",
       "<style scoped>\n",
       "    .dataframe tbody tr th:only-of-type {\n",
       "        vertical-align: middle;\n",
       "    }\n",
       "\n",
       "    .dataframe tbody tr th {\n",
       "        vertical-align: top;\n",
       "    }\n",
       "\n",
       "    .dataframe thead th {\n",
       "        text-align: right;\n",
       "    }\n",
       "</style>\n",
       "<table border=\"1\" class=\"dataframe\">\n",
       "  <thead>\n",
       "    <tr style=\"text-align: right;\">\n",
       "      <th></th>\n",
       "      <th>IncidntNum</th>\n",
       "      <th>Category</th>\n",
       "      <th>Descript</th>\n",
       "      <th>DayOfWeek</th>\n",
       "      <th>Date</th>\n",
       "      <th>Time</th>\n",
       "      <th>PdDistrict</th>\n",
       "      <th>Resolution</th>\n",
       "      <th>Address</th>\n",
       "      <th>X</th>\n",
       "      <th>Y</th>\n",
       "      <th>Location</th>\n",
       "      <th>PdId</th>\n",
       "    </tr>\n",
       "  </thead>\n",
       "  <tbody>\n",
       "    <tr>\n",
       "      <th>0</th>\n",
       "      <td>120058272</td>\n",
       "      <td>WEAPON LAWS</td>\n",
       "      <td>POSS OF PROHIBITED WEAPON</td>\n",
       "      <td>Friday</td>\n",
       "      <td>01/29/2016 12:00:00 AM</td>\n",
       "      <td>11:00</td>\n",
       "      <td>SOUTHERN</td>\n",
       "      <td>ARREST, BOOKED</td>\n",
       "      <td>800 Block of BRYANT ST</td>\n",
       "      <td>-122.403405</td>\n",
       "      <td>37.775421</td>\n",
       "      <td>(37.775420706711, -122.403404791479)</td>\n",
       "      <td>12005827212120</td>\n",
       "    </tr>\n",
       "    <tr>\n",
       "      <th>1</th>\n",
       "      <td>120058272</td>\n",
       "      <td>WEAPON LAWS</td>\n",
       "      <td>FIREARM, LOADED, IN VEHICLE, POSSESSION OR USE</td>\n",
       "      <td>Friday</td>\n",
       "      <td>01/29/2016 12:00:00 AM</td>\n",
       "      <td>11:00</td>\n",
       "      <td>SOUTHERN</td>\n",
       "      <td>ARREST, BOOKED</td>\n",
       "      <td>800 Block of BRYANT ST</td>\n",
       "      <td>-122.403405</td>\n",
       "      <td>37.775421</td>\n",
       "      <td>(37.775420706711, -122.403404791479)</td>\n",
       "      <td>12005827212168</td>\n",
       "    </tr>\n",
       "    <tr>\n",
       "      <th>2</th>\n",
       "      <td>141059263</td>\n",
       "      <td>WARRANTS</td>\n",
       "      <td>WARRANT ARREST</td>\n",
       "      <td>Monday</td>\n",
       "      <td>04/25/2016 12:00:00 AM</td>\n",
       "      <td>14:59</td>\n",
       "      <td>BAYVIEW</td>\n",
       "      <td>ARREST, BOOKED</td>\n",
       "      <td>KEITH ST / SHAFTER AV</td>\n",
       "      <td>-122.388856</td>\n",
       "      <td>37.729981</td>\n",
       "      <td>(37.7299809672996, -122.388856204292)</td>\n",
       "      <td>14105926363010</td>\n",
       "    </tr>\n",
       "    <tr>\n",
       "      <th>3</th>\n",
       "      <td>160013662</td>\n",
       "      <td>NON-CRIMINAL</td>\n",
       "      <td>LOST PROPERTY</td>\n",
       "      <td>Tuesday</td>\n",
       "      <td>01/05/2016 12:00:00 AM</td>\n",
       "      <td>23:50</td>\n",
       "      <td>TENDERLOIN</td>\n",
       "      <td>NONE</td>\n",
       "      <td>JONES ST / OFARRELL ST</td>\n",
       "      <td>-122.412971</td>\n",
       "      <td>37.785788</td>\n",
       "      <td>(37.7857883766888, -122.412970537591)</td>\n",
       "      <td>16001366271000</td>\n",
       "    </tr>\n",
       "    <tr>\n",
       "      <th>4</th>\n",
       "      <td>160002740</td>\n",
       "      <td>NON-CRIMINAL</td>\n",
       "      <td>LOST PROPERTY</td>\n",
       "      <td>Friday</td>\n",
       "      <td>01/01/2016 12:00:00 AM</td>\n",
       "      <td>00:30</td>\n",
       "      <td>MISSION</td>\n",
       "      <td>NONE</td>\n",
       "      <td>16TH ST / MISSION ST</td>\n",
       "      <td>-122.419672</td>\n",
       "      <td>37.765050</td>\n",
       "      <td>(37.7650501214668, -122.419671780296)</td>\n",
       "      <td>16000274071000</td>\n",
       "    </tr>\n",
       "  </tbody>\n",
       "</table>\n",
       "</div>"
      ],
      "text/plain": [
       "   IncidntNum      Category                                        Descript  \\\n",
       "0   120058272   WEAPON LAWS                       POSS OF PROHIBITED WEAPON   \n",
       "1   120058272   WEAPON LAWS  FIREARM, LOADED, IN VEHICLE, POSSESSION OR USE   \n",
       "2   141059263      WARRANTS                                  WARRANT ARREST   \n",
       "3   160013662  NON-CRIMINAL                                   LOST PROPERTY   \n",
       "4   160002740  NON-CRIMINAL                                   LOST PROPERTY   \n",
       "\n",
       "  DayOfWeek                    Date   Time  PdDistrict      Resolution  \\\n",
       "0    Friday  01/29/2016 12:00:00 AM  11:00    SOUTHERN  ARREST, BOOKED   \n",
       "1    Friday  01/29/2016 12:00:00 AM  11:00    SOUTHERN  ARREST, BOOKED   \n",
       "2    Monday  04/25/2016 12:00:00 AM  14:59     BAYVIEW  ARREST, BOOKED   \n",
       "3   Tuesday  01/05/2016 12:00:00 AM  23:50  TENDERLOIN            NONE   \n",
       "4    Friday  01/01/2016 12:00:00 AM  00:30     MISSION            NONE   \n",
       "\n",
       "                  Address           X          Y  \\\n",
       "0  800 Block of BRYANT ST -122.403405  37.775421   \n",
       "1  800 Block of BRYANT ST -122.403405  37.775421   \n",
       "2   KEITH ST / SHAFTER AV -122.388856  37.729981   \n",
       "3  JONES ST / OFARRELL ST -122.412971  37.785788   \n",
       "4    16TH ST / MISSION ST -122.419672  37.765050   \n",
       "\n",
       "                                Location            PdId  \n",
       "0   (37.775420706711, -122.403404791479)  12005827212120  \n",
       "1   (37.775420706711, -122.403404791479)  12005827212168  \n",
       "2  (37.7299809672996, -122.388856204292)  14105926363010  \n",
       "3  (37.7857883766888, -122.412970537591)  16001366271000  \n",
       "4  (37.7650501214668, -122.419671780296)  16000274071000  "
      ]
     },
     "execution_count": 12,
     "metadata": {},
     "output_type": "execute_result"
    }
   ],
   "source": [
    "df_incidents.head()"
   ]
  },
  {
   "cell_type": "markdown",
   "metadata": {
    "button": false,
    "deletable": true,
    "editable": true,
    "new_sheet": false,
    "run_control": {
     "read_only": false
    }
   },
   "source": [
    "So each row consists of 13 features:\n",
    "> 1. **IncidntNum**: Incident Number\n",
    "> 2. **Category**: Category of crime or incident\n",
    "> 3. **Descript**: Description of the crime or incident\n",
    "> 4. **DayOfWeek**: The day of week on which the incident occurred\n",
    "> 5. **Date**: The Date on which the incident occurred\n",
    "> 6. **Time**: The time of day on which the incident occurred\n",
    "> 7. **PdDistrict**: The police department district\n",
    "> 8. **Resolution**: The resolution of the crime in terms whether the perpetrator was arrested or not\n",
    "> 9. **Address**: The closest address to where the incident took place\n",
    "> 10. **X**: The longitude value of the crime location \n",
    "> 11. **Y**: The latitude value of the crime location\n",
    "> 12. **Location**: A tuple of the latitude and the longitude values\n",
    "> 13. **PdId**: The police department ID"
   ]
  },
  {
   "cell_type": "markdown",
   "metadata": {
    "button": false,
    "deletable": true,
    "editable": true,
    "new_sheet": false,
    "run_control": {
     "read_only": false
    }
   },
   "source": [
    "Let's find out how many entries there are in our dataset."
   ]
  },
  {
   "cell_type": "code",
   "execution_count": 13,
   "metadata": {
    "button": false,
    "collapsed": false,
    "deletable": true,
    "editable": true,
    "jupyter": {
     "outputs_hidden": false
    },
    "new_sheet": false,
    "run_control": {
     "read_only": false
    }
   },
   "outputs": [
    {
     "data": {
      "text/plain": [
       "(150500, 13)"
      ]
     },
     "execution_count": 13,
     "metadata": {},
     "output_type": "execute_result"
    }
   ],
   "source": [
    "df_incidents.shape"
   ]
  },
  {
   "cell_type": "markdown",
   "metadata": {
    "button": false,
    "deletable": true,
    "editable": true,
    "new_sheet": false,
    "run_control": {
     "read_only": false
    }
   },
   "source": [
    "So the dataframe consists of 150,500 crimes, which took place in the year 2016. In order to reduce computational cost, let's just work with the first 100 incidents in this dataset."
   ]
  },
  {
   "cell_type": "code",
   "execution_count": 14,
   "metadata": {
    "button": false,
    "deletable": true,
    "editable": true,
    "new_sheet": false,
    "run_control": {
     "read_only": false
    }
   },
   "outputs": [],
   "source": [
    "# get the first 100 crimes in the df_incidents dataframe\n",
    "limit = 100\n",
    "df_incidents = df_incidents.iloc[0:limit, :]"
   ]
  },
  {
   "cell_type": "markdown",
   "metadata": {
    "button": false,
    "deletable": true,
    "editable": true,
    "new_sheet": false,
    "run_control": {
     "read_only": false
    }
   },
   "source": [
    "Let's confirm that our dataframe now consists only of 100 crimes."
   ]
  },
  {
   "cell_type": "code",
   "execution_count": 15,
   "metadata": {
    "button": false,
    "collapsed": false,
    "deletable": true,
    "editable": true,
    "jupyter": {
     "outputs_hidden": false
    },
    "new_sheet": false,
    "run_control": {
     "read_only": false
    }
   },
   "outputs": [
    {
     "data": {
      "text/plain": [
       "(100, 13)"
      ]
     },
     "execution_count": 15,
     "metadata": {},
     "output_type": "execute_result"
    }
   ],
   "source": [
    "df_incidents.shape"
   ]
  },
  {
   "cell_type": "markdown",
   "metadata": {
    "button": false,
    "deletable": true,
    "editable": true,
    "new_sheet": false,
    "run_control": {
     "read_only": false
    }
   },
   "source": [
    "Now that we reduced the data a little bit, let's visualize where these crimes took place in the city of San Francisco. We will use the default style and we will initialize the zoom level to 12. "
   ]
  },
  {
   "cell_type": "code",
   "execution_count": 16,
   "metadata": {
    "button": false,
    "deletable": true,
    "editable": true,
    "new_sheet": false,
    "run_control": {
     "read_only": false
    }
   },
   "outputs": [],
   "source": [
    "# San Francisco latitude and longitude values\n",
    "latitude = 37.77\n",
    "longitude = -122.42"
   ]
  },
  {
   "cell_type": "code",
   "execution_count": 17,
   "metadata": {
    "button": false,
    "collapsed": false,
    "deletable": true,
    "editable": true,
    "jupyter": {
     "outputs_hidden": false
    },
    "new_sheet": false,
    "run_control": {
     "read_only": false
    }
   },
   "outputs": [
    {
     "data": {
      "text/html": [
       "<div style=\"width:100%;\"><div style=\"position:relative;width:100%;height:0;padding-bottom:60%;\"><span style=\"color:#565656\">Make this Notebook Trusted to load map: File -> Trust Notebook</span><iframe src=\"about:blank\" style=\"position:absolute;width:100%;height:100%;left:0;top:0;border:none !important;\" data-html=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 onload=\"this.contentDocument.open();this.contentDocument.write(atob(this.getAttribute('data-html')));this.contentDocument.close();\" allowfullscreen webkitallowfullscreen mozallowfullscreen></iframe></div></div>"
      ],
      "text/plain": [
       "<folium.folium.Map at 0x21e294cc1c8>"
      ]
     },
     "execution_count": 17,
     "metadata": {},
     "output_type": "execute_result"
    }
   ],
   "source": [
    "# create map and display it\n",
    "sanfran_map = folium.Map(location=[latitude, longitude], zoom_start=12)\n",
    "\n",
    "# display the map of San Francisco\n",
    "sanfran_map"
   ]
  },
  {
   "cell_type": "markdown",
   "metadata": {
    "button": false,
    "deletable": true,
    "editable": true,
    "new_sheet": false,
    "run_control": {
     "read_only": false
    }
   },
   "source": [
    "Now let's superimpose the locations of the crimes onto the map. The way to do that in **Folium** is to create a *feature group* with its own features and style and then add it to the sanfran_map."
   ]
  },
  {
   "cell_type": "code",
   "execution_count": 18,
   "metadata": {
    "button": false,
    "collapsed": false,
    "deletable": true,
    "editable": true,
    "jupyter": {
     "outputs_hidden": false
    },
    "new_sheet": false,
    "run_control": {
     "read_only": false
    }
   },
   "outputs": [
    {
     "ename": "AttributeError",
     "evalue": "module 'folium.features' has no attribute 'CircleMarker'",
     "output_type": "error",
     "traceback": [
      "\u001b[1;31m---------------------------------------------------------------------------\u001b[0m",
      "\u001b[1;31mAttributeError\u001b[0m                            Traceback (most recent call last)",
      "\u001b[1;32m<ipython-input-18-fb9eeb91a9aa>\u001b[0m in \u001b[0;36m<module>\u001b[1;34m\u001b[0m\n\u001b[0;32m      5\u001b[0m \u001b[1;32mfor\u001b[0m \u001b[0mlat\u001b[0m\u001b[1;33m,\u001b[0m \u001b[0mlng\u001b[0m\u001b[1;33m,\u001b[0m \u001b[1;32min\u001b[0m \u001b[0mzip\u001b[0m\u001b[1;33m(\u001b[0m\u001b[0mdf_incidents\u001b[0m\u001b[1;33m.\u001b[0m\u001b[0mY\u001b[0m\u001b[1;33m,\u001b[0m \u001b[0mdf_incidents\u001b[0m\u001b[1;33m.\u001b[0m\u001b[0mX\u001b[0m\u001b[1;33m)\u001b[0m\u001b[1;33m:\u001b[0m\u001b[1;33m\u001b[0m\u001b[1;33m\u001b[0m\u001b[0m\n\u001b[0;32m      6\u001b[0m     incidents.add_child(\n\u001b[1;32m----> 7\u001b[1;33m         folium.features.CircleMarker(\n\u001b[0m\u001b[0;32m      8\u001b[0m             \u001b[1;33m[\u001b[0m\u001b[0mlat\u001b[0m\u001b[1;33m,\u001b[0m \u001b[0mlng\u001b[0m\u001b[1;33m]\u001b[0m\u001b[1;33m,\u001b[0m\u001b[1;33m\u001b[0m\u001b[1;33m\u001b[0m\u001b[0m\n\u001b[0;32m      9\u001b[0m             \u001b[0mradius\u001b[0m\u001b[1;33m=\u001b[0m\u001b[1;36m5\u001b[0m\u001b[1;33m,\u001b[0m \u001b[1;31m# define how big you want the circle markers to be\u001b[0m\u001b[1;33m\u001b[0m\u001b[1;33m\u001b[0m\u001b[0m\n",
      "\u001b[1;31mAttributeError\u001b[0m: module 'folium.features' has no attribute 'CircleMarker'"
     ]
    }
   ],
   "source": [
    "# instantiate a feature group for the incidents in the dataframe\n",
    "incidents = folium.map.FeatureGroup()\n",
    "\n",
    "# loop through the 100 crimes and add each to the incidents feature group\n",
    "for lat, lng, in zip(df_incidents.Y, df_incidents.X):\n",
    "    incidents.add_child(\n",
    "        folium.features.CircleMarker(\n",
    "            [lat, lng],\n",
    "            radius=5, # define how big you want the circle markers to be\n",
    "            color='yellow',\n",
    "            fill=True,\n",
    "            fill_color='blue',\n",
    "            fill_opacity=0.6\n",
    "        )\n",
    "    )\n",
    "\n",
    "# add incidents to map\n",
    "sanfran_map.add_child(incidents)"
   ]
  },
  {
   "cell_type": "markdown",
   "metadata": {
    "button": false,
    "deletable": true,
    "editable": true,
    "new_sheet": false,
    "run_control": {
     "read_only": false
    }
   },
   "source": [
    "You can also add some pop-up text that would get displayed when you hover over a marker. Let's make each marker display the category of the crime when hovered over."
   ]
  },
  {
   "cell_type": "code",
   "execution_count": 19,
   "metadata": {
    "button": false,
    "collapsed": false,
    "deletable": true,
    "editable": true,
    "jupyter": {
     "outputs_hidden": false
    },
    "new_sheet": false,
    "run_control": {
     "read_only": false
    }
   },
   "outputs": [
    {
     "ename": "AttributeError",
     "evalue": "module 'folium.features' has no attribute 'CircleMarker'",
     "output_type": "error",
     "traceback": [
      "\u001b[1;31m---------------------------------------------------------------------------\u001b[0m",
      "\u001b[1;31mAttributeError\u001b[0m                            Traceback (most recent call last)",
      "\u001b[1;32m<ipython-input-19-941d08d09650>\u001b[0m in \u001b[0;36m<module>\u001b[1;34m\u001b[0m\n\u001b[0;32m      5\u001b[0m \u001b[1;32mfor\u001b[0m \u001b[0mlat\u001b[0m\u001b[1;33m,\u001b[0m \u001b[0mlng\u001b[0m\u001b[1;33m,\u001b[0m \u001b[1;32min\u001b[0m \u001b[0mzip\u001b[0m\u001b[1;33m(\u001b[0m\u001b[0mdf_incidents\u001b[0m\u001b[1;33m.\u001b[0m\u001b[0mY\u001b[0m\u001b[1;33m,\u001b[0m \u001b[0mdf_incidents\u001b[0m\u001b[1;33m.\u001b[0m\u001b[0mX\u001b[0m\u001b[1;33m)\u001b[0m\u001b[1;33m:\u001b[0m\u001b[1;33m\u001b[0m\u001b[1;33m\u001b[0m\u001b[0m\n\u001b[0;32m      6\u001b[0m     incidents.add_child(\n\u001b[1;32m----> 7\u001b[1;33m         folium.features.CircleMarker(\n\u001b[0m\u001b[0;32m      8\u001b[0m             \u001b[1;33m[\u001b[0m\u001b[0mlat\u001b[0m\u001b[1;33m,\u001b[0m \u001b[0mlng\u001b[0m\u001b[1;33m]\u001b[0m\u001b[1;33m,\u001b[0m\u001b[1;33m\u001b[0m\u001b[1;33m\u001b[0m\u001b[0m\n\u001b[0;32m      9\u001b[0m             \u001b[0mradius\u001b[0m\u001b[1;33m=\u001b[0m\u001b[1;36m5\u001b[0m\u001b[1;33m,\u001b[0m \u001b[1;31m# define how big you want the circle markers to be\u001b[0m\u001b[1;33m\u001b[0m\u001b[1;33m\u001b[0m\u001b[0m\n",
      "\u001b[1;31mAttributeError\u001b[0m: module 'folium.features' has no attribute 'CircleMarker'"
     ]
    }
   ],
   "source": [
    "# instantiate a feature group for the incidents in the dataframe\n",
    "incidents = folium.map.FeatureGroup()\n",
    "\n",
    "# loop through the 100 crimes and add each to the incidents feature group\n",
    "for lat, lng, in zip(df_incidents.Y, df_incidents.X):\n",
    "    incidents.add_child(\n",
    "        folium.features.CircleMarker(\n",
    "            [lat, lng],\n",
    "            radius=5, # define how big you want the circle markers to be\n",
    "            color='yellow',\n",
    "            fill=True,\n",
    "            fill_color='blue',\n",
    "            fill_opacity=0.6\n",
    "        )\n",
    "    )\n",
    "\n",
    "# add pop-up text to each marker on the map\n",
    "latitudes = list(df_incidents.Y)\n",
    "longitudes = list(df_incidents.X)\n",
    "labels = list(df_incidents.Category)\n",
    "\n",
    "for lat, lng, label in zip(latitudes, longitudes, labels):\n",
    "    folium.Marker([lat, lng], popup=label).add_to(sanfran_map)    \n",
    "    \n",
    "# add incidents to map\n",
    "sanfran_map.add_child(incidents)"
   ]
  },
  {
   "cell_type": "markdown",
   "metadata": {
    "button": false,
    "deletable": true,
    "editable": true,
    "new_sheet": false,
    "run_control": {
     "read_only": false
    }
   },
   "source": [
    "Isn't this really cool? Now you are able to know what crime category occurred at each marker.\n",
    "\n",
    "If you find the map to be so congested will all these markers, there are two remedies to this problem. The simpler solution is to remove these location markers and just add the text to the circle markers themselves as follows:"
   ]
  },
  {
   "cell_type": "code",
   "execution_count": 20,
   "metadata": {
    "button": false,
    "collapsed": false,
    "deletable": true,
    "jupyter": {
     "outputs_hidden": false
    },
    "new_sheet": false,
    "run_control": {
     "read_only": false
    }
   },
   "outputs": [
    {
     "ename": "AttributeError",
     "evalue": "module 'folium.features' has no attribute 'CircleMarker'",
     "output_type": "error",
     "traceback": [
      "\u001b[1;31m---------------------------------------------------------------------------\u001b[0m",
      "\u001b[1;31mAttributeError\u001b[0m                            Traceback (most recent call last)",
      "\u001b[1;32m<ipython-input-20-c1af58bb29b7>\u001b[0m in \u001b[0;36m<module>\u001b[1;34m\u001b[0m\n\u001b[0;32m      4\u001b[0m \u001b[1;31m# loop through the 100 crimes and add each to the map\u001b[0m\u001b[1;33m\u001b[0m\u001b[1;33m\u001b[0m\u001b[1;33m\u001b[0m\u001b[0m\n\u001b[0;32m      5\u001b[0m \u001b[1;32mfor\u001b[0m \u001b[0mlat\u001b[0m\u001b[1;33m,\u001b[0m \u001b[0mlng\u001b[0m\u001b[1;33m,\u001b[0m \u001b[0mlabel\u001b[0m \u001b[1;32min\u001b[0m \u001b[0mzip\u001b[0m\u001b[1;33m(\u001b[0m\u001b[0mdf_incidents\u001b[0m\u001b[1;33m.\u001b[0m\u001b[0mY\u001b[0m\u001b[1;33m,\u001b[0m \u001b[0mdf_incidents\u001b[0m\u001b[1;33m.\u001b[0m\u001b[0mX\u001b[0m\u001b[1;33m,\u001b[0m \u001b[0mdf_incidents\u001b[0m\u001b[1;33m.\u001b[0m\u001b[0mCategory\u001b[0m\u001b[1;33m)\u001b[0m\u001b[1;33m:\u001b[0m\u001b[1;33m\u001b[0m\u001b[1;33m\u001b[0m\u001b[0m\n\u001b[1;32m----> 6\u001b[1;33m     folium.features.CircleMarker(\n\u001b[0m\u001b[0;32m      7\u001b[0m         \u001b[1;33m[\u001b[0m\u001b[0mlat\u001b[0m\u001b[1;33m,\u001b[0m \u001b[0mlng\u001b[0m\u001b[1;33m]\u001b[0m\u001b[1;33m,\u001b[0m\u001b[1;33m\u001b[0m\u001b[1;33m\u001b[0m\u001b[0m\n\u001b[0;32m      8\u001b[0m         \u001b[0mradius\u001b[0m\u001b[1;33m=\u001b[0m\u001b[1;36m5\u001b[0m\u001b[1;33m,\u001b[0m \u001b[1;31m# define how big you want the circle markers to be\u001b[0m\u001b[1;33m\u001b[0m\u001b[1;33m\u001b[0m\u001b[0m\n",
      "\u001b[1;31mAttributeError\u001b[0m: module 'folium.features' has no attribute 'CircleMarker'"
     ]
    }
   ],
   "source": [
    "# create map and display it\n",
    "sanfran_map = folium.Map(location=[latitude, longitude], zoom_start=12)\n",
    "\n",
    "# loop through the 100 crimes and add each to the map\n",
    "for lat, lng, label in zip(df_incidents.Y, df_incidents.X, df_incidents.Category):\n",
    "    folium.features.CircleMarker(\n",
    "        [lat, lng],\n",
    "        radius=5, # define how big you want the circle markers to be\n",
    "        color='yellow',\n",
    "        fill=True,\n",
    "        popup=label,\n",
    "        fill_color='blue',\n",
    "        fill_opacity=0.6\n",
    "    ).add_to(sanfran_map)\n",
    "\n",
    "# show map\n",
    "sanfran_map"
   ]
  },
  {
   "cell_type": "markdown",
   "metadata": {
    "button": false,
    "deletable": true,
    "new_sheet": false,
    "run_control": {
     "read_only": false
    }
   },
   "source": [
    "The other proper remedy is to group the markers into different clusters. Each cluster is then represented by the number of crimes in each neighborhood. These clusters can be thought of as pockets of San Francisco which you can then analyze separately.\n",
    "\n",
    "To implement this, we start off by instantiating a *MarkerCluster* object and adding all the data points in the dataframe to this object."
   ]
  },
  {
   "cell_type": "code",
   "execution_count": 21,
   "metadata": {
    "button": false,
    "collapsed": false,
    "deletable": true,
    "editable": true,
    "jupyter": {
     "outputs_hidden": false
    },
    "new_sheet": false,
    "run_control": {
     "read_only": false
    }
   },
   "outputs": [
    {
     "data": {
      "text/html": [
       "<div style=\"width:100%;\"><div style=\"position:relative;width:100%;height:0;padding-bottom:60%;\"><span style=\"color:#565656\">Make this Notebook Trusted to load map: File -> Trust Notebook</span><iframe src=\"about:blank\" style=\"position:absolute;width:100%;height:100%;left:0;top:0;border:none !important;\" data-html=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 onload=\"this.contentDocument.open();this.contentDocument.write(atob(this.getAttribute('data-html')));this.contentDocument.close();\" allowfullscreen webkitallowfullscreen mozallowfullscreen></iframe></div></div>"
      ],
      "text/plain": [
       "<folium.folium.Map at 0x21e28e2cf08>"
      ]
     },
     "execution_count": 21,
     "metadata": {},
     "output_type": "execute_result"
    }
   ],
   "source": [
    "from folium import plugins\n",
    "\n",
    "# let's start again with a clean copy of the map of San Francisco\n",
    "sanfran_map = folium.Map(location = [latitude, longitude], zoom_start = 12)\n",
    "\n",
    "# instantiate a mark cluster object for the incidents in the dataframe\n",
    "incidents = plugins.MarkerCluster().add_to(sanfran_map)\n",
    "\n",
    "# loop through the dataframe and add each data point to the mark cluster\n",
    "for lat, lng, label, in zip(df_incidents.Y, df_incidents.X, df_incidents.Category):\n",
    "    folium.Marker(\n",
    "        location=[lat, lng],\n",
    "        icon=None,\n",
    "        popup=label,\n",
    "    ).add_to(incidents)\n",
    "\n",
    "# display map\n",
    "sanfran_map"
   ]
  },
  {
   "cell_type": "markdown",
   "metadata": {
    "button": false,
    "deletable": true,
    "editable": true,
    "new_sheet": false,
    "run_control": {
     "read_only": false
    }
   },
   "source": [
    "Notice how when you zoom out all the way, all markers are grouped into one cluster, *the global cluster*, of 100 markers or crimes, which is the total number of crimes in our dataframe. Once you start zooming in, the *global cluster* will start breaking up into smaller clusters. Zooming in all the way will result in individual markers."
   ]
  },
  {
   "cell_type": "markdown",
   "metadata": {
    "button": false,
    "deletable": true,
    "editable": true,
    "new_sheet": false,
    "run_control": {
     "read_only": false
    }
   },
   "source": [
    "# Choropleth Maps <a id=\"8\"></a>\n",
    "\n",
    "A `Choropleth` map is a thematic map in which areas are shaded or patterned in proportion to the measurement of the statistical variable being displayed on the map, such as population density or per-capita income. The choropleth map provides an easy way to visualize how a measurement varies across a geographic area or it shows the level of variability within a region. Below is a `Choropleth` map of the US depicting the population by square mile per state.\n",
    "\n",
    "<img src = \"https://s3-api.us-geo.objectstorage.softlayer.net/cf-courses-data/CognitiveClass/DV0101EN/labs/Images/2000_census_population_density_map_by_state.png\" width = 600> "
   ]
  },
  {
   "cell_type": "markdown",
   "metadata": {
    "button": false,
    "deletable": true,
    "editable": true,
    "new_sheet": false,
    "run_control": {
     "read_only": false
    }
   },
   "source": [
    "Now, let's create our own `Choropleth` map of the world depicting immigration from various countries to Canada.\n",
    "\n",
    "Let's first download and import our primary Canadian immigration dataset using *pandas* `read_excel()` method. Normally, before we can do that, we would need to download a module which *pandas* requires to read in excel files. This module is **xlrd**. For your convenience, we have pre-installed this module, so you would not have to worry about that. Otherwise, you would need to run the following line of code to install the **xlrd** module:\n",
    "```\n",
    "!conda install -c anaconda xlrd --yes\n",
    "```"
   ]
  },
  {
   "cell_type": "markdown",
   "metadata": {
    "button": false,
    "deletable": true,
    "editable": true,
    "new_sheet": false,
    "run_control": {
     "read_only": false
    }
   },
   "source": [
    "Download the dataset and read it into a *pandas* dataframe:"
   ]
  },
  {
   "cell_type": "code",
   "execution_count": 30,
   "metadata": {
    "button": false,
    "collapsed": false,
    "deletable": true,
    "editable": true,
    "jupyter": {
     "outputs_hidden": false
    },
    "new_sheet": false,
    "run_control": {
     "read_only": false
    }
   },
   "outputs": [
    {
     "name": "stdout",
     "output_type": "stream",
     "text": [
      "Data downloaded and read into a dataframe!\n"
     ]
    }
   ],
   "source": [
    "df_can = pd.read_excel('https://s3-api.us-geo.objectstorage.softlayer.net/cf-courses-data/CognitiveClass/DV0101EN/labs/Data_Files/Canada.xlsx',\n",
    "                     sheet_name='Canada by Citizenship',\n",
    "                     skiprows=range(20),\n",
    "                     skipfooter=2)\n",
    "\n",
    "print('Data downloaded and read into a dataframe!')"
   ]
  },
  {
   "cell_type": "markdown",
   "metadata": {
    "button": false,
    "deletable": true,
    "editable": true,
    "new_sheet": false,
    "run_control": {
     "read_only": false
    }
   },
   "source": [
    "Let's take a look at the first five items in our dataset."
   ]
  },
  {
   "cell_type": "code",
   "execution_count": 31,
   "metadata": {
    "button": false,
    "collapsed": false,
    "deletable": true,
    "editable": true,
    "jupyter": {
     "outputs_hidden": false
    },
    "new_sheet": false,
    "run_control": {
     "read_only": false
    },
    "scrolled": true
   },
   "outputs": [
    {
     "data": {
      "text/html": [
       "<div>\n",
       "<style scoped>\n",
       "    .dataframe tbody tr th:only-of-type {\n",
       "        vertical-align: middle;\n",
       "    }\n",
       "\n",
       "    .dataframe tbody tr th {\n",
       "        vertical-align: top;\n",
       "    }\n",
       "\n",
       "    .dataframe thead th {\n",
       "        text-align: right;\n",
       "    }\n",
       "</style>\n",
       "<table border=\"1\" class=\"dataframe\">\n",
       "  <thead>\n",
       "    <tr style=\"text-align: right;\">\n",
       "      <th></th>\n",
       "      <th>Type</th>\n",
       "      <th>Coverage</th>\n",
       "      <th>OdName</th>\n",
       "      <th>AREA</th>\n",
       "      <th>AreaName</th>\n",
       "      <th>REG</th>\n",
       "      <th>RegName</th>\n",
       "      <th>DEV</th>\n",
       "      <th>DevName</th>\n",
       "      <th>1980</th>\n",
       "      <th>...</th>\n",
       "      <th>2004</th>\n",
       "      <th>2005</th>\n",
       "      <th>2006</th>\n",
       "      <th>2007</th>\n",
       "      <th>2008</th>\n",
       "      <th>2009</th>\n",
       "      <th>2010</th>\n",
       "      <th>2011</th>\n",
       "      <th>2012</th>\n",
       "      <th>2013</th>\n",
       "    </tr>\n",
       "  </thead>\n",
       "  <tbody>\n",
       "    <tr>\n",
       "      <th>0</th>\n",
       "      <td>Immigrants</td>\n",
       "      <td>Foreigners</td>\n",
       "      <td>Afghanistan</td>\n",
       "      <td>935</td>\n",
       "      <td>Asia</td>\n",
       "      <td>5501</td>\n",
       "      <td>Southern Asia</td>\n",
       "      <td>902</td>\n",
       "      <td>Developing regions</td>\n",
       "      <td>16</td>\n",
       "      <td>...</td>\n",
       "      <td>2978</td>\n",
       "      <td>3436</td>\n",
       "      <td>3009</td>\n",
       "      <td>2652</td>\n",
       "      <td>2111</td>\n",
       "      <td>1746</td>\n",
       "      <td>1758</td>\n",
       "      <td>2203</td>\n",
       "      <td>2635</td>\n",
       "      <td>2004</td>\n",
       "    </tr>\n",
       "    <tr>\n",
       "      <th>1</th>\n",
       "      <td>Immigrants</td>\n",
       "      <td>Foreigners</td>\n",
       "      <td>Albania</td>\n",
       "      <td>908</td>\n",
       "      <td>Europe</td>\n",
       "      <td>925</td>\n",
       "      <td>Southern Europe</td>\n",
       "      <td>901</td>\n",
       "      <td>Developed regions</td>\n",
       "      <td>1</td>\n",
       "      <td>...</td>\n",
       "      <td>1450</td>\n",
       "      <td>1223</td>\n",
       "      <td>856</td>\n",
       "      <td>702</td>\n",
       "      <td>560</td>\n",
       "      <td>716</td>\n",
       "      <td>561</td>\n",
       "      <td>539</td>\n",
       "      <td>620</td>\n",
       "      <td>603</td>\n",
       "    </tr>\n",
       "    <tr>\n",
       "      <th>2</th>\n",
       "      <td>Immigrants</td>\n",
       "      <td>Foreigners</td>\n",
       "      <td>Algeria</td>\n",
       "      <td>903</td>\n",
       "      <td>Africa</td>\n",
       "      <td>912</td>\n",
       "      <td>Northern Africa</td>\n",
       "      <td>902</td>\n",
       "      <td>Developing regions</td>\n",
       "      <td>80</td>\n",
       "      <td>...</td>\n",
       "      <td>3616</td>\n",
       "      <td>3626</td>\n",
       "      <td>4807</td>\n",
       "      <td>3623</td>\n",
       "      <td>4005</td>\n",
       "      <td>5393</td>\n",
       "      <td>4752</td>\n",
       "      <td>4325</td>\n",
       "      <td>3774</td>\n",
       "      <td>4331</td>\n",
       "    </tr>\n",
       "    <tr>\n",
       "      <th>3</th>\n",
       "      <td>Immigrants</td>\n",
       "      <td>Foreigners</td>\n",
       "      <td>American Samoa</td>\n",
       "      <td>909</td>\n",
       "      <td>Oceania</td>\n",
       "      <td>957</td>\n",
       "      <td>Polynesia</td>\n",
       "      <td>902</td>\n",
       "      <td>Developing regions</td>\n",
       "      <td>0</td>\n",
       "      <td>...</td>\n",
       "      <td>0</td>\n",
       "      <td>0</td>\n",
       "      <td>1</td>\n",
       "      <td>0</td>\n",
       "      <td>0</td>\n",
       "      <td>0</td>\n",
       "      <td>0</td>\n",
       "      <td>0</td>\n",
       "      <td>0</td>\n",
       "      <td>0</td>\n",
       "    </tr>\n",
       "    <tr>\n",
       "      <th>4</th>\n",
       "      <td>Immigrants</td>\n",
       "      <td>Foreigners</td>\n",
       "      <td>Andorra</td>\n",
       "      <td>908</td>\n",
       "      <td>Europe</td>\n",
       "      <td>925</td>\n",
       "      <td>Southern Europe</td>\n",
       "      <td>901</td>\n",
       "      <td>Developed regions</td>\n",
       "      <td>0</td>\n",
       "      <td>...</td>\n",
       "      <td>0</td>\n",
       "      <td>0</td>\n",
       "      <td>1</td>\n",
       "      <td>1</td>\n",
       "      <td>0</td>\n",
       "      <td>0</td>\n",
       "      <td>0</td>\n",
       "      <td>0</td>\n",
       "      <td>1</td>\n",
       "      <td>1</td>\n",
       "    </tr>\n",
       "  </tbody>\n",
       "</table>\n",
       "<p>5 rows × 43 columns</p>\n",
       "</div>"
      ],
      "text/plain": [
       "         Type    Coverage          OdName  AREA AreaName   REG  \\\n",
       "0  Immigrants  Foreigners     Afghanistan   935     Asia  5501   \n",
       "1  Immigrants  Foreigners         Albania   908   Europe   925   \n",
       "2  Immigrants  Foreigners         Algeria   903   Africa   912   \n",
       "3  Immigrants  Foreigners  American Samoa   909  Oceania   957   \n",
       "4  Immigrants  Foreigners         Andorra   908   Europe   925   \n",
       "\n",
       "           RegName  DEV             DevName  1980  ...  2004  2005  2006  \\\n",
       "0    Southern Asia  902  Developing regions    16  ...  2978  3436  3009   \n",
       "1  Southern Europe  901   Developed regions     1  ...  1450  1223   856   \n",
       "2  Northern Africa  902  Developing regions    80  ...  3616  3626  4807   \n",
       "3        Polynesia  902  Developing regions     0  ...     0     0     1   \n",
       "4  Southern Europe  901   Developed regions     0  ...     0     0     1   \n",
       "\n",
       "   2007  2008  2009  2010  2011  2012  2013  \n",
       "0  2652  2111  1746  1758  2203  2635  2004  \n",
       "1   702   560   716   561   539   620   603  \n",
       "2  3623  4005  5393  4752  4325  3774  4331  \n",
       "3     0     0     0     0     0     0     0  \n",
       "4     1     0     0     0     0     1     1  \n",
       "\n",
       "[5 rows x 43 columns]"
      ]
     },
     "execution_count": 31,
     "metadata": {},
     "output_type": "execute_result"
    }
   ],
   "source": [
    "df_can.head()"
   ]
  },
  {
   "cell_type": "markdown",
   "metadata": {
    "button": false,
    "deletable": true,
    "editable": true,
    "new_sheet": false,
    "run_control": {
     "read_only": false
    }
   },
   "source": [
    "Let's find out how many entries there are in our dataset."
   ]
  },
  {
   "cell_type": "code",
   "execution_count": 32,
   "metadata": {
    "button": false,
    "collapsed": false,
    "deletable": true,
    "editable": true,
    "jupyter": {
     "outputs_hidden": false
    },
    "new_sheet": false,
    "run_control": {
     "read_only": false
    }
   },
   "outputs": [
    {
     "name": "stdout",
     "output_type": "stream",
     "text": [
      "(195, 43)\n"
     ]
    }
   ],
   "source": [
    "# print the dimensions of the dataframe\n",
    "print(df_can.shape)"
   ]
  },
  {
   "cell_type": "markdown",
   "metadata": {
    "button": false,
    "deletable": true,
    "editable": true,
    "new_sheet": false,
    "run_control": {
     "read_only": false
    }
   },
   "source": [
    "Clean up data. We will make some modifications to the original dataset to make it easier to create our visualizations. Refer to *Introduction to Matplotlib and Line Plots* and *Area Plots, Histograms, and Bar Plots* notebooks for a detailed description of this preprocessing."
   ]
  },
  {
   "cell_type": "code",
   "execution_count": 33,
   "metadata": {
    "button": false,
    "collapsed": false,
    "deletable": true,
    "editable": true,
    "jupyter": {
     "outputs_hidden": false
    },
    "new_sheet": false,
    "run_control": {
     "read_only": false
    },
    "scrolled": true
   },
   "outputs": [
    {
     "name": "stdout",
     "output_type": "stream",
     "text": [
      "data dimensions: (195, 39)\n"
     ]
    }
   ],
   "source": [
    "# clean up the dataset to remove unnecessary columns (eg. REG) \n",
    "df_can.drop(['AREA','REG','DEV','Type','Coverage'], axis=1, inplace=True)\n",
    "\n",
    "# let's rename the columns so that they make sense\n",
    "df_can.rename(columns={'OdName':'Country', 'AreaName':'Continent','RegName':'Region'}, inplace=True)\n",
    "\n",
    "# for sake of consistency, let's also make all column labels of type string\n",
    "df_can.columns = list(map(str, df_can.columns))\n",
    "\n",
    "# add total column\n",
    "df_can['Total'] = df_can.sum(axis=1)\n",
    "\n",
    "# years that we will be using in this lesson - useful for plotting later on\n",
    "years = list(map(str, range(1980, 2014)))\n",
    "print ('data dimensions:', df_can.shape)"
   ]
  },
  {
   "cell_type": "markdown",
   "metadata": {
    "button": false,
    "deletable": true,
    "editable": true,
    "new_sheet": false,
    "run_control": {
     "read_only": false
    }
   },
   "source": [
    "Let's take a look at the first five items of our cleaned dataframe."
   ]
  },
  {
   "cell_type": "code",
   "execution_count": 34,
   "metadata": {
    "button": false,
    "collapsed": false,
    "deletable": true,
    "editable": true,
    "jupyter": {
     "outputs_hidden": false
    },
    "new_sheet": false,
    "run_control": {
     "read_only": false
    }
   },
   "outputs": [
    {
     "data": {
      "text/html": [
       "<div>\n",
       "<style scoped>\n",
       "    .dataframe tbody tr th:only-of-type {\n",
       "        vertical-align: middle;\n",
       "    }\n",
       "\n",
       "    .dataframe tbody tr th {\n",
       "        vertical-align: top;\n",
       "    }\n",
       "\n",
       "    .dataframe thead th {\n",
       "        text-align: right;\n",
       "    }\n",
       "</style>\n",
       "<table border=\"1\" class=\"dataframe\">\n",
       "  <thead>\n",
       "    <tr style=\"text-align: right;\">\n",
       "      <th></th>\n",
       "      <th>Country</th>\n",
       "      <th>Continent</th>\n",
       "      <th>Region</th>\n",
       "      <th>DevName</th>\n",
       "      <th>1980</th>\n",
       "      <th>1981</th>\n",
       "      <th>1982</th>\n",
       "      <th>1983</th>\n",
       "      <th>1984</th>\n",
       "      <th>1985</th>\n",
       "      <th>...</th>\n",
       "      <th>2005</th>\n",
       "      <th>2006</th>\n",
       "      <th>2007</th>\n",
       "      <th>2008</th>\n",
       "      <th>2009</th>\n",
       "      <th>2010</th>\n",
       "      <th>2011</th>\n",
       "      <th>2012</th>\n",
       "      <th>2013</th>\n",
       "      <th>Total</th>\n",
       "    </tr>\n",
       "  </thead>\n",
       "  <tbody>\n",
       "    <tr>\n",
       "      <th>0</th>\n",
       "      <td>Afghanistan</td>\n",
       "      <td>Asia</td>\n",
       "      <td>Southern Asia</td>\n",
       "      <td>Developing regions</td>\n",
       "      <td>16</td>\n",
       "      <td>39</td>\n",
       "      <td>39</td>\n",
       "      <td>47</td>\n",
       "      <td>71</td>\n",
       "      <td>340</td>\n",
       "      <td>...</td>\n",
       "      <td>3436</td>\n",
       "      <td>3009</td>\n",
       "      <td>2652</td>\n",
       "      <td>2111</td>\n",
       "      <td>1746</td>\n",
       "      <td>1758</td>\n",
       "      <td>2203</td>\n",
       "      <td>2635</td>\n",
       "      <td>2004</td>\n",
       "      <td>58639</td>\n",
       "    </tr>\n",
       "    <tr>\n",
       "      <th>1</th>\n",
       "      <td>Albania</td>\n",
       "      <td>Europe</td>\n",
       "      <td>Southern Europe</td>\n",
       "      <td>Developed regions</td>\n",
       "      <td>1</td>\n",
       "      <td>0</td>\n",
       "      <td>0</td>\n",
       "      <td>0</td>\n",
       "      <td>0</td>\n",
       "      <td>0</td>\n",
       "      <td>...</td>\n",
       "      <td>1223</td>\n",
       "      <td>856</td>\n",
       "      <td>702</td>\n",
       "      <td>560</td>\n",
       "      <td>716</td>\n",
       "      <td>561</td>\n",
       "      <td>539</td>\n",
       "      <td>620</td>\n",
       "      <td>603</td>\n",
       "      <td>15699</td>\n",
       "    </tr>\n",
       "    <tr>\n",
       "      <th>2</th>\n",
       "      <td>Algeria</td>\n",
       "      <td>Africa</td>\n",
       "      <td>Northern Africa</td>\n",
       "      <td>Developing regions</td>\n",
       "      <td>80</td>\n",
       "      <td>67</td>\n",
       "      <td>71</td>\n",
       "      <td>69</td>\n",
       "      <td>63</td>\n",
       "      <td>44</td>\n",
       "      <td>...</td>\n",
       "      <td>3626</td>\n",
       "      <td>4807</td>\n",
       "      <td>3623</td>\n",
       "      <td>4005</td>\n",
       "      <td>5393</td>\n",
       "      <td>4752</td>\n",
       "      <td>4325</td>\n",
       "      <td>3774</td>\n",
       "      <td>4331</td>\n",
       "      <td>69439</td>\n",
       "    </tr>\n",
       "    <tr>\n",
       "      <th>3</th>\n",
       "      <td>American Samoa</td>\n",
       "      <td>Oceania</td>\n",
       "      <td>Polynesia</td>\n",
       "      <td>Developing regions</td>\n",
       "      <td>0</td>\n",
       "      <td>1</td>\n",
       "      <td>0</td>\n",
       "      <td>0</td>\n",
       "      <td>0</td>\n",
       "      <td>0</td>\n",
       "      <td>...</td>\n",
       "      <td>0</td>\n",
       "      <td>1</td>\n",
       "      <td>0</td>\n",
       "      <td>0</td>\n",
       "      <td>0</td>\n",
       "      <td>0</td>\n",
       "      <td>0</td>\n",
       "      <td>0</td>\n",
       "      <td>0</td>\n",
       "      <td>6</td>\n",
       "    </tr>\n",
       "    <tr>\n",
       "      <th>4</th>\n",
       "      <td>Andorra</td>\n",
       "      <td>Europe</td>\n",
       "      <td>Southern Europe</td>\n",
       "      <td>Developed regions</td>\n",
       "      <td>0</td>\n",
       "      <td>0</td>\n",
       "      <td>0</td>\n",
       "      <td>0</td>\n",
       "      <td>0</td>\n",
       "      <td>0</td>\n",
       "      <td>...</td>\n",
       "      <td>0</td>\n",
       "      <td>1</td>\n",
       "      <td>1</td>\n",
       "      <td>0</td>\n",
       "      <td>0</td>\n",
       "      <td>0</td>\n",
       "      <td>0</td>\n",
       "      <td>1</td>\n",
       "      <td>1</td>\n",
       "      <td>15</td>\n",
       "    </tr>\n",
       "  </tbody>\n",
       "</table>\n",
       "<p>5 rows × 39 columns</p>\n",
       "</div>"
      ],
      "text/plain": [
       "          Country Continent           Region             DevName  1980  1981  \\\n",
       "0     Afghanistan      Asia    Southern Asia  Developing regions    16    39   \n",
       "1         Albania    Europe  Southern Europe   Developed regions     1     0   \n",
       "2         Algeria    Africa  Northern Africa  Developing regions    80    67   \n",
       "3  American Samoa   Oceania        Polynesia  Developing regions     0     1   \n",
       "4         Andorra    Europe  Southern Europe   Developed regions     0     0   \n",
       "\n",
       "   1982  1983  1984  1985  ...  2005  2006  2007  2008  2009  2010  2011  \\\n",
       "0    39    47    71   340  ...  3436  3009  2652  2111  1746  1758  2203   \n",
       "1     0     0     0     0  ...  1223   856   702   560   716   561   539   \n",
       "2    71    69    63    44  ...  3626  4807  3623  4005  5393  4752  4325   \n",
       "3     0     0     0     0  ...     0     1     0     0     0     0     0   \n",
       "4     0     0     0     0  ...     0     1     1     0     0     0     0   \n",
       "\n",
       "   2012  2013  Total  \n",
       "0  2635  2004  58639  \n",
       "1   620   603  15699  \n",
       "2  3774  4331  69439  \n",
       "3     0     0      6  \n",
       "4     1     1     15  \n",
       "\n",
       "[5 rows x 39 columns]"
      ]
     },
     "execution_count": 34,
     "metadata": {},
     "output_type": "execute_result"
    }
   ],
   "source": [
    "df_can.head()"
   ]
  },
  {
   "cell_type": "markdown",
   "metadata": {
    "button": false,
    "deletable": true,
    "editable": true,
    "new_sheet": false,
    "run_control": {
     "read_only": false
    }
   },
   "source": [
    "In order to create a `Choropleth` map, we need a GeoJSON file that defines the areas/boundaries of the state, county, or country that we are interested in. In our case, since we are endeavoring to create a world map, we want a GeoJSON that defines the boundaries of all world countries. For your convenience, we will be providing you with this file, so let's go ahead and download it. Let's name it **world_countries.json**."
   ]
  },
  {
   "cell_type": "code",
   "execution_count": 41,
   "metadata": {
    "button": false,
    "collapsed": false,
    "deletable": true,
    "editable": true,
    "jupyter": {
     "outputs_hidden": false
    },
    "new_sheet": false,
    "run_control": {
     "read_only": false
    }
   },
   "outputs": [
    {
     "name": "stdout",
     "output_type": "stream",
     "text": [
      "GeoJSON file downloaded!\n"
     ]
    },
    {
     "name": "stderr",
     "output_type": "stream",
     "text": [
      "'wget' is not recognized as an internal or external command,\n",
      "operable program or batch file.\n"
     ]
    }
   ],
   "source": [
    "# download countries geojson file\n",
    "!wget --quiet https://s3-api.us-geo.objectstorage.softlayer.net/cf-courses-data/CognitiveClass/DV0101EN/labs/Data_Files/world_countries.json -O world_countries.json\n",
    "    \n",
    "print('GeoJSON file downloaded!')"
   ]
  },
  {
   "cell_type": "markdown",
   "metadata": {
    "button": false,
    "deletable": true,
    "editable": true,
    "new_sheet": false,
    "run_control": {
     "read_only": false
    }
   },
   "source": [
    "Now that we have the GeoJSON file, let's create a world map, centered around **[0, 0]** *latitude* and *longitude* values, with an intial zoom level of 2, and using *Mapbox Bright* style."
   ]
  },
  {
   "cell_type": "code",
   "execution_count": 42,
   "metadata": {
    "button": false,
    "collapsed": false,
    "deletable": true,
    "editable": true,
    "jupyter": {
     "outputs_hidden": false
    },
    "new_sheet": false,
    "run_control": {
     "read_only": false
    }
   },
   "outputs": [],
   "source": [
    "world_geo = r'world_countries.json' # geojson file\n",
    "\n",
    "# create a plain world map\n",
    "world_map = folium.Map(location=[0, 0], zoom_start=2, tiles='Mapbox Bright')"
   ]
  },
  {
   "cell_type": "markdown",
   "metadata": {
    "button": false,
    "deletable": true,
    "new_sheet": false,
    "run_control": {
     "read_only": false
    }
   },
   "source": [
    "And now to create a `Choropleth` map, we will use the *choropleth* method with the following main parameters:\n",
    "\n",
    "1. geo_data, which is the GeoJSON file.\n",
    "2. data, which is the dataframe containing the data.\n",
    "3. columns, which represents the columns in the dataframe that will be used to create the `Choropleth` map.\n",
    "4. key_on, which is the key or variable in the GeoJSON file that contains the name of the variable of interest. To determine that, you will need to open the GeoJSON file using any text editor and note the name of the key or variable that contains the name of the countries, since the countries are our variable of interest. In this case, **name** is the key in the GeoJSON file that contains the name of the countries. Note that this key is case_sensitive, so you need to pass exactly as it exists in the GeoJSON file."
   ]
  },
  {
   "cell_type": "code",
   "execution_count": 43,
   "metadata": {
    "button": false,
    "deletable": true,
    "new_sheet": false,
    "run_control": {
     "read_only": false
    }
   },
   "outputs": [
    {
     "ename": "ValueError",
     "evalue": "key_on `'properties.name'` not found in GeoJSON.",
     "output_type": "error",
     "traceback": [
      "\u001b[1;31m---------------------------------------------------------------------------\u001b[0m",
      "\u001b[1;31mValueError\u001b[0m                                Traceback (most recent call last)",
      "\u001b[1;32m<ipython-input-43-7f184a1f0918>\u001b[0m in \u001b[0;36m<module>\u001b[1;34m\u001b[0m\n\u001b[0;32m      8\u001b[0m     \u001b[0mfill_opacity\u001b[0m\u001b[1;33m=\u001b[0m\u001b[1;36m0.7\u001b[0m\u001b[1;33m,\u001b[0m\u001b[1;33m\u001b[0m\u001b[1;33m\u001b[0m\u001b[0m\n\u001b[0;32m      9\u001b[0m     \u001b[0mline_opacity\u001b[0m\u001b[1;33m=\u001b[0m\u001b[1;36m0.2\u001b[0m\u001b[1;33m,\u001b[0m\u001b[1;33m\u001b[0m\u001b[1;33m\u001b[0m\u001b[0m\n\u001b[1;32m---> 10\u001b[1;33m     \u001b[0mlegend_name\u001b[0m\u001b[1;33m=\u001b[0m\u001b[1;34m'Immigration to Canada'\u001b[0m\u001b[1;33m\u001b[0m\u001b[1;33m\u001b[0m\u001b[0m\n\u001b[0m\u001b[0;32m     11\u001b[0m )\n\u001b[0;32m     12\u001b[0m \u001b[1;33m\u001b[0m\u001b[0m\n",
      "\u001b[1;32m~\\anaconda3\\lib\\site-packages\\folium\\folium.py\u001b[0m in \u001b[0;36mchoropleth\u001b[1;34m(self, *args, **kwargs)\u001b[0m\n\u001b[0;32m    416\u001b[0m         )\n\u001b[0;32m    417\u001b[0m         \u001b[1;32mfrom\u001b[0m \u001b[0mfolium\u001b[0m\u001b[1;33m.\u001b[0m\u001b[0mfeatures\u001b[0m \u001b[1;32mimport\u001b[0m \u001b[0mChoropleth\u001b[0m\u001b[1;33m\u001b[0m\u001b[1;33m\u001b[0m\u001b[0m\n\u001b[1;32m--> 418\u001b[1;33m         \u001b[0mself\u001b[0m\u001b[1;33m.\u001b[0m\u001b[0madd_child\u001b[0m\u001b[1;33m(\u001b[0m\u001b[0mChoropleth\u001b[0m\u001b[1;33m(\u001b[0m\u001b[1;33m*\u001b[0m\u001b[0margs\u001b[0m\u001b[1;33m,\u001b[0m \u001b[1;33m**\u001b[0m\u001b[0mkwargs\u001b[0m\u001b[1;33m)\u001b[0m\u001b[1;33m)\u001b[0m\u001b[1;33m\u001b[0m\u001b[1;33m\u001b[0m\u001b[0m\n\u001b[0m\u001b[0;32m    419\u001b[0m \u001b[1;33m\u001b[0m\u001b[0m\n\u001b[0;32m    420\u001b[0m     \u001b[1;32mdef\u001b[0m \u001b[0mkeep_in_front\u001b[0m\u001b[1;33m(\u001b[0m\u001b[0mself\u001b[0m\u001b[1;33m,\u001b[0m \u001b[1;33m*\u001b[0m\u001b[0margs\u001b[0m\u001b[1;33m)\u001b[0m\u001b[1;33m:\u001b[0m\u001b[1;33m\u001b[0m\u001b[1;33m\u001b[0m\u001b[0m\n",
      "\u001b[1;32m~\\anaconda3\\lib\\site-packages\\folium\\features.py\u001b[0m in \u001b[0;36m__init__\u001b[1;34m(self, geo_data, data, columns, key_on, bins, fill_color, nan_fill_color, fill_opacity, nan_fill_opacity, line_color, line_weight, line_opacity, name, legend_name, overlay, control, show, topojson, smooth_factor, highlight, **kwargs)\u001b[0m\n\u001b[0;32m   1249\u001b[0m                 \u001b[0mstyle_function\u001b[0m\u001b[1;33m=\u001b[0m\u001b[0mstyle_function\u001b[0m\u001b[1;33m,\u001b[0m\u001b[1;33m\u001b[0m\u001b[1;33m\u001b[0m\u001b[0m\n\u001b[0;32m   1250\u001b[0m                 \u001b[0msmooth_factor\u001b[0m\u001b[1;33m=\u001b[0m\u001b[0msmooth_factor\u001b[0m\u001b[1;33m,\u001b[0m\u001b[1;33m\u001b[0m\u001b[1;33m\u001b[0m\u001b[0m\n\u001b[1;32m-> 1251\u001b[1;33m                 highlight_function=highlight_function if highlight else None)\n\u001b[0m\u001b[0;32m   1252\u001b[0m \u001b[1;33m\u001b[0m\u001b[0m\n\u001b[0;32m   1253\u001b[0m         \u001b[0mself\u001b[0m\u001b[1;33m.\u001b[0m\u001b[0madd_child\u001b[0m\u001b[1;33m(\u001b[0m\u001b[0mself\u001b[0m\u001b[1;33m.\u001b[0m\u001b[0mgeojson\u001b[0m\u001b[1;33m)\u001b[0m\u001b[1;33m\u001b[0m\u001b[1;33m\u001b[0m\u001b[0m\n",
      "\u001b[1;32m~\\anaconda3\\lib\\site-packages\\folium\\features.py\u001b[0m in \u001b[0;36m__init__\u001b[1;34m(self, data, style_function, highlight_function, name, overlay, control, show, smooth_factor, tooltip, embed, popup)\u001b[0m\n\u001b[0;32m    456\u001b[0m             \u001b[0mself\u001b[0m\u001b[1;33m.\u001b[0m\u001b[0mconvert_to_feature_collection\u001b[0m\u001b[1;33m(\u001b[0m\u001b[1;33m)\u001b[0m\u001b[1;33m\u001b[0m\u001b[1;33m\u001b[0m\u001b[0m\n\u001b[0;32m    457\u001b[0m             \u001b[1;32mif\u001b[0m \u001b[0mself\u001b[0m\u001b[1;33m.\u001b[0m\u001b[0mstyle\u001b[0m\u001b[1;33m:\u001b[0m\u001b[1;33m\u001b[0m\u001b[1;33m\u001b[0m\u001b[0m\n\u001b[1;32m--> 458\u001b[1;33m                 \u001b[0mself\u001b[0m\u001b[1;33m.\u001b[0m\u001b[0m_validate_function\u001b[0m\u001b[1;33m(\u001b[0m\u001b[0mstyle_function\u001b[0m\u001b[1;33m,\u001b[0m \u001b[1;34m'style_function'\u001b[0m\u001b[1;33m)\u001b[0m\u001b[1;33m\u001b[0m\u001b[1;33m\u001b[0m\u001b[0m\n\u001b[0m\u001b[0;32m    459\u001b[0m                 \u001b[0mself\u001b[0m\u001b[1;33m.\u001b[0m\u001b[0mstyle_function\u001b[0m \u001b[1;33m=\u001b[0m \u001b[0mstyle_function\u001b[0m\u001b[1;33m\u001b[0m\u001b[1;33m\u001b[0m\u001b[0m\n\u001b[0;32m    460\u001b[0m                 \u001b[0mself\u001b[0m\u001b[1;33m.\u001b[0m\u001b[0mstyle_map\u001b[0m \u001b[1;33m=\u001b[0m \u001b[1;33m{\u001b[0m\u001b[1;33m}\u001b[0m\u001b[1;33m\u001b[0m\u001b[1;33m\u001b[0m\u001b[0m\n",
      "\u001b[1;32m~\\anaconda3\\lib\\site-packages\\folium\\features.py\u001b[0m in \u001b[0;36m_validate_function\u001b[1;34m(self, func, name)\u001b[0m\n\u001b[0;32m    521\u001b[0m         \"\"\"\n\u001b[0;32m    522\u001b[0m         \u001b[0mtest_feature\u001b[0m \u001b[1;33m=\u001b[0m \u001b[0mself\u001b[0m\u001b[1;33m.\u001b[0m\u001b[0mdata\u001b[0m\u001b[1;33m[\u001b[0m\u001b[1;34m'features'\u001b[0m\u001b[1;33m]\u001b[0m\u001b[1;33m[\u001b[0m\u001b[1;36m0\u001b[0m\u001b[1;33m]\u001b[0m\u001b[1;33m\u001b[0m\u001b[1;33m\u001b[0m\u001b[0m\n\u001b[1;32m--> 523\u001b[1;33m         \u001b[1;32mif\u001b[0m \u001b[1;32mnot\u001b[0m \u001b[0mcallable\u001b[0m\u001b[1;33m(\u001b[0m\u001b[0mfunc\u001b[0m\u001b[1;33m)\u001b[0m \u001b[1;32mor\u001b[0m \u001b[1;32mnot\u001b[0m \u001b[0misinstance\u001b[0m\u001b[1;33m(\u001b[0m\u001b[0mfunc\u001b[0m\u001b[1;33m(\u001b[0m\u001b[0mtest_feature\u001b[0m\u001b[1;33m)\u001b[0m\u001b[1;33m,\u001b[0m \u001b[0mdict\u001b[0m\u001b[1;33m)\u001b[0m\u001b[1;33m:\u001b[0m\u001b[1;33m\u001b[0m\u001b[1;33m\u001b[0m\u001b[0m\n\u001b[0m\u001b[0;32m    524\u001b[0m             raise ValueError('{} should be a function that accepts items from '\n\u001b[0;32m    525\u001b[0m                              \u001b[1;34m'data[\\'features\\'] and returns a dictionary.'\u001b[0m\u001b[1;33m\u001b[0m\u001b[1;33m\u001b[0m\u001b[0m\n",
      "\u001b[1;32m~\\anaconda3\\lib\\site-packages\\folium\\features.py\u001b[0m in \u001b[0;36mstyle_function\u001b[1;34m(x)\u001b[0m\n\u001b[0;32m   1223\u001b[0m \u001b[1;33m\u001b[0m\u001b[0m\n\u001b[0;32m   1224\u001b[0m         \u001b[1;32mdef\u001b[0m \u001b[0mstyle_function\u001b[0m\u001b[1;33m(\u001b[0m\u001b[0mx\u001b[0m\u001b[1;33m)\u001b[0m\u001b[1;33m:\u001b[0m\u001b[1;33m\u001b[0m\u001b[1;33m\u001b[0m\u001b[0m\n\u001b[1;32m-> 1225\u001b[1;33m             \u001b[0mcolor\u001b[0m\u001b[1;33m,\u001b[0m \u001b[0mopacity\u001b[0m \u001b[1;33m=\u001b[0m \u001b[0mcolor_scale_fun\u001b[0m\u001b[1;33m(\u001b[0m\u001b[0mx\u001b[0m\u001b[1;33m)\u001b[0m\u001b[1;33m\u001b[0m\u001b[1;33m\u001b[0m\u001b[0m\n\u001b[0m\u001b[0;32m   1226\u001b[0m             return {\n\u001b[0;32m   1227\u001b[0m                 \u001b[1;34m'weight'\u001b[0m\u001b[1;33m:\u001b[0m \u001b[0mline_weight\u001b[0m\u001b[1;33m,\u001b[0m\u001b[1;33m\u001b[0m\u001b[1;33m\u001b[0m\u001b[0m\n",
      "\u001b[1;32m~\\anaconda3\\lib\\site-packages\\folium\\features.py\u001b[0m in \u001b[0;36mcolor_scale_fun\u001b[1;34m(x)\u001b[0m\n\u001b[0;32m   1206\u001b[0m                 \u001b[0mkey_of_x\u001b[0m \u001b[1;33m=\u001b[0m \u001b[0mget_by_key\u001b[0m\u001b[1;33m(\u001b[0m\u001b[0mx\u001b[0m\u001b[1;33m,\u001b[0m \u001b[0mkey_on\u001b[0m\u001b[1;33m)\u001b[0m\u001b[1;33m\u001b[0m\u001b[1;33m\u001b[0m\u001b[0m\n\u001b[0;32m   1207\u001b[0m                 \u001b[1;32mif\u001b[0m \u001b[0mkey_of_x\u001b[0m \u001b[1;32mis\u001b[0m \u001b[1;32mNone\u001b[0m\u001b[1;33m:\u001b[0m\u001b[1;33m\u001b[0m\u001b[1;33m\u001b[0m\u001b[0m\n\u001b[1;32m-> 1208\u001b[1;33m                     \u001b[1;32mraise\u001b[0m \u001b[0mValueError\u001b[0m\u001b[1;33m(\u001b[0m\u001b[1;34m\"key_on `{!r}` not found in GeoJSON.\"\u001b[0m\u001b[1;33m.\u001b[0m\u001b[0mformat\u001b[0m\u001b[1;33m(\u001b[0m\u001b[0mkey_on\u001b[0m\u001b[1;33m)\u001b[0m\u001b[1;33m)\u001b[0m\u001b[1;33m\u001b[0m\u001b[1;33m\u001b[0m\u001b[0m\n\u001b[0m\u001b[0;32m   1209\u001b[0m \u001b[1;33m\u001b[0m\u001b[0m\n\u001b[0;32m   1210\u001b[0m                 \u001b[1;32mif\u001b[0m \u001b[0mkey_of_x\u001b[0m \u001b[1;32mnot\u001b[0m \u001b[1;32min\u001b[0m \u001b[0mcolor_data\u001b[0m\u001b[1;33m.\u001b[0m\u001b[0mkeys\u001b[0m\u001b[1;33m(\u001b[0m\u001b[1;33m)\u001b[0m\u001b[1;33m:\u001b[0m\u001b[1;33m\u001b[0m\u001b[1;33m\u001b[0m\u001b[0m\n",
      "\u001b[1;31mValueError\u001b[0m: key_on `'properties.name'` not found in GeoJSON."
     ]
    }
   ],
   "source": [
    "# generate choropleth map using the total immigration of each country to Canada from 1980 to 2013\n",
    "world_map.choropleth(\n",
    "    geo_data=world_geo,\n",
    "    data=df_can,\n",
    "    columns=['Country', 'Total'],\n",
    "    key_on='feature.properties.name',\n",
    "    fill_color='YlOrRd', \n",
    "    fill_opacity=0.7, \n",
    "    line_opacity=0.2,\n",
    "    legend_name='Immigration to Canada'\n",
    ")\n",
    "\n",
    "# display map\n",
    "world_map"
   ]
  },
  {
   "cell_type": "markdown",
   "metadata": {
    "button": false,
    "deletable": true,
    "editable": true,
    "new_sheet": false,
    "run_control": {
     "read_only": false
    }
   },
   "source": [
    "As per our `Choropleth` map legend, the darker the color of a country and the closer the color to red, the higher the number of immigrants from that country. Accordingly, the highest immigration over the course of 33 years (from 1980 to 2013) was from China, India, and the Philippines, followed by Poland, Pakistan, and interestingly, the US."
   ]
  },
  {
   "cell_type": "markdown",
   "metadata": {
    "button": false,
    "deletable": true,
    "editable": true,
    "new_sheet": false,
    "run_control": {
     "read_only": false
    }
   },
   "source": [
    "Notice how the legend is displaying a negative boundary or threshold. Let's fix that by defining our own thresholds and starting with 0 instead of -6,918!"
   ]
  },
  {
   "cell_type": "code",
   "execution_count": null,
   "metadata": {
    "button": false,
    "collapsed": false,
    "deletable": true,
    "editable": true,
    "jupyter": {
     "outputs_hidden": false
    },
    "new_sheet": false,
    "run_control": {
     "read_only": false
    }
   },
   "outputs": [],
   "source": [
    "world_geo = r'world_countries.json'\n",
    "\n",
    "# create a numpy array of length 6 and has linear spacing from the minium total immigration to the maximum total immigration\n",
    "threshold_scale = np.linspace(df_can['Total'].min(),\n",
    "                              df_can['Total'].max(),\n",
    "                              6, dtype=int)\n",
    "threshold_scale = threshold_scale.tolist() # change the numpy array to a list\n",
    "threshold_scale[-1] = threshold_scale[-1] + 1 # make sure that the last value of the list is greater than the maximum immigration\n",
    "\n",
    "# let Folium determine the scale.\n",
    "world_map = folium.Map(location=[0, 0], zoom_start=2, tiles='Mapbox Bright')\n",
    "world_map.choropleth(\n",
    "    geo_data=world_geo,\n",
    "    data=df_can,\n",
    "    columns=['Country', 'Total'],\n",
    "    key_on='feature.properties.name',\n",
    "    threshold_scale=threshold_scale,\n",
    "    fill_color='YlOrRd', \n",
    "    fill_opacity=0.7, \n",
    "    line_opacity=0.2,\n",
    "    legend_name='Immigration to Canada',\n",
    "    reset=True\n",
    ")\n",
    "world_map"
   ]
  },
  {
   "cell_type": "markdown",
   "metadata": {
    "button": false,
    "deletable": true,
    "editable": true,
    "new_sheet": false,
    "run_control": {
     "read_only": false
    }
   },
   "source": [
    "Much better now! Feel free to play around with the data and perhaps create `Choropleth` maps for individuals years, or perhaps decades, and see how they compare with the entire period from 1980 to 2013."
   ]
  },
  {
   "cell_type": "markdown",
   "metadata": {
    "button": false,
    "deletable": true,
    "editable": true,
    "new_sheet": false,
    "run_control": {
     "read_only": false
    }
   },
   "source": [
    "### Thank you for completing this lab!\n",
    "\n",
    "This notebook was created by [Alex Aklson](https://www.linkedin.com/in/aklson/). I hope you found this lab interesting and educational. Feel free to contact me if you have any questions!"
   ]
  },
  {
   "cell_type": "markdown",
   "metadata": {
    "button": false,
    "deletable": true,
    "editable": true,
    "new_sheet": false,
    "run_control": {
     "read_only": false
    }
   },
   "source": [
    "This notebook is part of a course on **Coursera** called *Data Visualization with Python*. If you accessed this notebook outside the course, you can take this course online by clicking [here](http://cocl.us/DV0101EN_Coursera_Week3_LAB2)."
   ]
  },
  {
   "cell_type": "markdown",
   "metadata": {
    "button": false,
    "deletable": true,
    "editable": true,
    "new_sheet": false,
    "run_control": {
     "read_only": false
    }
   },
   "source": [
    "<hr>\n",
    "\n",
    "Copyright &copy; 2019 [Cognitive Class](https://cognitiveclass.ai/?utm_source=bducopyrightlink&utm_medium=dswb&utm_campaign=bdu). This notebook and its source code are released under the terms of the [MIT License](https://bigdatauniversity.com/mit-license/)."
   ]
  }
 ],
 "metadata": {
  "kernelspec": {
   "display_name": "Python 3",
   "language": "python",
   "name": "python3"
  },
  "language_info": {
   "codemirror_mode": {
    "name": "ipython",
    "version": 3
   },
   "file_extension": ".py",
   "mimetype": "text/x-python",
   "name": "python",
   "nbconvert_exporter": "python",
   "pygments_lexer": "ipython3",
   "version": "3.7.6"
  },
  "widgets": {
   "state": {},
   "version": "1.1.2"
  }
 },
 "nbformat": 4,
 "nbformat_minor": 4
}
