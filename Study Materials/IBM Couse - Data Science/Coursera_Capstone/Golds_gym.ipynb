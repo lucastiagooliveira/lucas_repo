{
 "cells": [
  {
   "cell_type": "markdown",
   "metadata": {},
   "source": [
    "# Looking for another place to increase the Gold's Gym"
   ]
  },
  {
   "cell_type": "markdown",
   "metadata": {},
   "source": [
    "## Explane the problem"
   ]
  },
  {
   "cell_type": "markdown",
   "metadata": {},
   "source": [
    "The Gold's Gym is, maybe, the most famous gyms network in the world. More especially, the unity located in Los Angeles (735 S Figueroa St Ste 100, Los Angeles, CA 90017, Estados Unidos), where is very crownded because have many users using the same place at same time. For spread and don't lose yours clients, the owner had one idea: \"I want open new gym around 500 meters the old gym!\". But he knows in this neighborhood have a lot of competitors with another gyms, for decrase the change to lose clients the ower wants to know how he can open the new gym station in location with less concurrents."
   ]
  },
  {
   "cell_type": "markdown",
   "metadata": {},
   "source": [
    "## What's the dataset we need to solve this problem?"
   ]
  },
  {
   "cell_type": "markdown",
   "metadata": {},
   "source": [
    "For solve this problem, we need to get through the Foursqure API the location of another gyms arround the Gold's Gym and for cluster those gyms we'll use the K-Means algorithm.\n",
    "\n",
    "To determine the cardial point is better to implant new gym, we'll use the initial point to K-Means algorithm, in that turn tends to return the cluster with the another gyms surrounding the Gold's Gym. The region with less concurrence could be the best place to create a new establishment."
   ]
  },
  {
   "cell_type": "markdown",
   "metadata": {},
   "source": [
    "## Solving the problem"
   ]
  },
  {
   "cell_type": "markdown",
   "metadata": {},
   "source": [
    "### Importing Library"
   ]
  },
  {
   "cell_type": "code",
   "execution_count": 1,
   "metadata": {},
   "outputs": [],
   "source": [
    "import requests # library to handle requests\n",
    "import pandas as pd # library for data analsysis\n",
    "import numpy as np # library to handle data in a vectorized manner\n",
    "import random # library for random number generation\n",
    "\n",
    "from geopy.geocoders import Nominatim # module to convert an address into latitude and longitude values\n",
    "\n",
    "# libraries for displaying images\n",
    "from IPython.display import Image \n",
    "from IPython.core.display import HTML \n",
    "    \n",
    "# tranforming json file into a pandas dataframe library\n",
    "from pandas.io.json import json_normalize\n",
    "\n",
    "import folium # plotting library\n",
    "\n",
    "from sklearn.cluster import KMeans #KMeans library\n",
    "from sklearn.preprocessing import scale\n",
    "\n",
    "# Matplotlib and associated plotting modules\n",
    "import matplotlib.cm as cm\n",
    "import matplotlib.colors as colors"
   ]
  },
  {
   "cell_type": "markdown",
   "metadata": {},
   "source": [
    "### Importing the Foursquare API"
   ]
  },
  {
   "cell_type": "code",
   "execution_count": 2,
   "metadata": {},
   "outputs": [],
   "source": [
    "CLIENT_ID = '3JTWJGZF0FAEOFU2K5US1I4O1QG3U2YLRANJHSL33PW4RCPS' # your Foursquare ID\n",
    "CLIENT_SECRET = 'OWEUK2ZOE4MBDSV4CBP5MPAYWO3D22VTMNVQNDB4PDURIXOJ' # your Foursquare Secret\n",
    "VERSION = '20180604' # version of foursquare api\n",
    "LIMIT = 500 #limit of output"
   ]
  },
  {
   "cell_type": "code",
   "execution_count": 3,
   "metadata": {},
   "outputs": [
    {
     "data": {
      "text/plain": [
       "'https://api.foursquare.com/v2/venues/search?client_id=3JTWJGZF0FAEOFU2K5US1I4O1QG3U2YLRANJHSL33PW4RCPS&client_secret=OWEUK2ZOE4MBDSV4CBP5MPAYWO3D22VTMNVQNDB4PDURIXOJ&ll=34.048660,\\t-118.260450&v=20180604&query=Gym&radius=800&limit=500'"
      ]
     },
     "execution_count": 3,
     "metadata": {},
     "output_type": "execute_result"
    }
   ],
   "source": [
    "# Latitude and longitude of Gold's Gym\n",
    "latitude = '34.048660'\n",
    "longitude = '\t-118.260450'\n",
    "# Query for input on foursquare\n",
    "search_query = 'Gym'\n",
    "#Radius of search on map\n",
    "radius =800\n",
    "# URL \n",
    "url = 'https://api.foursquare.com/v2/venues/search?client_id={}&client_secret={}&ll={},{}&v={}&query={}&radius={}&limit={}'.format(CLIENT_ID, CLIENT_SECRET, latitude, longitude, VERSION, search_query, radius, LIMIT)\n",
    "url"
   ]
  },
  {
   "cell_type": "code",
   "execution_count": 4,
   "metadata": {},
   "outputs": [],
   "source": [
    "results = requests.get(url).json() #Json generated in foursquare api"
   ]
  },
  {
   "cell_type": "markdown",
   "metadata": {},
   "source": [
    "### Data mining"
   ]
  },
  {
   "cell_type": "code",
   "execution_count": 5,
   "metadata": {},
   "outputs": [
    {
     "name": "stderr",
     "output_type": "stream",
     "text": [
      "C:\\Users\\lucas\\anaconda3\\lib\\site-packages\\ipykernel_launcher.py:5: FutureWarning: pandas.io.json.json_normalize is deprecated, use pandas.json_normalize instead\n",
      "  \"\"\"\n"
     ]
    },
    {
     "data": {
      "text/plain": [
       "(49, 18)"
      ]
     },
     "execution_count": 5,
     "metadata": {},
     "output_type": "execute_result"
    }
   ],
   "source": [
    "# assign relevant part of JSON to venues\n",
    "gyms = results['response']['venues']\n",
    "\n",
    "# tranform json into a dataframe\n",
    "df = json_normalize(gyms)\n",
    "# drop the first row, because this is the Gold's Gym location\n",
    "df = df.drop(0, axis = 0)\n",
    "#reset index the in\n",
    "df.reset_index(drop = True, inplace = True)\n",
    "# show the shape of the dataframe \n",
    "df.shape"
   ]
  },
  {
   "cell_type": "code",
   "execution_count": 6,
   "metadata": {},
   "outputs": [
    {
     "data": {
      "text/html": [
       "<div>\n",
       "<style scoped>\n",
       "    .dataframe tbody tr th:only-of-type {\n",
       "        vertical-align: middle;\n",
       "    }\n",
       "\n",
       "    .dataframe tbody tr th {\n",
       "        vertical-align: top;\n",
       "    }\n",
       "\n",
       "    .dataframe thead th {\n",
       "        text-align: right;\n",
       "    }\n",
       "</style>\n",
       "<table border=\"1\" class=\"dataframe\">\n",
       "  <thead>\n",
       "    <tr style=\"text-align: right;\">\n",
       "      <th></th>\n",
       "      <th>name</th>\n",
       "      <th>categories</th>\n",
       "      <th>address</th>\n",
       "      <th>crossStreet</th>\n",
       "      <th>lat</th>\n",
       "      <th>lng</th>\n",
       "      <th>labeledLatLngs</th>\n",
       "      <th>distance</th>\n",
       "      <th>postalCode</th>\n",
       "      <th>cc</th>\n",
       "      <th>city</th>\n",
       "      <th>state</th>\n",
       "      <th>country</th>\n",
       "      <th>formattedAddress</th>\n",
       "      <th>id</th>\n",
       "    </tr>\n",
       "  </thead>\n",
       "  <tbody>\n",
       "    <tr>\n",
       "      <th>0</th>\n",
       "      <td>The Gym at The Standard, Downtown LA</td>\n",
       "      <td>Gym</td>\n",
       "      <td>550 S Flower St</td>\n",
       "      <td>6th Street</td>\n",
       "      <td>34.050159</td>\n",
       "      <td>-118.256973</td>\n",
       "      <td>[{'label': 'display', 'lat': 34.0501594543457,...</td>\n",
       "      <td>361</td>\n",
       "      <td>90071</td>\n",
       "      <td>US</td>\n",
       "      <td>Los Angeles</td>\n",
       "      <td>CA</td>\n",
       "      <td>United States</td>\n",
       "      <td>[550 S Flower St (6th Street), Los Angeles, CA...</td>\n",
       "      <td>4c12716877cea593810bcd60</td>\n",
       "    </tr>\n",
       "    <tr>\n",
       "      <th>1</th>\n",
       "      <td>1100 Wilshire Gym</td>\n",
       "      <td>Gym</td>\n",
       "      <td>1100 Wilshire Blvd</td>\n",
       "      <td>Bixel</td>\n",
       "      <td>34.052421</td>\n",
       "      <td>-118.263674</td>\n",
       "      <td>[{'label': 'display', 'lat': 34.05242144083761...</td>\n",
       "      <td>513</td>\n",
       "      <td>90017</td>\n",
       "      <td>US</td>\n",
       "      <td>Los Angeles</td>\n",
       "      <td>CA</td>\n",
       "      <td>United States</td>\n",
       "      <td>[1100 Wilshire Blvd (Bixel), Los Angeles, CA 9...</td>\n",
       "      <td>4ca3b9661ee76dcb4ba8fbdd</td>\n",
       "    </tr>\n",
       "    <tr>\n",
       "      <th>2</th>\n",
       "      <td>Pegasus Rooftop Gym</td>\n",
       "      <td>Gym</td>\n",
       "      <td>612 S Flower St</td>\n",
       "      <td>btw 6th &amp; Wilshire</td>\n",
       "      <td>34.049879</td>\n",
       "      <td>-118.257211</td>\n",
       "      <td>[{'label': 'display', 'lat': 34.04987890803485...</td>\n",
       "      <td>328</td>\n",
       "      <td>90017</td>\n",
       "      <td>US</td>\n",
       "      <td>Los Angeles</td>\n",
       "      <td>CA</td>\n",
       "      <td>United States</td>\n",
       "      <td>[612 S Flower St (btw 6th &amp; Wilshire), Los Ang...</td>\n",
       "      <td>4c6ebc6910faa1431899f168</td>\n",
       "    </tr>\n",
       "    <tr>\n",
       "      <th>3</th>\n",
       "      <td>717 8th Floor Gym</td>\n",
       "      <td>Gym</td>\n",
       "      <td>717 W Olympic Blvd</td>\n",
       "      <td>Figueroa</td>\n",
       "      <td>34.045090</td>\n",
       "      <td>-118.263321</td>\n",
       "      <td>[{'label': 'display', 'lat': 34.04508972167969...</td>\n",
       "      <td>477</td>\n",
       "      <td>90015</td>\n",
       "      <td>US</td>\n",
       "      <td>Los Angeles</td>\n",
       "      <td>CA</td>\n",
       "      <td>United States</td>\n",
       "      <td>[717 W Olympic Blvd (Figueroa), Los Angeles, C...</td>\n",
       "      <td>4d55f1e258856dcbd7f2506d</td>\n",
       "    </tr>\n",
       "    <tr>\n",
       "      <th>4</th>\n",
       "      <td>Piero Gym</td>\n",
       "      <td>Gym</td>\n",
       "      <td>616 St Paul Ave</td>\n",
       "      <td>at Wilshire Blvd</td>\n",
       "      <td>34.052731</td>\n",
       "      <td>-118.260895</td>\n",
       "      <td>[{'label': 'display', 'lat': 34.05273056030273...</td>\n",
       "      <td>454</td>\n",
       "      <td>90017</td>\n",
       "      <td>US</td>\n",
       "      <td>Los Angeles</td>\n",
       "      <td>CA</td>\n",
       "      <td>United States</td>\n",
       "      <td>[616 St Paul Ave (at Wilshire Blvd), Los Angel...</td>\n",
       "      <td>4bcf67bf046076b0023e6e71</td>\n",
       "    </tr>\n",
       "  </tbody>\n",
       "</table>\n",
       "</div>"
      ],
      "text/plain": [
       "                                   name categories             address  \\\n",
       "0  The Gym at The Standard, Downtown LA        Gym     550 S Flower St   \n",
       "1                     1100 Wilshire Gym        Gym  1100 Wilshire Blvd   \n",
       "2                   Pegasus Rooftop Gym        Gym     612 S Flower St   \n",
       "3                     717 8th Floor Gym        Gym  717 W Olympic Blvd   \n",
       "4                             Piero Gym        Gym     616 St Paul Ave   \n",
       "\n",
       "          crossStreet        lat         lng  \\\n",
       "0          6th Street  34.050159 -118.256973   \n",
       "1               Bixel  34.052421 -118.263674   \n",
       "2  btw 6th & Wilshire  34.049879 -118.257211   \n",
       "3            Figueroa  34.045090 -118.263321   \n",
       "4    at Wilshire Blvd  34.052731 -118.260895   \n",
       "\n",
       "                                      labeledLatLngs  distance postalCode  cc  \\\n",
       "0  [{'label': 'display', 'lat': 34.0501594543457,...       361      90071  US   \n",
       "1  [{'label': 'display', 'lat': 34.05242144083761...       513      90017  US   \n",
       "2  [{'label': 'display', 'lat': 34.04987890803485...       328      90017  US   \n",
       "3  [{'label': 'display', 'lat': 34.04508972167969...       477      90015  US   \n",
       "4  [{'label': 'display', 'lat': 34.05273056030273...       454      90017  US   \n",
       "\n",
       "          city state        country  \\\n",
       "0  Los Angeles    CA  United States   \n",
       "1  Los Angeles    CA  United States   \n",
       "2  Los Angeles    CA  United States   \n",
       "3  Los Angeles    CA  United States   \n",
       "4  Los Angeles    CA  United States   \n",
       "\n",
       "                                    formattedAddress                        id  \n",
       "0  [550 S Flower St (6th Street), Los Angeles, CA...  4c12716877cea593810bcd60  \n",
       "1  [1100 Wilshire Blvd (Bixel), Los Angeles, CA 9...  4ca3b9661ee76dcb4ba8fbdd  \n",
       "2  [612 S Flower St (btw 6th & Wilshire), Los Ang...  4c6ebc6910faa1431899f168  \n",
       "3  [717 W Olympic Blvd (Figueroa), Los Angeles, C...  4d55f1e258856dcbd7f2506d  \n",
       "4  [616 St Paul Ave (at Wilshire Blvd), Los Angel...  4bcf67bf046076b0023e6e71  "
      ]
     },
     "execution_count": 6,
     "metadata": {},
     "output_type": "execute_result"
    }
   ],
   "source": [
    "# keep only columns that include venue name, and anything that is associated with location\n",
    "filtered_columns = ['name', 'categories'] + [col for col in df.columns if col.startswith('location.')] + ['id']\n",
    "dataframe_filtered = df.loc[:, filtered_columns]\n",
    "\n",
    "# function that extracts the category of the venue\n",
    "def get_category_type(row):\n",
    "    try:\n",
    "        categories_list = row['categories']\n",
    "    except:\n",
    "        categories_list = row['venue.categories']\n",
    "        \n",
    "    if len(categories_list) == 0:\n",
    "        return None\n",
    "    else:\n",
    "        return categories_list[0]['name']\n",
    "\n",
    "# filter the category for each row\n",
    "dataframe_filtered['categories'] = dataframe_filtered.apply(get_category_type, axis=1)\n",
    "\n",
    "# clean column names by keeping only last term\n",
    "dataframe_filtered.columns = [column.split('.')[-1] for column in dataframe_filtered.columns]\n",
    "\n",
    "dataframe_filtered.head()"
   ]
  },
  {
   "cell_type": "markdown",
   "metadata": {},
   "source": [
    "### Printing the Map"
   ]
  },
  {
   "cell_type": "code",
   "execution_count": 7,
   "metadata": {},
   "outputs": [
    {
     "data": {
      "text/html": [
       "<div style=\"width:100%;\"><div style=\"position:relative;width:100%;height:0;padding-bottom:60%;\"><span style=\"color:#565656\">Make this Notebook Trusted to load map: File -> Trust Notebook</span><iframe src=\"about:blank\" style=\"position:absolute;width:100%;height:100%;left:0;top:0;border:none !important;\" data-html=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 onload=\"this.contentDocument.open();this.contentDocument.write(atob(this.getAttribute('data-html')));this.contentDocument.close();\" allowfullscreen webkitallowfullscreen mozallowfullscreen></iframe></div></div>"
      ],
      "text/plain": [
       "<folium.folium.Map at 0x1d92def7a08>"
      ]
     },
     "execution_count": 7,
     "metadata": {},
     "output_type": "execute_result"
    }
   ],
   "source": [
    "gym_map = folium.Map(location=[latitude, longitude], zoom_start=15) # generate map centred around the Gold's Gym\n",
    "\n",
    "# add a red circle marker to represent the Gold's Gym\n",
    "folium.Marker(\n",
    "    [latitude, longitude],\n",
    "    radius=10,\n",
    "    color='red',\n",
    "    popup=\"Gold's Gym\",\n",
    "    fill = True,\n",
    "    fill_color = 'red',\n",
    "    fill_opacity = 0.6\n",
    "    ).add_to(gym_map)\n",
    "\n",
    "# add the Italian restaurants as blue circle markers\n",
    "for lat, lng, label in zip(dataframe_filtered.lat, dataframe_filtered.lng, dataframe_filtered.name):\n",
    "    folium.CircleMarker(\n",
    "        [lat, lng],\n",
    "        radius=5,\n",
    "        color='blue',\n",
    "        popup=label,\n",
    "        fill = True,\n",
    "        fill_color='blue',\n",
    "        fill_opacity=0.6\n",
    "    ).add_to(gym_map)\n",
    "\n",
    "# display map\n",
    "gym_map"
   ]
  },
  {
   "cell_type": "markdown",
   "metadata": {},
   "source": [
    "### Clustering the locations"
   ]
  },
  {
   "cell_type": "code",
   "execution_count": 8,
   "metadata": {},
   "outputs": [],
   "source": [
    "# filtring dataframe for best localization in map\n",
    "x = dataframe_filtered[['lat', 'lng']]\n",
    "# seting the start point for KMeans methods, because this represents cardinal points\n",
    "start_point = np.array([[34.06079,-118.264444],[34.031588,-118.260010],[34.049686,-118.284829],[34.048864,-118.237971]])"
   ]
  },
  {
   "cell_type": "code",
   "execution_count": 9,
   "metadata": {},
   "outputs": [
    {
     "name": "stderr",
     "output_type": "stream",
     "text": [
      "C:\\Users\\lucas\\anaconda3\\lib\\site-packages\\ipykernel_launcher.py:6: RuntimeWarning: Explicit initial center position passed: performing only one init in k-means instead of n_init=10\n",
      "  \n"
     ]
    },
    {
     "data": {
      "text/plain": [
       "KMeans(algorithm='auto', copy_x=True,\n",
       "       init=array([[  34.06079 , -118.264444],\n",
       "       [  34.031588, -118.26001 ],\n",
       "       [  34.049686, -118.284829],\n",
       "       [  34.048864, -118.237971]]),\n",
       "       max_iter=500, n_clusters=4, n_init=10, n_jobs=None,\n",
       "       precompute_distances='auto', random_state=None, tol=0.0001, verbose=0)"
      ]
     },
     "execution_count": 9,
     "metadata": {},
     "output_type": "execute_result"
    }
   ],
   "source": [
    "# scaling the data\n",
    "data = scale(x)\n",
    "# start_point = scale(start_point)\n",
    "neigh = KMeans(n_clusters = 4, init = start_point, max_iter = 500)\n",
    "#fit the model\n",
    "neigh.fit(x)"
   ]
  },
  {
   "cell_type": "code",
   "execution_count": 10,
   "metadata": {},
   "outputs": [],
   "source": [
    "# insert the cluster labels into data frame\n",
    "dataframe_filtered.insert(0, 'Cluster Labels', neigh.labels_)"
   ]
  },
  {
   "cell_type": "code",
   "execution_count": 11,
   "metadata": {},
   "outputs": [
    {
     "data": {
      "text/html": [
       "<div>\n",
       "<style scoped>\n",
       "    .dataframe tbody tr th:only-of-type {\n",
       "        vertical-align: middle;\n",
       "    }\n",
       "\n",
       "    .dataframe tbody tr th {\n",
       "        vertical-align: top;\n",
       "    }\n",
       "\n",
       "    .dataframe thead th {\n",
       "        text-align: right;\n",
       "    }\n",
       "</style>\n",
       "<table border=\"1\" class=\"dataframe\">\n",
       "  <thead>\n",
       "    <tr style=\"text-align: right;\">\n",
       "      <th></th>\n",
       "      <th>Cluster Labels</th>\n",
       "      <th>name</th>\n",
       "      <th>categories</th>\n",
       "      <th>address</th>\n",
       "      <th>crossStreet</th>\n",
       "      <th>lat</th>\n",
       "      <th>lng</th>\n",
       "      <th>labeledLatLngs</th>\n",
       "      <th>distance</th>\n",
       "      <th>postalCode</th>\n",
       "      <th>cc</th>\n",
       "      <th>city</th>\n",
       "      <th>state</th>\n",
       "      <th>country</th>\n",
       "      <th>formattedAddress</th>\n",
       "      <th>id</th>\n",
       "    </tr>\n",
       "  </thead>\n",
       "  <tbody>\n",
       "    <tr>\n",
       "      <th>0</th>\n",
       "      <td>2</td>\n",
       "      <td>The Gym at The Standard, Downtown LA</td>\n",
       "      <td>Gym</td>\n",
       "      <td>550 S Flower St</td>\n",
       "      <td>6th Street</td>\n",
       "      <td>34.050159</td>\n",
       "      <td>-118.256973</td>\n",
       "      <td>[{'label': 'display', 'lat': 34.0501594543457,...</td>\n",
       "      <td>361</td>\n",
       "      <td>90071</td>\n",
       "      <td>US</td>\n",
       "      <td>Los Angeles</td>\n",
       "      <td>CA</td>\n",
       "      <td>United States</td>\n",
       "      <td>[550 S Flower St (6th Street), Los Angeles, CA...</td>\n",
       "      <td>4c12716877cea593810bcd60</td>\n",
       "    </tr>\n",
       "    <tr>\n",
       "      <th>1</th>\n",
       "      <td>0</td>\n",
       "      <td>1100 Wilshire Gym</td>\n",
       "      <td>Gym</td>\n",
       "      <td>1100 Wilshire Blvd</td>\n",
       "      <td>Bixel</td>\n",
       "      <td>34.052421</td>\n",
       "      <td>-118.263674</td>\n",
       "      <td>[{'label': 'display', 'lat': 34.05242144083761...</td>\n",
       "      <td>513</td>\n",
       "      <td>90017</td>\n",
       "      <td>US</td>\n",
       "      <td>Los Angeles</td>\n",
       "      <td>CA</td>\n",
       "      <td>United States</td>\n",
       "      <td>[1100 Wilshire Blvd (Bixel), Los Angeles, CA 9...</td>\n",
       "      <td>4ca3b9661ee76dcb4ba8fbdd</td>\n",
       "    </tr>\n",
       "    <tr>\n",
       "      <th>2</th>\n",
       "      <td>2</td>\n",
       "      <td>Pegasus Rooftop Gym</td>\n",
       "      <td>Gym</td>\n",
       "      <td>612 S Flower St</td>\n",
       "      <td>btw 6th &amp; Wilshire</td>\n",
       "      <td>34.049879</td>\n",
       "      <td>-118.257211</td>\n",
       "      <td>[{'label': 'display', 'lat': 34.04987890803485...</td>\n",
       "      <td>328</td>\n",
       "      <td>90017</td>\n",
       "      <td>US</td>\n",
       "      <td>Los Angeles</td>\n",
       "      <td>CA</td>\n",
       "      <td>United States</td>\n",
       "      <td>[612 S Flower St (btw 6th &amp; Wilshire), Los Ang...</td>\n",
       "      <td>4c6ebc6910faa1431899f168</td>\n",
       "    </tr>\n",
       "    <tr>\n",
       "      <th>3</th>\n",
       "      <td>1</td>\n",
       "      <td>717 8th Floor Gym</td>\n",
       "      <td>Gym</td>\n",
       "      <td>717 W Olympic Blvd</td>\n",
       "      <td>Figueroa</td>\n",
       "      <td>34.045090</td>\n",
       "      <td>-118.263321</td>\n",
       "      <td>[{'label': 'display', 'lat': 34.04508972167969...</td>\n",
       "      <td>477</td>\n",
       "      <td>90015</td>\n",
       "      <td>US</td>\n",
       "      <td>Los Angeles</td>\n",
       "      <td>CA</td>\n",
       "      <td>United States</td>\n",
       "      <td>[717 W Olympic Blvd (Figueroa), Los Angeles, C...</td>\n",
       "      <td>4d55f1e258856dcbd7f2506d</td>\n",
       "    </tr>\n",
       "    <tr>\n",
       "      <th>4</th>\n",
       "      <td>0</td>\n",
       "      <td>Piero Gym</td>\n",
       "      <td>Gym</td>\n",
       "      <td>616 St Paul Ave</td>\n",
       "      <td>at Wilshire Blvd</td>\n",
       "      <td>34.052731</td>\n",
       "      <td>-118.260895</td>\n",
       "      <td>[{'label': 'display', 'lat': 34.05273056030273...</td>\n",
       "      <td>454</td>\n",
       "      <td>90017</td>\n",
       "      <td>US</td>\n",
       "      <td>Los Angeles</td>\n",
       "      <td>CA</td>\n",
       "      <td>United States</td>\n",
       "      <td>[616 St Paul Ave (at Wilshire Blvd), Los Angel...</td>\n",
       "      <td>4bcf67bf046076b0023e6e71</td>\n",
       "    </tr>\n",
       "  </tbody>\n",
       "</table>\n",
       "</div>"
      ],
      "text/plain": [
       "   Cluster Labels                                  name categories  \\\n",
       "0               2  The Gym at The Standard, Downtown LA        Gym   \n",
       "1               0                     1100 Wilshire Gym        Gym   \n",
       "2               2                   Pegasus Rooftop Gym        Gym   \n",
       "3               1                     717 8th Floor Gym        Gym   \n",
       "4               0                             Piero Gym        Gym   \n",
       "\n",
       "              address         crossStreet        lat         lng  \\\n",
       "0     550 S Flower St          6th Street  34.050159 -118.256973   \n",
       "1  1100 Wilshire Blvd               Bixel  34.052421 -118.263674   \n",
       "2     612 S Flower St  btw 6th & Wilshire  34.049879 -118.257211   \n",
       "3  717 W Olympic Blvd            Figueroa  34.045090 -118.263321   \n",
       "4     616 St Paul Ave    at Wilshire Blvd  34.052731 -118.260895   \n",
       "\n",
       "                                      labeledLatLngs  distance postalCode  cc  \\\n",
       "0  [{'label': 'display', 'lat': 34.0501594543457,...       361      90071  US   \n",
       "1  [{'label': 'display', 'lat': 34.05242144083761...       513      90017  US   \n",
       "2  [{'label': 'display', 'lat': 34.04987890803485...       328      90017  US   \n",
       "3  [{'label': 'display', 'lat': 34.04508972167969...       477      90015  US   \n",
       "4  [{'label': 'display', 'lat': 34.05273056030273...       454      90017  US   \n",
       "\n",
       "          city state        country  \\\n",
       "0  Los Angeles    CA  United States   \n",
       "1  Los Angeles    CA  United States   \n",
       "2  Los Angeles    CA  United States   \n",
       "3  Los Angeles    CA  United States   \n",
       "4  Los Angeles    CA  United States   \n",
       "\n",
       "                                    formattedAddress                        id  \n",
       "0  [550 S Flower St (6th Street), Los Angeles, CA...  4c12716877cea593810bcd60  \n",
       "1  [1100 Wilshire Blvd (Bixel), Los Angeles, CA 9...  4ca3b9661ee76dcb4ba8fbdd  \n",
       "2  [612 S Flower St (btw 6th & Wilshire), Los Ang...  4c6ebc6910faa1431899f168  \n",
       "3  [717 W Olympic Blvd (Figueroa), Los Angeles, C...  4d55f1e258856dcbd7f2506d  \n",
       "4  [616 St Paul Ave (at Wilshire Blvd), Los Angel...  4bcf67bf046076b0023e6e71  "
      ]
     },
     "execution_count": 11,
     "metadata": {},
     "output_type": "execute_result"
    }
   ],
   "source": [
    "# print the head of dataframe\n",
    "dataframe_filtered.head()"
   ]
  },
  {
   "cell_type": "markdown",
   "metadata": {},
   "source": [
    "### Printing the map with clusters"
   ]
  },
  {
   "cell_type": "code",
   "execution_count": 12,
   "metadata": {},
   "outputs": [
    {
     "data": {
      "text/html": [
       "<div style=\"width:100%;\"><div style=\"position:relative;width:100%;height:0;padding-bottom:60%;\"><span style=\"color:#565656\">Make this Notebook Trusted to load map: File -> Trust Notebook</span><iframe src=\"about:blank\" style=\"position:absolute;width:100%;height:100%;left:0;top:0;border:none !important;\" data-html=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 onload=\"this.contentDocument.open();this.contentDocument.write(atob(this.getAttribute('data-html')));this.contentDocument.close();\" allowfullscreen webkitallowfullscreen mozallowfullscreen></iframe></div></div>"
      ],
      "text/plain": [
       "<folium.folium.Map at 0x1d92eab3188>"
      ]
     },
     "execution_count": 12,
     "metadata": {},
     "output_type": "execute_result"
    }
   ],
   "source": [
    "# create map\n",
    "map_clusters = folium.Map(location=[latitude, longitude], zoom_start=15)\n",
    "\n",
    "# set color scheme for the clusters\n",
    "x = np.arange(4)\n",
    "ys = [i + x + (i*x)**2 for i in range(4)]\n",
    "colors_array = ['green','red','darkblue','black']\n",
    "rainbow = [colors.rgb2hex(i) for i in colors_array]\n",
    "\n",
    "# add markers to the map\n",
    "markers_colors = []\n",
    "for lat, lon, poi, cluster in zip(dataframe_filtered['lat'], dataframe_filtered['lng'], dataframe_filtered['name'], dataframe_filtered['Cluster Labels']):\n",
    "    label = folium.Popup(str(poi) + ' Cluster ' + str(cluster), parse_html=True)\n",
    "    folium.CircleMarker(\n",
    "        [lat, lon],\n",
    "        radius=5,\n",
    "        popup=label,\n",
    "        color=rainbow[cluster-1],\n",
    "        fill=True,\n",
    "        fill_color=rainbow[cluster-1],\n",
    "        fill_opacity=0.7).add_to(map_clusters)\n",
    "# add the gold's gym's marks   \n",
    "folium.Marker(\n",
    "    [latitude, longitude],\n",
    "    radius=10,\n",
    "    color='red',\n",
    "    popup=\"Gold's Gym\",\n",
    "    fill = True,\n",
    "    fill_color = 'red',\n",
    "    fill_opacity = 0.6\n",
    "    ).add_to(map_clusters)\n",
    "# print the map      \n",
    "map_clusters"
   ]
  },
  {
   "cell_type": "markdown",
   "metadata": {},
   "source": [
    "### Quantity of gyms in each clusters"
   ]
  },
  {
   "cell_type": "code",
   "execution_count": 13,
   "metadata": {},
   "outputs": [],
   "source": [
    "#selecting relevants values\n",
    "result = dataframe_filtered[['Cluster Labels', 'name']]"
   ]
  },
  {
   "cell_type": "code",
   "execution_count": 17,
   "metadata": {},
   "outputs": [],
   "source": [
    "#showing the quantity of gym in each cluster\n",
    "result_group = result.groupby(by = 'Cluster Labels', axis = 0).count()\n",
    "# change index\n",
    "result_group.reset_index(inplace = True)"
   ]
  },
  {
   "cell_type": "code",
   "execution_count": 18,
   "metadata": {},
   "outputs": [
    {
     "name": "stderr",
     "output_type": "stream",
     "text": [
      "C:\\Users\\lucas\\anaconda3\\lib\\site-packages\\ipykernel_launcher.py:5: SettingWithCopyWarning: \n",
      "A value is trying to be set on a copy of a slice from a DataFrame\n",
      "\n",
      "See the caveats in the documentation: https://pandas.pydata.org/pandas-docs/stable/user_guide/indexing.html#returning-a-view-versus-a-copy\n",
      "  \"\"\"\n",
      "C:\\Users\\lucas\\anaconda3\\lib\\site-packages\\ipykernel_launcher.py:7: SettingWithCopyWarning: \n",
      "A value is trying to be set on a copy of a slice from a DataFrame\n",
      "\n",
      "See the caveats in the documentation: https://pandas.pydata.org/pandas-docs/stable/user_guide/indexing.html#returning-a-view-versus-a-copy\n",
      "  import sys\n",
      "C:\\Users\\lucas\\anaconda3\\lib\\site-packages\\ipykernel_launcher.py:9: SettingWithCopyWarning: \n",
      "A value is trying to be set on a copy of a slice from a DataFrame\n",
      "\n",
      "See the caveats in the documentation: https://pandas.pydata.org/pandas-docs/stable/user_guide/indexing.html#returning-a-view-versus-a-copy\n",
      "  if __name__ == '__main__':\n"
     ]
    }
   ],
   "source": [
    "#replace the clusters numbers\n",
    "for i, j in enumerate(result_group['Cluster Labels']):\n",
    "    if j == 0:\n",
    "        result_group['Cluster Labels'][i] = 'West'\n",
    "    elif j == 1:\n",
    "        result_group['Cluster Labels'][i] = 'South'\n",
    "    elif j == 2:\n",
    "        result_group['Cluster Labels'][i] = 'East'\n",
    "    elif j == 3:\n",
    "        result_group['Cluster Labels'][i] = 'North'"
   ]
  },
  {
   "cell_type": "code",
   "execution_count": 19,
   "metadata": {},
   "outputs": [
    {
     "data": {
      "text/html": [
       "<div>\n",
       "<style scoped>\n",
       "    .dataframe tbody tr th:only-of-type {\n",
       "        vertical-align: middle;\n",
       "    }\n",
       "\n",
       "    .dataframe tbody tr th {\n",
       "        vertical-align: top;\n",
       "    }\n",
       "\n",
       "    .dataframe thead th {\n",
       "        text-align: right;\n",
       "    }\n",
       "</style>\n",
       "<table border=\"1\" class=\"dataframe\">\n",
       "  <thead>\n",
       "    <tr style=\"text-align: right;\">\n",
       "      <th></th>\n",
       "      <th>Cluster Labels</th>\n",
       "      <th>name</th>\n",
       "    </tr>\n",
       "  </thead>\n",
       "  <tbody>\n",
       "    <tr>\n",
       "      <th>0</th>\n",
       "      <td>West</td>\n",
       "      <td>10</td>\n",
       "    </tr>\n",
       "    <tr>\n",
       "      <th>1</th>\n",
       "      <td>South</td>\n",
       "      <td>11</td>\n",
       "    </tr>\n",
       "    <tr>\n",
       "      <th>2</th>\n",
       "      <td>East</td>\n",
       "      <td>17</td>\n",
       "    </tr>\n",
       "    <tr>\n",
       "      <th>3</th>\n",
       "      <td>North</td>\n",
       "      <td>11</td>\n",
       "    </tr>\n",
       "  </tbody>\n",
       "</table>\n",
       "</div>"
      ],
      "text/plain": [
       "  Cluster Labels  name\n",
       "0           West    10\n",
       "1          South    11\n",
       "2           East    17\n",
       "3          North    11"
      ]
     },
     "execution_count": 19,
     "metadata": {},
     "output_type": "execute_result"
    }
   ],
   "source": [
    "result_group #print results"
   ]
  }
 ],
 "metadata": {
  "kernelspec": {
   "display_name": "Python 3",
   "language": "python",
   "name": "python3"
  },
  "language_info": {
   "codemirror_mode": {
    "name": "ipython",
    "version": 3
   },
   "file_extension": ".py",
   "mimetype": "text/x-python",
   "name": "python",
   "nbconvert_exporter": "python",
   "pygments_lexer": "ipython3",
   "version": "3.7.6"
  }
 },
 "nbformat": 4,
 "nbformat_minor": 4
}
