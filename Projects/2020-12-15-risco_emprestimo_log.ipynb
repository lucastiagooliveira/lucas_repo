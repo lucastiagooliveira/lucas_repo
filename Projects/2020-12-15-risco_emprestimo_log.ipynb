{
 "cells": [
  {
   "cell_type": "markdown",
   "metadata": {},
   "source": [
    "# \"Case: Avaliação de risco de um empréstimo bancário\"\n",
    "> Tutorial de como utilizar regressão logística com a biblioteca statsmodels.\n",
    "\n",
    "- toc: false\n",
    "- badges: true\n",
    "- comments: true\n",
    "- categories: [logistica, classificacao, risco, emprestimo]\n",
    "- image:"
   ]
  },
  {
   "cell_type": "markdown",
   "metadata": {},
   "source": [
    "**Considere os dados provenientes de um banco de varejo, referente a 5.000 propostas passadas de crédito,\n",
    "geradas para solicitação de um empréstimo. A base traz dados como idade, tempo de experiência, tempo\n",
    "no endereço e renda, além da variável “classif” (0=bom, 1=mau). Vamos avaliar o potencial preditivo inicial\n",
    "dessas variáveis para predizer se um cliente será um mau pagador.**"
   ]
  },
  {
   "cell_type": "code",
   "execution_count": 12,
   "metadata": {},
   "outputs": [],
   "source": [
    "import numpy as np\n",
    "import pandas as pd\n",
    "import statsmodels.formula.api as sm\n",
    "import seaborn as sns\n",
    "from sklearn.metrics import confusion_matrix, accuracy_score, roc_curve\n",
    "from matplotlib import pyplot as plt\n",
    "from statsmodels.stats.outliers_influence import variance_inflation_factor \n",
    "from patsy import dmatrices"
   ]
  },
  {
   "cell_type": "code",
   "execution_count": 2,
   "metadata": {},
   "outputs": [
    {
     "data": {
      "text/html": [
       "<div>\n",
       "<style scoped>\n",
       "    .dataframe tbody tr th:only-of-type {\n",
       "        vertical-align: middle;\n",
       "    }\n",
       "\n",
       "    .dataframe tbody tr th {\n",
       "        vertical-align: top;\n",
       "    }\n",
       "\n",
       "    .dataframe thead th {\n",
       "        text-align: right;\n",
       "    }\n",
       "</style>\n",
       "<table border=\"1\" class=\"dataframe\">\n",
       "  <thead>\n",
       "    <tr style=\"text-align: right;\">\n",
       "      <th></th>\n",
       "      <th>idade</th>\n",
       "      <th>experiencia</th>\n",
       "      <th>tempo_endereco</th>\n",
       "      <th>renda</th>\n",
       "      <th>debito_renda</th>\n",
       "      <th>cred_deb</th>\n",
       "      <th>outros_debitos</th>\n",
       "      <th>classif</th>\n",
       "    </tr>\n",
       "  </thead>\n",
       "  <tbody>\n",
       "    <tr>\n",
       "      <th>0</th>\n",
       "      <td>41</td>\n",
       "      <td>17</td>\n",
       "      <td>12</td>\n",
       "      <td>35.9</td>\n",
       "      <td>11.90</td>\n",
       "      <td>0.504108</td>\n",
       "      <td>3.767992</td>\n",
       "      <td>0</td>\n",
       "    </tr>\n",
       "    <tr>\n",
       "      <th>1</th>\n",
       "      <td>30</td>\n",
       "      <td>13</td>\n",
       "      <td>8</td>\n",
       "      <td>46.7</td>\n",
       "      <td>17.88</td>\n",
       "      <td>1.352694</td>\n",
       "      <td>6.997266</td>\n",
       "      <td>0</td>\n",
       "    </tr>\n",
       "    <tr>\n",
       "      <th>2</th>\n",
       "      <td>40</td>\n",
       "      <td>15</td>\n",
       "      <td>14</td>\n",
       "      <td>61.8</td>\n",
       "      <td>10.64</td>\n",
       "      <td>3.438997</td>\n",
       "      <td>3.136523</td>\n",
       "      <td>0</td>\n",
       "    </tr>\n",
       "    <tr>\n",
       "      <th>3</th>\n",
       "      <td>41</td>\n",
       "      <td>15</td>\n",
       "      <td>14</td>\n",
       "      <td>72.0</td>\n",
       "      <td>29.67</td>\n",
       "      <td>4.165668</td>\n",
       "      <td>17.196732</td>\n",
       "      <td>0</td>\n",
       "    </tr>\n",
       "    <tr>\n",
       "      <th>4</th>\n",
       "      <td>57</td>\n",
       "      <td>7</td>\n",
       "      <td>37</td>\n",
       "      <td>25.6</td>\n",
       "      <td>15.86</td>\n",
       "      <td>1.498199</td>\n",
       "      <td>2.561961</td>\n",
       "      <td>0</td>\n",
       "    </tr>\n",
       "  </tbody>\n",
       "</table>\n",
       "</div>"
      ],
      "text/plain": [
       "   idade  experiencia  tempo_endereco  renda  debito_renda  cred_deb  \\\n",
       "0     41           17              12   35.9         11.90  0.504108   \n",
       "1     30           13               8   46.7         17.88  1.352694   \n",
       "2     40           15              14   61.8         10.64  3.438997   \n",
       "3     41           15              14   72.0         29.67  4.165668   \n",
       "4     57            7              37   25.6         15.86  1.498199   \n",
       "\n",
       "   outros_debitos  classif  \n",
       "0        3.767992        0  \n",
       "1        6.997266        0  \n",
       "2        3.136523        0  \n",
       "3       17.196732        0  \n",
       "4        2.561961        0  "
      ]
     },
     "execution_count": 2,
     "metadata": {},
     "output_type": "execute_result"
    }
   ],
   "source": [
    "df = pd.read_excel(\"CasoUso_02_Emprestimo_Bancario.xlsx\", sheet_name='BASE DE DADOS')\n",
    "df.head()"
   ]
  },
  {
   "cell_type": "markdown",
   "metadata": {},
   "source": [
    "**(a) Faça a análise exploratória univariada e interprete todas as variáveis do banco de dados.**"
   ]
  },
  {
   "cell_type": "code",
   "execution_count": 3,
   "metadata": {},
   "outputs": [
    {
     "name": "stdout",
     "output_type": "stream",
     "text": [
      "<class 'pandas.core.frame.DataFrame'>\n",
      "RangeIndex: 5000 entries, 0 to 4999\n",
      "Data columns (total 8 columns):\n",
      " #   Column          Non-Null Count  Dtype  \n",
      "---  ------          --------------  -----  \n",
      " 0   idade           5000 non-null   int64  \n",
      " 1   experiencia     5000 non-null   int64  \n",
      " 2   tempo_endereco  5000 non-null   int64  \n",
      " 3   renda           5000 non-null   float64\n",
      " 4   debito_renda    5000 non-null   float64\n",
      " 5   cred_deb        5000 non-null   float64\n",
      " 6   outros_debitos  5000 non-null   float64\n",
      " 7   classif         5000 non-null   int64  \n",
      "dtypes: float64(4), int64(4)\n",
      "memory usage: 312.6 KB\n"
     ]
    }
   ],
   "source": [
    "df.info()"
   ]
  },
  {
   "cell_type": "code",
   "execution_count": 4,
   "metadata": {},
   "outputs": [
    {
     "data": {
      "text/html": [
       "<div>\n",
       "<style scoped>\n",
       "    .dataframe tbody tr th:only-of-type {\n",
       "        vertical-align: middle;\n",
       "    }\n",
       "\n",
       "    .dataframe tbody tr th {\n",
       "        vertical-align: top;\n",
       "    }\n",
       "\n",
       "    .dataframe thead th {\n",
       "        text-align: right;\n",
       "    }\n",
       "</style>\n",
       "<table border=\"1\" class=\"dataframe\">\n",
       "  <thead>\n",
       "    <tr style=\"text-align: right;\">\n",
       "      <th></th>\n",
       "      <th>idade</th>\n",
       "      <th>experiencia</th>\n",
       "      <th>tempo_endereco</th>\n",
       "      <th>renda</th>\n",
       "      <th>debito_renda</th>\n",
       "      <th>cred_deb</th>\n",
       "      <th>outros_debitos</th>\n",
       "      <th>classif</th>\n",
       "    </tr>\n",
       "  </thead>\n",
       "  <tbody>\n",
       "    <tr>\n",
       "      <th>count</th>\n",
       "      <td>5000.000000</td>\n",
       "      <td>5000.000000</td>\n",
       "      <td>5000.000000</td>\n",
       "      <td>5000.000000</td>\n",
       "      <td>5000.000000</td>\n",
       "      <td>5000.000000</td>\n",
       "      <td>5000.000000</td>\n",
       "      <td>5000.000000</td>\n",
       "    </tr>\n",
       "    <tr>\n",
       "      <th>mean</th>\n",
       "      <td>35.387200</td>\n",
       "      <td>8.703800</td>\n",
       "      <td>8.154000</td>\n",
       "      <td>47.676980</td>\n",
       "      <td>10.075984</td>\n",
       "      <td>1.628071</td>\n",
       "      <td>3.218582</td>\n",
       "      <td>0.251200</td>\n",
       "    </tr>\n",
       "    <tr>\n",
       "      <th>std</th>\n",
       "      <td>7.948403</td>\n",
       "      <td>7.194583</td>\n",
       "      <td>6.760786</td>\n",
       "      <td>51.793192</td>\n",
       "      <td>6.659336</td>\n",
       "      <td>3.053369</td>\n",
       "      <td>6.944523</td>\n",
       "      <td>0.433747</td>\n",
       "    </tr>\n",
       "    <tr>\n",
       "      <th>min</th>\n",
       "      <td>20.000000</td>\n",
       "      <td>0.000000</td>\n",
       "      <td>0.000000</td>\n",
       "      <td>12.100000</td>\n",
       "      <td>0.080000</td>\n",
       "      <td>0.005292</td>\n",
       "      <td>0.009373</td>\n",
       "      <td>0.000000</td>\n",
       "    </tr>\n",
       "    <tr>\n",
       "      <th>25%</th>\n",
       "      <td>29.000000</td>\n",
       "      <td>3.000000</td>\n",
       "      <td>3.000000</td>\n",
       "      <td>24.500000</td>\n",
       "      <td>5.050000</td>\n",
       "      <td>0.396181</td>\n",
       "      <td>0.990071</td>\n",
       "      <td>0.000000</td>\n",
       "    </tr>\n",
       "    <tr>\n",
       "      <th>50%</th>\n",
       "      <td>35.000000</td>\n",
       "      <td>7.000000</td>\n",
       "      <td>7.000000</td>\n",
       "      <td>34.500000</td>\n",
       "      <td>8.635000</td>\n",
       "      <td>0.906189</td>\n",
       "      <td>1.960223</td>\n",
       "      <td>0.000000</td>\n",
       "    </tr>\n",
       "    <tr>\n",
       "      <th>75%</th>\n",
       "      <td>41.000000</td>\n",
       "      <td>13.000000</td>\n",
       "      <td>12.000000</td>\n",
       "      <td>54.725000</td>\n",
       "      <td>13.682500</td>\n",
       "      <td>1.859147</td>\n",
       "      <td>3.789633</td>\n",
       "      <td>1.000000</td>\n",
       "    </tr>\n",
       "    <tr>\n",
       "      <th>max</th>\n",
       "      <td>58.000000</td>\n",
       "      <td>38.000000</td>\n",
       "      <td>37.000000</td>\n",
       "      <td>2461.700000</td>\n",
       "      <td>44.620000</td>\n",
       "      <td>139.580606</td>\n",
       "      <td>416.517424</td>\n",
       "      <td>1.000000</td>\n",
       "    </tr>\n",
       "  </tbody>\n",
       "</table>\n",
       "</div>"
      ],
      "text/plain": [
       "             idade  experiencia  tempo_endereco        renda  debito_renda  \\\n",
       "count  5000.000000  5000.000000     5000.000000  5000.000000   5000.000000   \n",
       "mean     35.387200     8.703800        8.154000    47.676980     10.075984   \n",
       "std       7.948403     7.194583        6.760786    51.793192      6.659336   \n",
       "min      20.000000     0.000000        0.000000    12.100000      0.080000   \n",
       "25%      29.000000     3.000000        3.000000    24.500000      5.050000   \n",
       "50%      35.000000     7.000000        7.000000    34.500000      8.635000   \n",
       "75%      41.000000    13.000000       12.000000    54.725000     13.682500   \n",
       "max      58.000000    38.000000       37.000000  2461.700000     44.620000   \n",
       "\n",
       "          cred_deb  outros_debitos      classif  \n",
       "count  5000.000000     5000.000000  5000.000000  \n",
       "mean      1.628071        3.218582     0.251200  \n",
       "std       3.053369        6.944523     0.433747  \n",
       "min       0.005292        0.009373     0.000000  \n",
       "25%       0.396181        0.990071     0.000000  \n",
       "50%       0.906189        1.960223     0.000000  \n",
       "75%       1.859147        3.789633     1.000000  \n",
       "max     139.580606      416.517424     1.000000  "
      ]
     },
     "execution_count": 4,
     "metadata": {},
     "output_type": "execute_result"
    }
   ],
   "source": [
    "df.describe()"
   ]
  },
  {
   "cell_type": "code",
   "execution_count": null,
   "metadata": {},
   "outputs": [],
   "source": []
  },
  {
   "cell_type": "markdown",
   "metadata": {},
   "source": [
    "**(b) Há algum outlier que mereça sua atenção? E com relação a dados faltantes?**"
   ]
  },
  {
   "cell_type": "code",
   "execution_count": 5,
   "metadata": {},
   "outputs": [
    {
     "data": {
      "text/plain": [
       "<seaborn.axisgrid.PairGrid at 0x1eb09998940>"
      ]
     },
     "execution_count": 5,
     "metadata": {},
     "output_type": "execute_result"
    },
    {
     "data": {
      "image/png": "[encoded data removed]",
      "text/plain": [
       "<Figure size 360x2520 with 7 Axes>"
      ]
     },
     "metadata": {
      "needs_background": "light"
     },
     "output_type": "display_data"
    }
   ],
   "source": [
    "g = sns.PairGrid(data=df,\n",
    "             x_vars='classif',\n",
    "             y_vars=[i for i in df.columns if i != 'classif'],\n",
    "             height=5)\n",
    "\n",
    "g.map(sns.boxplot, )"
   ]
  },
  {
   "cell_type": "markdown",
   "metadata": {},
   "source": [
    "**(c) Qual o % de empréstimos não pagos (ou “% de maus”, ou “% de default”)?**"
   ]
  },
  {
   "cell_type": "code",
   "execution_count": 6,
   "metadata": {},
   "outputs": [
    {
     "data": {
      "text/html": [
       "<div>\n",
       "<style scoped>\n",
       "    .dataframe tbody tr th:only-of-type {\n",
       "        vertical-align: middle;\n",
       "    }\n",
       "\n",
       "    .dataframe tbody tr th {\n",
       "        vertical-align: top;\n",
       "    }\n",
       "\n",
       "    .dataframe thead th {\n",
       "        text-align: right;\n",
       "    }\n",
       "</style>\n",
       "<table border=\"1\" class=\"dataframe\">\n",
       "  <thead>\n",
       "    <tr style=\"text-align: right;\">\n",
       "      <th></th>\n",
       "      <th>0</th>\n",
       "    </tr>\n",
       "    <tr>\n",
       "      <th>classif</th>\n",
       "      <th></th>\n",
       "    </tr>\n",
       "  </thead>\n",
       "  <tbody>\n",
       "    <tr>\n",
       "      <th>0</th>\n",
       "      <td>0.7488</td>\n",
       "    </tr>\n",
       "    <tr>\n",
       "      <th>1</th>\n",
       "      <td>0.2512</td>\n",
       "    </tr>\n",
       "  </tbody>\n",
       "</table>\n",
       "</div>"
      ],
      "text/plain": [
       "              0\n",
       "classif        \n",
       "0        0.7488\n",
       "1        0.2512"
      ]
     },
     "execution_count": 6,
     "metadata": {},
     "output_type": "execute_result"
    }
   ],
   "source": [
    "pd.DataFrame(df.groupby(['classif']).size()/df.classif.count())"
   ]
  },
  {
   "cell_type": "markdown",
   "metadata": {},
   "source": [
    "**(d) Qual a correlação entre as variáveis presentes na base?**"
   ]
  },
  {
   "cell_type": "code",
   "execution_count": 7,
   "metadata": {},
   "outputs": [
    {
     "data": {
      "text/plain": [
       "<AxesSubplot:>"
      ]
     },
     "execution_count": 7,
     "metadata": {},
     "output_type": "execute_result"
    },
    {
     "data": {
      "image/png": "[encoded data removed]",
      "text/plain": [
       "<Figure size 1008x720 with 1 Axes>"
      ]
     },
     "metadata": {
      "needs_background": "light"
     },
     "output_type": "display_data"
    }
   ],
   "source": [
    "plt.figure(figsize=(14,10))\n",
    "sns.heatmap(df.corr(), annot=True, cbar=False)"
   ]
  },
  {
   "cell_type": "markdown",
   "metadata": {},
   "source": [
    "**(e) Quais são as variáveis que melhor explicam se o empréstimo foi pago ou não?**"
   ]
  },
  {
   "cell_type": "markdown",
   "metadata": {},
   "source": [
    "As variáveis que mais explicam o modelo são renda e outros_debitos."
   ]
  },
  {
   "cell_type": "markdown",
   "metadata": {},
   "source": [
    "**(f) Ajuste um modelo logístico e avalie quais variáveis apareceram como significantes e quais não.**"
   ]
  },
  {
   "cell_type": "code",
   "execution_count": 15,
   "metadata": {},
   "outputs": [
    {
     "name": "stdout",
     "output_type": "stream",
     "text": [
      "Optimization terminated successfully.\n",
      "         Current function value: 0.404462\n",
      "         Iterations 7\n",
      "                           Logit Regression Results                           \n",
      "==============================================================================\n",
      "Dep. Variable:                classif   No. Observations:                 5000\n",
      "Model:                          Logit   Df Residuals:                     4995\n",
      "Method:                           MLE   Df Model:                            4\n",
      "Date:                Tue, 15 Dec 2020   Pseudo R-squ.:                  0.2824\n",
      "Time:                        14:18:35   Log-Likelihood:                -2022.3\n",
      "converged:                       True   LL-Null:                       -2818.2\n",
      "Covariance Type:            nonrobust   LLR p-value:                     0.000\n",
      "==================================================================================\n",
      "                     coef    std err          z      P>|z|      [0.025      0.975]\n",
      "----------------------------------------------------------------------------------\n",
      "Intercept         -0.9904      0.092    -10.774      0.000      -1.171      -0.810\n",
      "experiencia       -0.1873      0.009    -20.167      0.000      -0.206      -0.169\n",
      "tempo_endereco    -0.0919      0.008    -12.160      0.000      -0.107      -0.077\n",
      "debito_renda       0.0993      0.007     14.703      0.000       0.086       0.113\n",
      "cred_deb           0.4353      0.028     15.614      0.000       0.381       0.490\n",
      "==================================================================================\n"
     ]
    }
   ],
   "source": [
    "#Modelo excluindo Salario_anual, pois o P>|z| é maior que 0,1\n",
    "log_reg = sm.logit(\"classif ~ experiencia + tempo_endereco + debito_renda + cred_deb\",\n",
    "                   data = df).fit()\n",
    "print(log_reg.summary())"
   ]
  },
  {
   "cell_type": "markdown",
   "metadata": {},
   "source": [
    "**(g) Calcule o score de propensão a default como uma coluna nova na base.**"
   ]
  },
  {
   "cell_type": "code",
   "execution_count": 18,
   "metadata": {},
   "outputs": [
    {
     "data": {
      "text/html": [
       "<div>\n",
       "<style scoped>\n",
       "    .dataframe tbody tr th:only-of-type {\n",
       "        vertical-align: middle;\n",
       "    }\n",
       "\n",
       "    .dataframe tbody tr th {\n",
       "        vertical-align: top;\n",
       "    }\n",
       "\n",
       "    .dataframe thead th {\n",
       "        text-align: right;\n",
       "    }\n",
       "</style>\n",
       "<table border=\"1\" class=\"dataframe\">\n",
       "  <thead>\n",
       "    <tr style=\"text-align: right;\">\n",
       "      <th></th>\n",
       "      <th>idade</th>\n",
       "      <th>experiencia</th>\n",
       "      <th>tempo_endereco</th>\n",
       "      <th>renda</th>\n",
       "      <th>debito_renda</th>\n",
       "      <th>cred_deb</th>\n",
       "      <th>outros_debitos</th>\n",
       "      <th>classif</th>\n",
       "      <th>prob</th>\n",
       "    </tr>\n",
       "  </thead>\n",
       "  <tbody>\n",
       "    <tr>\n",
       "      <th>0</th>\n",
       "      <td>41</td>\n",
       "      <td>17</td>\n",
       "      <td>12</td>\n",
       "      <td>35.9</td>\n",
       "      <td>11.90</td>\n",
       "      <td>0.504108</td>\n",
       "      <td>3.767992</td>\n",
       "      <td>0</td>\n",
       "      <td>0.020302</td>\n",
       "    </tr>\n",
       "    <tr>\n",
       "      <th>1</th>\n",
       "      <td>30</td>\n",
       "      <td>13</td>\n",
       "      <td>8</td>\n",
       "      <td>46.7</td>\n",
       "      <td>17.88</td>\n",
       "      <td>1.352694</td>\n",
       "      <td>6.997266</td>\n",
       "      <td>0</td>\n",
       "      <td>0.142269</td>\n",
       "    </tr>\n",
       "    <tr>\n",
       "      <th>2</th>\n",
       "      <td>40</td>\n",
       "      <td>15</td>\n",
       "      <td>14</td>\n",
       "      <td>61.8</td>\n",
       "      <td>10.64</td>\n",
       "      <td>3.438997</td>\n",
       "      <td>3.136523</td>\n",
       "      <td>0</td>\n",
       "      <td>0.073558</td>\n",
       "    </tr>\n",
       "    <tr>\n",
       "      <th>3</th>\n",
       "      <td>41</td>\n",
       "      <td>15</td>\n",
       "      <td>14</td>\n",
       "      <td>72.0</td>\n",
       "      <td>29.67</td>\n",
       "      <td>4.165668</td>\n",
       "      <td>17.196732</td>\n",
       "      <td>0</td>\n",
       "      <td>0.418854</td>\n",
       "    </tr>\n",
       "    <tr>\n",
       "      <th>4</th>\n",
       "      <td>57</td>\n",
       "      <td>7</td>\n",
       "      <td>37</td>\n",
       "      <td>25.6</td>\n",
       "      <td>15.86</td>\n",
       "      <td>1.498199</td>\n",
       "      <td>2.561961</td>\n",
       "      <td>0</td>\n",
       "      <td>0.030047</td>\n",
       "    </tr>\n",
       "  </tbody>\n",
       "</table>\n",
       "</div>"
      ],
      "text/plain": [
       "   idade  experiencia  tempo_endereco  renda  debito_renda  cred_deb  \\\n",
       "0     41           17              12   35.9         11.90  0.504108   \n",
       "1     30           13               8   46.7         17.88  1.352694   \n",
       "2     40           15              14   61.8         10.64  3.438997   \n",
       "3     41           15              14   72.0         29.67  4.165668   \n",
       "4     57            7              37   25.6         15.86  1.498199   \n",
       "\n",
       "   outros_debitos  classif      prob  \n",
       "0        3.767992        0  0.020302  \n",
       "1        6.997266        0  0.142269  \n",
       "2        3.136523        0  0.073558  \n",
       "3       17.196732        0  0.418854  \n",
       "4        2.561961        0  0.030047  "
      ]
     },
     "execution_count": 18,
     "metadata": {},
     "output_type": "execute_result"
    }
   ],
   "source": [
    "df['prob'] = log_reg.predict(df[df.columns.drop('classif')])\n",
    "df.head()"
   ]
  },
  {
   "cell_type": "markdown",
   "metadata": {},
   "source": [
    "**(h) Qual a sugestão inicial de ponto de corte para predizer se o empréstimo será pago ou não?**"
   ]
  },
  {
   "cell_type": "markdown",
   "metadata": {},
   "source": [
    "A sugestão é a média da variável *classif*, ou seja, 0.251200."
   ]
  },
  {
   "cell_type": "markdown",
   "metadata": {},
   "source": [
    "**(i) Considerando essa sugestão, desenhe a matriz de confusão e qual a taxa de classificação correta?**"
   ]
  },
  {
   "cell_type": "code",
   "execution_count": 19,
   "metadata": {},
   "outputs": [],
   "source": [
    "df['pred'] = [1 if i > 0.2512 else 0 for i in df.prob]"
   ]
  },
  {
   "cell_type": "code",
   "execution_count": 20,
   "metadata": {},
   "outputs": [
    {
     "data": {
      "text/plain": [
       "<AxesSubplot:>"
      ]
     },
     "execution_count": 20,
     "metadata": {},
     "output_type": "execute_result"
    },
    {
     "data": {
      "image/png": "[encoded data removed]",
      "text/plain": [
       "<Figure size 720x576 with 1 Axes>"
      ]
     },
     "metadata": {
      "needs_background": "light"
     },
     "output_type": "display_data"
    }
   ],
   "source": [
    "cm1 = confusion_matrix(df.classif, df.pred)\n",
    "plt.figure(figsize=(10,8))\n",
    "sns.set_theme()\n",
    "sns.heatmap(cm1, annot = True, cbar=False, fmt='d')"
   ]
  },
  {
   "cell_type": "code",
   "execution_count": 21,
   "metadata": {},
   "outputs": [
    {
     "name": "stdout",
     "output_type": "stream",
     "text": [
      "Acurácia: 0.75\n",
      "Especificidade: 0.91\n",
      "Sensibilidade: 0.51\n"
     ]
    }
   ],
   "source": [
    "print(\"Acurácia: %.2f\" % accuracy_score(df.classif, df.pred))\n",
    "print(\"Especificidade: %.2f\" % (cm1[0,0]/(cm1[1,0]+cm1[0,0])))\n",
    "print('Sensibilidade: %.2f' % (cm1[1,1]/(cm1[0,1]+cm1[1,1])))"
   ]
  },
  {
   "cell_type": "markdown",
   "metadata": {},
   "source": [
    "## Cálculo da estatística VIF"
   ]
  },
  {
   "cell_type": "code",
   "execution_count": 8,
   "metadata": {},
   "outputs": [],
   "source": [
    "#gather features\n",
    "features = \"+\".join(['experiencia', 'tempo_endereco', 'debito_renda', 'cred_deb'])\n",
    "\n",
    "# get y and X dataframes based on this regression:\n",
    "y, X = dmatrices('classif ~' + features, df, return_type='dataframe')"
   ]
  },
  {
   "cell_type": "code",
   "execution_count": 13,
   "metadata": {},
   "outputs": [],
   "source": [
    "# For each X, calculate VIF and save in dataframe\n",
    "vif = pd.DataFrame()\n",
    "vif[\"VIF Factor\"] = [variance_inflation_factor(X.values, i) for i in range(X.shape[1])]\n",
    "vif[\"features\"] = X.columns"
   ]
  },
  {
   "cell_type": "code",
   "execution_count": 14,
   "metadata": {},
   "outputs": [
    {
     "data": {
      "text/html": [
       "<div>\n",
       "<style scoped>\n",
       "    .dataframe tbody tr th:only-of-type {\n",
       "        vertical-align: middle;\n",
       "    }\n",
       "\n",
       "    .dataframe tbody tr th {\n",
       "        vertical-align: top;\n",
       "    }\n",
       "\n",
       "    .dataframe thead th {\n",
       "        text-align: right;\n",
       "    }\n",
       "</style>\n",
       "<table border=\"1\" class=\"dataframe\">\n",
       "  <thead>\n",
       "    <tr style=\"text-align: right;\">\n",
       "      <th></th>\n",
       "      <th>VIF Factor</th>\n",
       "      <th>features</th>\n",
       "    </tr>\n",
       "  </thead>\n",
       "  <tbody>\n",
       "    <tr>\n",
       "      <th>0</th>\n",
       "      <td>5.782769</td>\n",
       "      <td>Intercept</td>\n",
       "    </tr>\n",
       "    <tr>\n",
       "      <th>1</th>\n",
       "      <td>1.226531</td>\n",
       "      <td>experiencia</td>\n",
       "    </tr>\n",
       "    <tr>\n",
       "      <th>2</th>\n",
       "      <td>1.121401</td>\n",
       "      <td>tempo_endereco</td>\n",
       "    </tr>\n",
       "    <tr>\n",
       "      <th>3</th>\n",
       "      <td>1.177353</td>\n",
       "      <td>debito_renda</td>\n",
       "    </tr>\n",
       "    <tr>\n",
       "      <th>4</th>\n",
       "      <td>1.281908</td>\n",
       "      <td>cred_deb</td>\n",
       "    </tr>\n",
       "  </tbody>\n",
       "</table>\n",
       "</div>"
      ],
      "text/plain": [
       "   VIF Factor        features\n",
       "0    5.782769       Intercept\n",
       "1    1.226531     experiencia\n",
       "2    1.121401  tempo_endereco\n",
       "3    1.177353    debito_renda\n",
       "4    1.281908        cred_deb"
      ]
     },
     "execution_count": 14,
     "metadata": {},
     "output_type": "execute_result"
    }
   ],
   "source": [
    "vif"
   ]
  }
 ],
 "metadata": {
  "kernelspec": {
   "display_name": "Python 3",
   "language": "python",
   "name": "python3"
  },
  "language_info": {
   "codemirror_mode": {
    "name": "ipython",
    "version": 3
   },
   "file_extension": ".py",
   "mimetype": "text/x-python",
   "name": "python",
   "nbconvert_exporter": "python",
   "pygments_lexer": "ipython3",
   "version": "3.8.5"
  }
 },
 "nbformat": 4,
 "nbformat_minor": 4
}
