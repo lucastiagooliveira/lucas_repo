{
 "cells": [
  {
   "cell_type": "markdown",
   "metadata": {},
   "source": [
    "# Estudo de caso - Telecom"
   ]
  },
  {
   "cell_type": "markdown",
   "metadata": {},
   "source": [
    "Uma empresa de Telecom com 318.463 mil clientes está preocupada com o aumento do cancelamento voluntário das\n",
    "assinaturas de telefonia fixa. No período de 1 mês, existiram 2.766 cancelamentos voluntários (0,87% dos clientes\n",
    "cancelaram voluntariamente). Apesar deste número parecer pequeno, em um ano, se nada for feito, 10% da base de\n",
    "clientes deixarão a companhia. Por meio do estudo da base de dados, o objetivo da empresa é identificar os clientes\n",
    "com maior probabilidade de cancelar voluntariamente suas linhas telefônicas e fazer ações segmentadas de marketing\n",
    "de acordo com seu perfil. Serão estudadas as características transacionais e cadastrais dos clientes para explicar o\n",
    "evento de cancelamento voluntário. O gestor da área de CRM gostaria de saber qual o perfil dos cientes que mais\n",
    "cancelam, quais suas características e se essa regra é eficaz para predizer o comportamento daqueles clientes que\n",
    "cancelam no próximo mês.\n",
    "\n",
    "- Fonte: base simulada, inspirada em problemas reais de consultoria da Profª Karin Ayumi Tamura."
   ]
  },
  {
   "cell_type": "markdown",
   "metadata": {},
   "source": [
    "**Evento (Variável resposta):**\n",
    "\n",
    "- 1, cliente cancelou voluntariamente;\n",
    "- 0, cliente não cancelou voluntariamente."
   ]
  },
  {
   "cell_type": "markdown",
   "metadata": {},
   "source": [
    "**Variáveis Explicativas:**\n",
    "    \n",
    "1. Idade do cliente (anos)\n",
    "2. Quantidade de minutos realizados no último mês\n",
    "3. Tempo desde a última entrada do cliente na empresa (meses)\n",
    "4. Tempo em que o cliente ingressou na empresa (meses)\n",
    "5. Quantidade de retenções nos últimos 6 meses\n",
    "6. Quantidade de produtos adicionais"
   ]
  },
  {
   "cell_type": "code",
   "execution_count": 1,
   "metadata": {},
   "outputs": [],
   "source": [
    "#Carregando as bibliotecas\n",
    "import pandas as pd \n",
    "import numpy as np\n",
    "import matplotlib.pyplot as plt\n",
    "import seaborn as sns\n",
    "\n",
    "%matplotlib inline"
   ]
  },
  {
   "cell_type": "code",
   "execution_count": 2,
   "metadata": {},
   "outputs": [],
   "source": [
    "df = pd.read_csv('Telefonia.txt', sep='\\t', decimal='.')"
   ]
  },
  {
   "cell_type": "code",
   "execution_count": 3,
   "metadata": {},
   "outputs": [
    {
     "data": {
      "text/html": [
       "<div>\n",
       "<style scoped>\n",
       "    .dataframe tbody tr th:only-of-type {\n",
       "        vertical-align: middle;\n",
       "    }\n",
       "\n",
       "    .dataframe tbody tr th {\n",
       "        vertical-align: top;\n",
       "    }\n",
       "\n",
       "    .dataframe thead th {\n",
       "        text-align: right;\n",
       "    }\n",
       "</style>\n",
       "<table border=\"1\" class=\"dataframe\">\n",
       "  <thead>\n",
       "    <tr style=\"text-align: right;\">\n",
       "      <th></th>\n",
       "      <th>cod_cliente</th>\n",
       "      <th>Idade</th>\n",
       "      <th>Minutos_realizados_T0</th>\n",
       "      <th>Tempo_safra</th>\n",
       "      <th>Tempo_casa</th>\n",
       "      <th>Qtd_retencao_6meses</th>\n",
       "      <th>Qtd_prod</th>\n",
       "      <th>resposta</th>\n",
       "    </tr>\n",
       "  </thead>\n",
       "  <tbody>\n",
       "    <tr>\n",
       "      <th>0</th>\n",
       "      <td>12452</td>\n",
       "      <td>34.1</td>\n",
       "      <td>1.848</td>\n",
       "      <td>33</td>\n",
       "      <td>127</td>\n",
       "      <td>0</td>\n",
       "      <td>0</td>\n",
       "      <td>0</td>\n",
       "    </tr>\n",
       "    <tr>\n",
       "      <th>1</th>\n",
       "      <td>46491</td>\n",
       "      <td>73.7</td>\n",
       "      <td>38.137</td>\n",
       "      <td>178</td>\n",
       "      <td>187</td>\n",
       "      <td>0</td>\n",
       "      <td>2</td>\n",
       "      <td>0</td>\n",
       "    </tr>\n",
       "    <tr>\n",
       "      <th>2</th>\n",
       "      <td>66915</td>\n",
       "      <td>71.5</td>\n",
       "      <td>74.415</td>\n",
       "      <td>12</td>\n",
       "      <td>158</td>\n",
       "      <td>0</td>\n",
       "      <td>2</td>\n",
       "      <td>0</td>\n",
       "    </tr>\n",
       "    <tr>\n",
       "      <th>3</th>\n",
       "      <td>68827</td>\n",
       "      <td>45.1</td>\n",
       "      <td>13.002</td>\n",
       "      <td>4</td>\n",
       "      <td>137</td>\n",
       "      <td>0</td>\n",
       "      <td>0</td>\n",
       "      <td>0</td>\n",
       "    </tr>\n",
       "    <tr>\n",
       "      <th>4</th>\n",
       "      <td>76247</td>\n",
       "      <td>52.8</td>\n",
       "      <td>7.172</td>\n",
       "      <td>69</td>\n",
       "      <td>133</td>\n",
       "      <td>0</td>\n",
       "      <td>2</td>\n",
       "      <td>0</td>\n",
       "    </tr>\n",
       "    <tr>\n",
       "      <th>5</th>\n",
       "      <td>100089</td>\n",
       "      <td>29.7</td>\n",
       "      <td>106.007</td>\n",
       "      <td>43</td>\n",
       "      <td>142</td>\n",
       "      <td>0</td>\n",
       "      <td>1</td>\n",
       "      <td>0</td>\n",
       "    </tr>\n",
       "    <tr>\n",
       "      <th>6</th>\n",
       "      <td>112623</td>\n",
       "      <td>44.0</td>\n",
       "      <td>1474.066</td>\n",
       "      <td>7</td>\n",
       "      <td>113</td>\n",
       "      <td>0</td>\n",
       "      <td>0</td>\n",
       "      <td>0</td>\n",
       "    </tr>\n",
       "    <tr>\n",
       "      <th>7</th>\n",
       "      <td>117889</td>\n",
       "      <td>36.3</td>\n",
       "      <td>14.091</td>\n",
       "      <td>13</td>\n",
       "      <td>113</td>\n",
       "      <td>1</td>\n",
       "      <td>2</td>\n",
       "      <td>0</td>\n",
       "    </tr>\n",
       "    <tr>\n",
       "      <th>8</th>\n",
       "      <td>117949</td>\n",
       "      <td>45.1</td>\n",
       "      <td>784.476</td>\n",
       "      <td>103</td>\n",
       "      <td>108</td>\n",
       "      <td>0</td>\n",
       "      <td>0</td>\n",
       "      <td>0</td>\n",
       "    </tr>\n",
       "    <tr>\n",
       "      <th>9</th>\n",
       "      <td>118196</td>\n",
       "      <td>57.2</td>\n",
       "      <td>25.355</td>\n",
       "      <td>171</td>\n",
       "      <td>180</td>\n",
       "      <td>0</td>\n",
       "      <td>0</td>\n",
       "      <td>0</td>\n",
       "    </tr>\n",
       "  </tbody>\n",
       "</table>\n",
       "</div>"
      ],
      "text/plain": [
       "   cod_cliente  Idade  Minutos_realizados_T0  Tempo_safra  Tempo_casa  \\\n",
       "0        12452   34.1                  1.848           33         127   \n",
       "1        46491   73.7                 38.137          178         187   \n",
       "2        66915   71.5                 74.415           12         158   \n",
       "3        68827   45.1                 13.002            4         137   \n",
       "4        76247   52.8                  7.172           69         133   \n",
       "5       100089   29.7                106.007           43         142   \n",
       "6       112623   44.0               1474.066            7         113   \n",
       "7       117889   36.3                 14.091           13         113   \n",
       "8       117949   45.1                784.476          103         108   \n",
       "9       118196   57.2                 25.355          171         180   \n",
       "\n",
       "   Qtd_retencao_6meses  Qtd_prod  resposta  \n",
       "0                    0         0         0  \n",
       "1                    0         2         0  \n",
       "2                    0         2         0  \n",
       "3                    0         0         0  \n",
       "4                    0         2         0  \n",
       "5                    0         1         0  \n",
       "6                    0         0         0  \n",
       "7                    1         2         0  \n",
       "8                    0         0         0  \n",
       "9                    0         0         0  "
      ]
     },
     "execution_count": 3,
     "metadata": {},
     "output_type": "execute_result"
    }
   ],
   "source": [
    "df.head(10)"
   ]
  },
  {
   "cell_type": "code",
   "execution_count": 4,
   "metadata": {},
   "outputs": [
    {
     "name": "stdout",
     "output_type": "stream",
     "text": [
      "<class 'pandas.core.frame.DataFrame'>\n",
      "RangeIndex: 318463 entries, 0 to 318462\n",
      "Data columns (total 8 columns):\n",
      " #   Column                 Non-Null Count   Dtype  \n",
      "---  ------                 --------------   -----  \n",
      " 0   cod_cliente            318463 non-null  int64  \n",
      " 1   Idade                  284150 non-null  float64\n",
      " 2   Minutos_realizados_T0  296340 non-null  float64\n",
      " 3   Tempo_safra            318463 non-null  int64  \n",
      " 4   Tempo_casa             318463 non-null  int64  \n",
      " 5   Qtd_retencao_6meses    318463 non-null  int64  \n",
      " 6   Qtd_prod               318463 non-null  int64  \n",
      " 7   resposta               318463 non-null  int64  \n",
      "dtypes: float64(2), int64(6)\n",
      "memory usage: 19.4 MB\n"
     ]
    }
   ],
   "source": [
    "df.info()"
   ]
  },
  {
   "cell_type": "code",
   "execution_count": 5,
   "metadata": {},
   "outputs": [
    {
     "name": "stdout",
     "output_type": "stream",
     "text": [
      "Quantidade de valores missing na variável Idade: 34313\n",
      "Quantidade de valores missing na variável Minutos_realizados_T0: 22123\n"
     ]
    }
   ],
   "source": [
    "print('Quantidade de valores missing na variável Idade: %.0f' % df.Idade.isna().sum())\n",
    "print('Quantidade de valores missing na variável Minutos_realizados_T0: %.0f' % df.Minutos_realizados_T0.isna().sum())"
   ]
  },
  {
   "cell_type": "code",
   "execution_count": 6,
   "metadata": {},
   "outputs": [
    {
     "data": {
      "text/plain": [
       "318463"
      ]
     },
     "execution_count": 6,
     "metadata": {},
     "output_type": "execute_result"
    }
   ],
   "source": [
    "len(df.cod_cliente.unique())"
   ]
  },
  {
   "cell_type": "code",
   "execution_count": 7,
   "metadata": {},
   "outputs": [
    {
     "data": {
      "text/html": [
       "<div>\n",
       "<style scoped>\n",
       "    .dataframe tbody tr th:only-of-type {\n",
       "        vertical-align: middle;\n",
       "    }\n",
       "\n",
       "    .dataframe tbody tr th {\n",
       "        vertical-align: top;\n",
       "    }\n",
       "\n",
       "    .dataframe thead th {\n",
       "        text-align: right;\n",
       "    }\n",
       "</style>\n",
       "<table border=\"1\" class=\"dataframe\">\n",
       "  <thead>\n",
       "    <tr style=\"text-align: right;\">\n",
       "      <th></th>\n",
       "      <th>cod_cliente</th>\n",
       "      <th>Idade</th>\n",
       "      <th>Minutos_realizados_T0</th>\n",
       "      <th>Tempo_safra</th>\n",
       "      <th>Tempo_casa</th>\n",
       "      <th>Qtd_retencao_6meses</th>\n",
       "      <th>Qtd_prod</th>\n",
       "      <th>resposta</th>\n",
       "    </tr>\n",
       "  </thead>\n",
       "  <tbody>\n",
       "    <tr>\n",
       "      <th>17</th>\n",
       "      <td>119434</td>\n",
       "      <td>39.6</td>\n",
       "      <td>NaN</td>\n",
       "      <td>8</td>\n",
       "      <td>112</td>\n",
       "      <td>0</td>\n",
       "      <td>0</td>\n",
       "      <td>0</td>\n",
       "    </tr>\n",
       "    <tr>\n",
       "      <th>20</th>\n",
       "      <td>119519</td>\n",
       "      <td>33.0</td>\n",
       "      <td>NaN</td>\n",
       "      <td>11</td>\n",
       "      <td>112</td>\n",
       "      <td>0</td>\n",
       "      <td>0</td>\n",
       "      <td>0</td>\n",
       "    </tr>\n",
       "    <tr>\n",
       "      <th>23</th>\n",
       "      <td>120118</td>\n",
       "      <td>51.7</td>\n",
       "      <td>NaN</td>\n",
       "      <td>132</td>\n",
       "      <td>139</td>\n",
       "      <td>0</td>\n",
       "      <td>0</td>\n",
       "      <td>0</td>\n",
       "    </tr>\n",
       "    <tr>\n",
       "      <th>58</th>\n",
       "      <td>124357</td>\n",
       "      <td>64.9</td>\n",
       "      <td>NaN</td>\n",
       "      <td>4</td>\n",
       "      <td>111</td>\n",
       "      <td>0</td>\n",
       "      <td>0</td>\n",
       "      <td>0</td>\n",
       "    </tr>\n",
       "    <tr>\n",
       "      <th>67</th>\n",
       "      <td>124847</td>\n",
       "      <td>63.8</td>\n",
       "      <td>NaN</td>\n",
       "      <td>47</td>\n",
       "      <td>133</td>\n",
       "      <td>0</td>\n",
       "      <td>1</td>\n",
       "      <td>0</td>\n",
       "    </tr>\n",
       "    <tr>\n",
       "      <th>69</th>\n",
       "      <td>124921</td>\n",
       "      <td>66.0</td>\n",
       "      <td>NaN</td>\n",
       "      <td>3</td>\n",
       "      <td>111</td>\n",
       "      <td>0</td>\n",
       "      <td>0</td>\n",
       "      <td>0</td>\n",
       "    </tr>\n",
       "    <tr>\n",
       "      <th>78</th>\n",
       "      <td>125978</td>\n",
       "      <td>33.0</td>\n",
       "      <td>NaN</td>\n",
       "      <td>5</td>\n",
       "      <td>110</td>\n",
       "      <td>1</td>\n",
       "      <td>0</td>\n",
       "      <td>0</td>\n",
       "    </tr>\n",
       "    <tr>\n",
       "      <th>88</th>\n",
       "      <td>126665</td>\n",
       "      <td>38.5</td>\n",
       "      <td>NaN</td>\n",
       "      <td>13</td>\n",
       "      <td>137</td>\n",
       "      <td>0</td>\n",
       "      <td>0</td>\n",
       "      <td>0</td>\n",
       "    </tr>\n",
       "    <tr>\n",
       "      <th>89</th>\n",
       "      <td>126735</td>\n",
       "      <td>42.9</td>\n",
       "      <td>NaN</td>\n",
       "      <td>9</td>\n",
       "      <td>110</td>\n",
       "      <td>0</td>\n",
       "      <td>0</td>\n",
       "      <td>0</td>\n",
       "    </tr>\n",
       "    <tr>\n",
       "      <th>106</th>\n",
       "      <td>127882</td>\n",
       "      <td>36.3</td>\n",
       "      <td>NaN</td>\n",
       "      <td>35</td>\n",
       "      <td>37</td>\n",
       "      <td>1</td>\n",
       "      <td>0</td>\n",
       "      <td>0</td>\n",
       "    </tr>\n",
       "  </tbody>\n",
       "</table>\n",
       "</div>"
      ],
      "text/plain": [
       "     cod_cliente  Idade  Minutos_realizados_T0  Tempo_safra  Tempo_casa  \\\n",
       "17        119434   39.6                    NaN            8         112   \n",
       "20        119519   33.0                    NaN           11         112   \n",
       "23        120118   51.7                    NaN          132         139   \n",
       "58        124357   64.9                    NaN            4         111   \n",
       "67        124847   63.8                    NaN           47         133   \n",
       "69        124921   66.0                    NaN            3         111   \n",
       "78        125978   33.0                    NaN            5         110   \n",
       "88        126665   38.5                    NaN           13         137   \n",
       "89        126735   42.9                    NaN            9         110   \n",
       "106       127882   36.3                    NaN           35          37   \n",
       "\n",
       "     Qtd_retencao_6meses  Qtd_prod  resposta  \n",
       "17                     0         0         0  \n",
       "20                     0         0         0  \n",
       "23                     0         0         0  \n",
       "58                     0         0         0  \n",
       "67                     0         1         0  \n",
       "69                     0         0         0  \n",
       "78                     1         0         0  \n",
       "88                     0         0         0  \n",
       "89                     0         0         0  \n",
       "106                    1         0         0  "
      ]
     },
     "execution_count": 7,
     "metadata": {},
     "output_type": "execute_result"
    }
   ],
   "source": [
    "df.loc[df.Minutos_realizados_T0.isna() == 1].head(10)"
   ]
  },
  {
   "cell_type": "code",
   "execution_count": 8,
   "metadata": {},
   "outputs": [
    {
     "data": {
      "text/html": [
       "<div>\n",
       "<style scoped>\n",
       "    .dataframe tbody tr th:only-of-type {\n",
       "        vertical-align: middle;\n",
       "    }\n",
       "\n",
       "    .dataframe tbody tr th {\n",
       "        vertical-align: top;\n",
       "    }\n",
       "\n",
       "    .dataframe thead th {\n",
       "        text-align: right;\n",
       "    }\n",
       "</style>\n",
       "<table border=\"1\" class=\"dataframe\">\n",
       "  <thead>\n",
       "    <tr style=\"text-align: right;\">\n",
       "      <th></th>\n",
       "      <th>cod_cliente</th>\n",
       "      <th>Idade</th>\n",
       "      <th>Minutos_realizados_T0</th>\n",
       "      <th>Tempo_safra</th>\n",
       "      <th>Tempo_casa</th>\n",
       "      <th>Qtd_retencao_6meses</th>\n",
       "      <th>Qtd_prod</th>\n",
       "      <th>resposta</th>\n",
       "    </tr>\n",
       "  </thead>\n",
       "  <tbody>\n",
       "    <tr>\n",
       "      <th>1209</th>\n",
       "      <td>10001012</td>\n",
       "      <td>NaN</td>\n",
       "      <td>33.649</td>\n",
       "      <td>125</td>\n",
       "      <td>131</td>\n",
       "      <td>0</td>\n",
       "      <td>0</td>\n",
       "      <td>0</td>\n",
       "    </tr>\n",
       "    <tr>\n",
       "      <th>1252</th>\n",
       "      <td>10001122</td>\n",
       "      <td>NaN</td>\n",
       "      <td>35.090</td>\n",
       "      <td>133</td>\n",
       "      <td>140</td>\n",
       "      <td>0</td>\n",
       "      <td>0</td>\n",
       "      <td>0</td>\n",
       "    </tr>\n",
       "    <tr>\n",
       "      <th>1286</th>\n",
       "      <td>10001254</td>\n",
       "      <td>NaN</td>\n",
       "      <td>748.847</td>\n",
       "      <td>182</td>\n",
       "      <td>191</td>\n",
       "      <td>0</td>\n",
       "      <td>1</td>\n",
       "      <td>0</td>\n",
       "    </tr>\n",
       "    <tr>\n",
       "      <th>1378</th>\n",
       "      <td>10001469</td>\n",
       "      <td>NaN</td>\n",
       "      <td>307.164</td>\n",
       "      <td>182</td>\n",
       "      <td>191</td>\n",
       "      <td>0</td>\n",
       "      <td>4</td>\n",
       "      <td>0</td>\n",
       "    </tr>\n",
       "    <tr>\n",
       "      <th>1387</th>\n",
       "      <td>10001492</td>\n",
       "      <td>NaN</td>\n",
       "      <td>29.557</td>\n",
       "      <td>182</td>\n",
       "      <td>191</td>\n",
       "      <td>0</td>\n",
       "      <td>0</td>\n",
       "      <td>0</td>\n",
       "    </tr>\n",
       "    <tr>\n",
       "      <th>1399</th>\n",
       "      <td>10001519</td>\n",
       "      <td>NaN</td>\n",
       "      <td>22.517</td>\n",
       "      <td>182</td>\n",
       "      <td>191</td>\n",
       "      <td>0</td>\n",
       "      <td>0</td>\n",
       "      <td>0</td>\n",
       "    </tr>\n",
       "    <tr>\n",
       "      <th>1408</th>\n",
       "      <td>10001536</td>\n",
       "      <td>NaN</td>\n",
       "      <td>12.155</td>\n",
       "      <td>107</td>\n",
       "      <td>112</td>\n",
       "      <td>0</td>\n",
       "      <td>1</td>\n",
       "      <td>0</td>\n",
       "    </tr>\n",
       "    <tr>\n",
       "      <th>1416</th>\n",
       "      <td>10001549</td>\n",
       "      <td>NaN</td>\n",
       "      <td>NaN</td>\n",
       "      <td>182</td>\n",
       "      <td>191</td>\n",
       "      <td>0</td>\n",
       "      <td>0</td>\n",
       "      <td>0</td>\n",
       "    </tr>\n",
       "    <tr>\n",
       "      <th>1488</th>\n",
       "      <td>10001714</td>\n",
       "      <td>NaN</td>\n",
       "      <td>11.979</td>\n",
       "      <td>182</td>\n",
       "      <td>191</td>\n",
       "      <td>0</td>\n",
       "      <td>2</td>\n",
       "      <td>0</td>\n",
       "    </tr>\n",
       "    <tr>\n",
       "      <th>1498</th>\n",
       "      <td>10001742</td>\n",
       "      <td>NaN</td>\n",
       "      <td>NaN</td>\n",
       "      <td>79</td>\n",
       "      <td>83</td>\n",
       "      <td>0</td>\n",
       "      <td>0</td>\n",
       "      <td>0</td>\n",
       "    </tr>\n",
       "  </tbody>\n",
       "</table>\n",
       "</div>"
      ],
      "text/plain": [
       "      cod_cliente  Idade  Minutos_realizados_T0  Tempo_safra  Tempo_casa  \\\n",
       "1209     10001012    NaN                 33.649          125         131   \n",
       "1252     10001122    NaN                 35.090          133         140   \n",
       "1286     10001254    NaN                748.847          182         191   \n",
       "1378     10001469    NaN                307.164          182         191   \n",
       "1387     10001492    NaN                 29.557          182         191   \n",
       "1399     10001519    NaN                 22.517          182         191   \n",
       "1408     10001536    NaN                 12.155          107         112   \n",
       "1416     10001549    NaN                    NaN          182         191   \n",
       "1488     10001714    NaN                 11.979          182         191   \n",
       "1498     10001742    NaN                    NaN           79          83   \n",
       "\n",
       "      Qtd_retencao_6meses  Qtd_prod  resposta  \n",
       "1209                    0         0         0  \n",
       "1252                    0         0         0  \n",
       "1286                    0         1         0  \n",
       "1378                    0         4         0  \n",
       "1387                    0         0         0  \n",
       "1399                    0         0         0  \n",
       "1408                    0         1         0  \n",
       "1416                    0         0         0  \n",
       "1488                    0         2         0  \n",
       "1498                    0         0         0  "
      ]
     },
     "execution_count": 8,
     "metadata": {},
     "output_type": "execute_result"
    }
   ],
   "source": [
    "df.loc[df.Idade.isna() == 1].head(10)"
   ]
  },
  {
   "cell_type": "code",
   "execution_count": 9,
   "metadata": {},
   "outputs": [
    {
     "data": {
      "text/html": [
       "<div>\n",
       "<style scoped>\n",
       "    .dataframe tbody tr th:only-of-type {\n",
       "        vertical-align: middle;\n",
       "    }\n",
       "\n",
       "    .dataframe tbody tr th {\n",
       "        vertical-align: top;\n",
       "    }\n",
       "\n",
       "    .dataframe thead th {\n",
       "        text-align: right;\n",
       "    }\n",
       "</style>\n",
       "<table border=\"1\" class=\"dataframe\">\n",
       "  <thead>\n",
       "    <tr style=\"text-align: right;\">\n",
       "      <th></th>\n",
       "      <th>cod_cliente</th>\n",
       "    </tr>\n",
       "    <tr>\n",
       "      <th>resposta</th>\n",
       "      <th></th>\n",
       "    </tr>\n",
       "  </thead>\n",
       "  <tbody>\n",
       "    <tr>\n",
       "      <th>0</th>\n",
       "      <td>99.131453</td>\n",
       "    </tr>\n",
       "    <tr>\n",
       "      <th>1</th>\n",
       "      <td>0.868547</td>\n",
       "    </tr>\n",
       "  </tbody>\n",
       "</table>\n",
       "</div>"
      ],
      "text/plain": [
       "          cod_cliente\n",
       "resposta             \n",
       "0           99.131453\n",
       "1            0.868547"
      ]
     },
     "execution_count": 9,
     "metadata": {},
     "output_type": "execute_result"
    }
   ],
   "source": [
    "df[['cod_cliente', 'resposta']].groupby('resposta').count()*100/df.cod_cliente.size"
   ]
  },
  {
   "cell_type": "code",
   "execution_count": 10,
   "metadata": {},
   "outputs": [
    {
     "data": {
      "text/html": [
       "<div>\n",
       "<style scoped>\n",
       "    .dataframe tbody tr th:only-of-type {\n",
       "        vertical-align: middle;\n",
       "    }\n",
       "\n",
       "    .dataframe tbody tr th {\n",
       "        vertical-align: top;\n",
       "    }\n",
       "\n",
       "    .dataframe thead th {\n",
       "        text-align: right;\n",
       "    }\n",
       "</style>\n",
       "<table border=\"1\" class=\"dataframe\">\n",
       "  <thead>\n",
       "    <tr style=\"text-align: right;\">\n",
       "      <th></th>\n",
       "      <th>cod_cliente</th>\n",
       "      <th>Idade</th>\n",
       "      <th>Minutos_realizados_T0</th>\n",
       "      <th>Tempo_safra</th>\n",
       "      <th>Tempo_casa</th>\n",
       "      <th>Qtd_retencao_6meses</th>\n",
       "      <th>Qtd_prod</th>\n",
       "      <th>resposta</th>\n",
       "    </tr>\n",
       "  </thead>\n",
       "  <tbody>\n",
       "    <tr>\n",
       "      <th>count</th>\n",
       "      <td>3.184630e+05</td>\n",
       "      <td>284150.000000</td>\n",
       "      <td>296340.000000</td>\n",
       "      <td>318463.000000</td>\n",
       "      <td>318463.000000</td>\n",
       "      <td>318463.000000</td>\n",
       "      <td>318463.000000</td>\n",
       "      <td>318463.000000</td>\n",
       "    </tr>\n",
       "    <tr>\n",
       "      <th>mean</th>\n",
       "      <td>1.053286e+07</td>\n",
       "      <td>51.989840</td>\n",
       "      <td>130.239079</td>\n",
       "      <td>93.842607</td>\n",
       "      <td>109.892540</td>\n",
       "      <td>0.187202</td>\n",
       "      <td>0.729912</td>\n",
       "      <td>0.008685</td>\n",
       "    </tr>\n",
       "    <tr>\n",
       "      <th>std</th>\n",
       "      <td>6.431751e+05</td>\n",
       "      <td>17.342716</td>\n",
       "      <td>222.233789</td>\n",
       "      <td>61.331478</td>\n",
       "      <td>58.811786</td>\n",
       "      <td>0.585582</td>\n",
       "      <td>0.951895</td>\n",
       "      <td>0.092790</td>\n",
       "    </tr>\n",
       "    <tr>\n",
       "      <th>min</th>\n",
       "      <td>1.245200e+04</td>\n",
       "      <td>0.000000</td>\n",
       "      <td>0.022000</td>\n",
       "      <td>3.000000</td>\n",
       "      <td>3.000000</td>\n",
       "      <td>0.000000</td>\n",
       "      <td>0.000000</td>\n",
       "      <td>0.000000</td>\n",
       "    </tr>\n",
       "    <tr>\n",
       "      <th>25%</th>\n",
       "      <td>1.014983e+07</td>\n",
       "      <td>39.600000</td>\n",
       "      <td>21.681000</td>\n",
       "      <td>37.000000</td>\n",
       "      <td>72.000000</td>\n",
       "      <td>0.000000</td>\n",
       "      <td>0.000000</td>\n",
       "      <td>0.000000</td>\n",
       "    </tr>\n",
       "    <tr>\n",
       "      <th>50%</th>\n",
       "      <td>1.038445e+07</td>\n",
       "      <td>50.600000</td>\n",
       "      <td>56.408000</td>\n",
       "      <td>90.000000</td>\n",
       "      <td>101.000000</td>\n",
       "      <td>0.000000</td>\n",
       "      <td>1.000000</td>\n",
       "      <td>0.000000</td>\n",
       "    </tr>\n",
       "    <tr>\n",
       "      <th>75%</th>\n",
       "      <td>1.080318e+07</td>\n",
       "      <td>62.700000</td>\n",
       "      <td>136.457750</td>\n",
       "      <td>138.000000</td>\n",
       "      <td>149.000000</td>\n",
       "      <td>0.000000</td>\n",
       "      <td>1.000000</td>\n",
       "      <td>0.000000</td>\n",
       "    </tr>\n",
       "    <tr>\n",
       "      <th>max</th>\n",
       "      <td>1.174159e+07</td>\n",
       "      <td>118.800000</td>\n",
       "      <td>1474.066000</td>\n",
       "      <td>219.000000</td>\n",
       "      <td>230.000000</td>\n",
       "      <td>45.000000</td>\n",
       "      <td>30.000000</td>\n",
       "      <td>1.000000</td>\n",
       "    </tr>\n",
       "  </tbody>\n",
       "</table>\n",
       "</div>"
      ],
      "text/plain": [
       "        cod_cliente          Idade  Minutos_realizados_T0    Tempo_safra  \\\n",
       "count  3.184630e+05  284150.000000          296340.000000  318463.000000   \n",
       "mean   1.053286e+07      51.989840             130.239079      93.842607   \n",
       "std    6.431751e+05      17.342716             222.233789      61.331478   \n",
       "min    1.245200e+04       0.000000               0.022000       3.000000   \n",
       "25%    1.014983e+07      39.600000              21.681000      37.000000   \n",
       "50%    1.038445e+07      50.600000              56.408000      90.000000   \n",
       "75%    1.080318e+07      62.700000             136.457750     138.000000   \n",
       "max    1.174159e+07     118.800000            1474.066000     219.000000   \n",
       "\n",
       "          Tempo_casa  Qtd_retencao_6meses       Qtd_prod       resposta  \n",
       "count  318463.000000        318463.000000  318463.000000  318463.000000  \n",
       "mean      109.892540             0.187202       0.729912       0.008685  \n",
       "std        58.811786             0.585582       0.951895       0.092790  \n",
       "min         3.000000             0.000000       0.000000       0.000000  \n",
       "25%        72.000000             0.000000       0.000000       0.000000  \n",
       "50%       101.000000             0.000000       1.000000       0.000000  \n",
       "75%       149.000000             0.000000       1.000000       0.000000  \n",
       "max       230.000000            45.000000      30.000000       1.000000  "
      ]
     },
     "execution_count": 10,
     "metadata": {},
     "output_type": "execute_result"
    }
   ],
   "source": [
    "df.describe()"
   ]
  },
  {
   "cell_type": "code",
   "execution_count": 11,
   "metadata": {},
   "outputs": [],
   "source": [
    "df = df.drop('cod_cliente', axis=1)"
   ]
  },
  {
   "cell_type": "code",
   "execution_count": 12,
   "metadata": {},
   "outputs": [],
   "source": [
    "#    Podemos tratar os missings da variável Minutos_realizados_T0 como 0, pois não temos nenhum valor igual a zero \n",
    "#significando que provavelmente um dado NaN é igual um cliente que não realizou ligações durante esse período.\n",
    "\n",
    "df.Minutos_realizados_T0.replace(to_replace = np.nan, value = 0, inplace=True)"
   ]
  },
  {
   "cell_type": "code",
   "execution_count": 13,
   "metadata": {},
   "outputs": [],
   "source": [
    "#    Trancando o missing da variável idade por 999\n",
    "\n",
    "df.Idade.replace(to_replace = np.nan, value = 999, inplace=True)\n",
    "df.Idade = [i if i > 18 or i < 100 else 999 for i in df.Idade]"
   ]
  },
  {
   "cell_type": "code",
   "execution_count": 14,
   "metadata": {},
   "outputs": [
    {
     "name": "stdout",
     "output_type": "stream",
     "text": [
      "<class 'pandas.core.frame.DataFrame'>\n",
      "RangeIndex: 318463 entries, 0 to 318462\n",
      "Data columns (total 7 columns):\n",
      " #   Column                 Non-Null Count   Dtype  \n",
      "---  ------                 --------------   -----  \n",
      " 0   Idade                  318463 non-null  float64\n",
      " 1   Minutos_realizados_T0  318463 non-null  float64\n",
      " 2   Tempo_safra            318463 non-null  int64  \n",
      " 3   Tempo_casa             318463 non-null  int64  \n",
      " 4   Qtd_retencao_6meses    318463 non-null  int64  \n",
      " 5   Qtd_prod               318463 non-null  int64  \n",
      " 6   resposta               318463 non-null  int64  \n",
      "dtypes: float64(2), int64(5)\n",
      "memory usage: 17.0 MB\n"
     ]
    }
   ],
   "source": [
    "df.info()"
   ]
  },
  {
   "cell_type": "code",
   "execution_count": 15,
   "metadata": {},
   "outputs": [
    {
     "data": {
      "text/plain": [
       "1833"
      ]
     },
     "execution_count": 15,
     "metadata": {},
     "output_type": "execute_result"
    }
   ],
   "source": [
    "#Verificar se existem dados de pessoas com idade menor que 18 anos\n",
    "\n",
    "len([i for i in df.Idade if i < 18])"
   ]
  },
  {
   "cell_type": "code",
   "execution_count": 16,
   "metadata": {},
   "outputs": [
    {
     "data": {
      "text/plain": [
       "35429"
      ]
     },
     "execution_count": 16,
     "metadata": {},
     "output_type": "execute_result"
    }
   ],
   "source": [
    "#Verificar se existem daddos de pessoas com idade maior que 100 anos\n",
    "\n",
    "len([i for i in df.Idade if i > 100])"
   ]
  },
  {
   "cell_type": "code",
   "execution_count": 17,
   "metadata": {},
   "outputs": [
    {
     "data": {
      "image/png": "[encoded data removed]",
      "text/plain": [
       "<Figure size 1296x720 with 6 Axes>"
      ]
     },
     "metadata": {
      "needs_background": "light"
     },
     "output_type": "display_data"
    }
   ],
   "source": [
    "#Análise univariada\n",
    "fig, axes = plt.subplots(1, 6, figsize=(18,10))\n",
    "fig.subplots_adjust(hspace=0.1, wspace=0.4)\n",
    "\n",
    "colors = ['b', 'g', 'r', 'c', 'm', 'y']\n",
    "\n",
    "for n, i in enumerate([i for i in df.columns if i != 'resposta']):\n",
    "    sns.boxplot(data=df[[i]].melt(), x='variable', y='value', ax=axes[n], color=colors[n])"
   ]
  },
  {
   "cell_type": "code",
   "execution_count": 18,
   "metadata": {},
   "outputs": [
    {
     "data": {
      "image/png": "[encoded data removed]",
      "text/plain": [
       "<Figure size 1296x720 with 6 Axes>"
      ]
     },
     "metadata": {
      "needs_background": "light"
     },
     "output_type": "display_data"
    }
   ],
   "source": [
    "#Análise bivariada\n",
    "\n",
    "fig, axes = plt.subplots(1, 6, figsize=(18,10))\n",
    "fig.subplots_adjust(hspace=0.1, wspace=0.4)\n",
    "\n",
    "colors = ['b', 'g', 'r', 'c', 'm', 'y']\n",
    "\n",
    "for n, i in enumerate([i for i in df.columns if i != 'resposta']):\n",
    "    sns.boxplot(data=df, x='resposta', y=i, ax=axes[n], color=colors[n])"
   ]
  },
  {
   "cell_type": "code",
   "execution_count": 26,
   "metadata": {},
   "outputs": [
    {
     "data": {
      "text/plain": [
       "(40.7, 53.9]      83987\n",
       "(-0.001, 40.7]    81642\n",
       "(69.3, 999.0]     79543\n",
       "(53.9, 69.3]      73291\n",
       "Name: Idade_q, dtype: int64"
      ]
     },
     "execution_count": 26,
     "metadata": {},
     "output_type": "execute_result"
    }
   ],
   "source": [
    "df['Idade_q'] = pd.qcut(df.Idade, 4)\n",
    "df.Idade_q.value_counts()"
   ]
  },
  {
   "cell_type": "code",
   "execution_count": 20,
   "metadata": {},
   "outputs": [
    {
     "data": {
      "text/plain": [
       "(-0.001, 16.082]       79621\n",
       "(49.72, 126.731]       79615\n",
       "(16.082, 49.72]        79614\n",
       "(126.731, 1474.066]    79613\n",
       "Name: Minutos_realizados_T0_q, dtype: int64"
      ]
     },
     "execution_count": 20,
     "metadata": {},
     "output_type": "execute_result"
    }
   ],
   "source": [
    "df['Minutos_realizados_T0_q'] = pd.qcut(df.Minutos_realizados_T0, 4)\n",
    "df.Minutos_realizados_T0_q.value_counts()"
   ]
  },
  {
   "cell_type": "code",
   "execution_count": 21,
   "metadata": {},
   "outputs": [
    {
     "data": {
      "text/plain": [
       "(2.999, 37.0]     80635\n",
       "(37.0, 90.0]      80361\n",
       "(138.0, 219.0]    79072\n",
       "(90.0, 138.0]     78395\n",
       "Name: Tempo_safra_q, dtype: int64"
      ]
     },
     "execution_count": 21,
     "metadata": {},
     "output_type": "execute_result"
    }
   ],
   "source": [
    "df['Tempo_safra_q'] = pd.qcut(df.Tempo_safra, 4)\n",
    "df.Tempo_safra_q.value_counts()"
   ]
  },
  {
   "cell_type": "code",
   "execution_count": 22,
   "metadata": {},
   "outputs": [
    {
     "data": {
      "text/plain": [
       "(2.999, 37.0]     80635\n",
       "(37.0, 90.0]      80361\n",
       "(138.0, 219.0]    79072\n",
       "(90.0, 138.0]     78395\n",
       "Name: Tempo_casa_q, dtype: int64"
      ]
     },
     "execution_count": 22,
     "metadata": {},
     "output_type": "execute_result"
    }
   ],
   "source": [
    "df['Tempo_casa_q'] = pd.qcut(df.Tempo_safra, 4)\n",
    "df.Tempo_casa_q.value_counts()"
   ]
  },
  {
   "cell_type": "code",
   "execution_count": 28,
   "metadata": {},
   "outputs": [
    {
     "name": "stdout",
     "output_type": "stream",
     "text": [
      "<class 'pandas.core.frame.DataFrame'>\n",
      "RangeIndex: 318463 entries, 0 to 318462\n",
      "Data columns (total 11 columns):\n",
      " #   Column                   Non-Null Count   Dtype   \n",
      "---  ------                   --------------   -----   \n",
      " 0   Idade                    318463 non-null  float64 \n",
      " 1   Minutos_realizados_T0    318463 non-null  float64 \n",
      " 2   Tempo_safra              318463 non-null  int64   \n",
      " 3   Tempo_casa               318463 non-null  int64   \n",
      " 4   Qtd_retencao_6meses      318463 non-null  int64   \n",
      " 5   Qtd_prod                 318463 non-null  int64   \n",
      " 6   resposta                 318463 non-null  int64   \n",
      " 7   Idade_q                  318463 non-null  object  \n",
      " 8   Minutos_realizados_T0_q  318463 non-null  category\n",
      " 9   Tempo_safra_q            318463 non-null  category\n",
      " 10  Tempo_casa_q             318463 non-null  category\n",
      "dtypes: category(3), float64(2), int64(5), object(1)\n",
      "memory usage: 20.3+ MB\n"
     ]
    }
   ],
   "source": [
    "df.info()"
   ]
  }
 ],
 "metadata": {
  "kernelspec": {
   "display_name": "Python 3",
   "language": "python",
   "name": "python3"
  },
  "language_info": {
   "codemirror_mode": {
    "name": "ipython",
    "version": 3
   },
   "file_extension": ".py",
   "mimetype": "text/x-python",
   "name": "python",
   "nbconvert_exporter": "python",
   "pygments_lexer": "ipython3",
   "version": "3.8.5"
  }
 },
 "nbformat": 4,
 "nbformat_minor": 4
}
