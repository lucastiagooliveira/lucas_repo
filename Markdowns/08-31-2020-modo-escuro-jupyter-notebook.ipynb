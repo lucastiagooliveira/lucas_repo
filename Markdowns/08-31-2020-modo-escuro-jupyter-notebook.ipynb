{
 "cells": [
  {
   "cell_type": "markdown",
   "metadata": {},
   "source": [
    "# Como utilizar um Jupiter Notebook no modo escuro?"
   ]
  },
  {
   "cell_type": "markdown",
   "metadata": {},
   "source": [
    "Se você também gosta de codar utilizando Jupyter Notebooks e ainda usa o modo escuro em todas as janelas para não sentir cansaço visual depois de ficar olhando para tela o dia todo, já deve ter se peguntado como posso mudar o tema do jupyter notebook para o modo escuro?\n",
    "\n",
    "Mas se você procurar em todas as configurações não vai encontrar nada que possa resolver esse problema nas configurações padrões. Para fazermos isso temos duas possibilidades, as quais demostrarei a seguir."
   ]
  },
  {
   "cell_type": "markdown",
   "metadata": {},
   "source": [
    "## Utilizar o pacote jupyter-themes"
   ]
  },
  {
   "cell_type": "markdown",
   "metadata": {},
   "source": [
    "Para instalar esse pacote basta digitar no prompt de comando para instalar esse pacote que foi criado por Kyle Dunovan:"
   ]
  },
  {
   "cell_type": "code",
   "execution_count": null,
   "metadata": {},
   "outputs": [],
   "source": [
    "#intalação jupyterthemes\n",
    "pip install jupyterthemes"
   ]
  },
  {
   "cell_type": "markdown",
   "metadata": {},
   "source": [
    "Ou utilizando o anaconda para instalação:"
   ]
  },
  {
   "cell_type": "code",
   "execution_count": null,
   "metadata": {},
   "outputs": [],
   "source": [
    "#instalação jupyterthemes utilizando o anaconda:\n",
    "conda install jupyterthemes"
   ]
  },
  {
   "cell_type": "markdown",
   "metadata": {},
   "source": [
    "Após a instalação para verificar os temas diponíveis basta digitar:"
   ]
  },
  {
   "cell_type": "code",
   "execution_count": null,
   "metadata": {},
   "outputs": [],
   "source": [
    "jt -l"
   ]
  },
  {
   "cell_type": "markdown",
   "metadata": {},
   "source": [
    "Serão listados os temas que estão disponíveis para utilização (por exemplo):"
   ]
  },
  {
   "cell_type": "markdown",
   "metadata": {},
   "source": [
    "*onedork |\n",
    "grade3 |\n",
    "oceans16 |\n",
    "chesterish |\n",
    "monokai |\n",
    "solarizedl |\n",
    "solarizedd*"
   ]
  },
  {
   "cell_type": "markdown",
   "metadata": {},
   "source": [
    "Para escolher o tema a ser utilizado:"
   ]
  },
  {
   "cell_type": "code",
   "execution_count": null,
   "metadata": {},
   "outputs": [],
   "source": [
    "# seleção do tema\n",
    "jt -t <nome do tema>\n",
    "\n",
    "# para exemplificar\n",
    "jt -t chesterish"
   ]
  },
  {
   "cell_type": "markdown",
   "metadata": {},
   "source": [
    "Então para voltar a utilizar o tema original, só utilizar o comando: \n",
    "\n",
    "Obs.: Caso não funcione, tente abrir um novo jupyter notebook"
   ]
  },
  {
   "cell_type": "code",
   "execution_count": null,
   "metadata": {},
   "outputs": [],
   "source": [
    "#voltar o tema original\n",
    "jt -r"
   ]
  },
  {
   "cell_type": "markdown",
   "metadata": {},
   "source": [
    "Para mais configurações e informações desse tema, acesso o repositório oficial: https://github.com/dunovank/jupyter-themes"
   ]
  },
  {
   "cell_type": "markdown",
   "metadata": {},
   "source": [
    "## Utilizar o JupyterLab"
   ]
  },
  {
   "cell_type": "markdown",
   "metadata": {},
   "source": [
    "JupyterLab é a nova geração da interface web do Project Jupyter, este já vem instalado para quem utiliza os ultimos pacotes do anaconda (https://docs.anaconda.com/anaconda/packages/pkg-docs/). Que não utiliza essas versões podem fazer a instalação separada utilizando as instruções do site: https://jupyterlab.readthedocs.io/en/stable/getting_started/installation.html."
   ]
  },
  {
   "cell_type": "markdown",
   "metadata": {},
   "source": [
    "Para abrir o JupyterLab basta digitir no prompt de comando:"
   ]
  },
  {
   "cell_type": "code",
   "execution_count": null,
   "metadata": {},
   "outputs": [],
   "source": [
    "jupyter lab"
   ]
  },
  {
   "cell_type": "markdown",
   "metadata": {},
   "source": [
    "Após executado vai ser aberto o JupyterLab no seu browser, irá abrir de forma similar a imagem abaixo:"
   ]
  },
  {
   "cell_type": "markdown",
   "metadata": {},
   "source": [
    "![JupyterLab](https://github.com/lucastiagooliveira/lucas_repo/blob/master/Markdowns/jupyter-lab.jpg)"
   ]
  },
  {
   "cell_type": "markdown",
   "metadata": {},
   "source": [
    "Então com o JupyterLab aberto basta ir em Settings -> JupyterLab Theme -> JupyterLab Dark."
   ]
  },
  {
   "cell_type": "code",
   "execution_count": 14,
   "metadata": {},
   "outputs": [
    {
     "name": "stderr",
     "output_type": "stream",
     "text": [
      "'[JupyterLab-Dark-Mode]' is not recognized as an internal or external command,\n",
      "operable program or batch file.\n"
     ]
    }
   ],
   "source": [
    "![JupyterLab-Dark-Mode](https://github.com/lucastiagooliveira/lucas_repo/blob/master/Markdowns/jupyter-lab-dark.jpg)"
   ]
  }
 ],
 "metadata": {
  "kernelspec": {
   "display_name": "Python 3",
   "language": "python",
   "name": "python3"
  },
  "language_info": {
   "codemirror_mode": {
    "name": "ipython",
    "version": 3
   },
   "file_extension": ".py",
   "mimetype": "text/x-python",
   "name": "python",
   "nbconvert_exporter": "python",
   "pygments_lexer": "ipython3",
   "version": "3.7.1"
  }
 },
 "nbformat": 4,
 "nbformat_minor": 4
}
