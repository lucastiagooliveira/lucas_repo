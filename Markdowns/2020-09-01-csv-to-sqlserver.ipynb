{
 "cells": [
  {
   "cell_type": "markdown",
   "metadata": {},
   "source": [
    "# Utilizando .csv em banco de dados SQL Server\n",
    "> A tutorial de como utilizar pyodbc para salvar um arquivo csv no SQL Server\n",
    "\n",
    "- toc: false\n",
    "- badges: true\n",
    "- comments: true\n",
    "- categories: [csv, image]\n",
    "- image: "
   ]
  },
  {
   "cell_type": "markdown",
   "metadata": {},
   "source": [
    "Para salvar um arquivo .csv utilizando python precisamos que na máquina local tenha instalado o gerenciador de banco de dados SQL Sever, caso não seja o caso faça o download da versão express (gratuita) no link: https://www.microsoft.com/pt-br/sql-server/sql-server-downloads.\n",
    "\n",
    "Para utilizarmos python para acessar bancos de dados precisamos instalar o `pyodbc`, o qual possibilita a conexão com diversos tipos de banco de dados. Para instalar é só digitar no prompt de comando `pip install pyodbc`. Para maiores mais detalhes: https://pypi.org/project/pyodbc/."
   ]
  },
  {
   "cell_type": "markdown",
   "metadata": {},
   "source": [
    "## Carregando os pacotes do python"
   ]
  },
  {
   "cell_type": "code",
   "execution_count": 1,
   "metadata": {},
   "outputs": [],
   "source": [
    "#carregando os pacotes necessários\n",
    "import pyodbc\n",
    "import pandas as pd\n",
    "import csv"
   ]
  },
  {
   "cell_type": "markdown",
   "metadata": {},
   "source": [
    "## Fazendo conexão com o banco de dados"
   ]
  },
  {
   "cell_type": "markdown",
   "metadata": {},
   "source": [
    "Antes de mais nada precisamos conectar com o banco de dados que está instalado, o qual necessita dos seguintes dados:\n",
    "\n",
    "- SERVER (nome do servidor);\n",
    "- DATABASE (nome do seu banco de dados);\n",
    "- USERNAME (nome de usuário do banco de dados);\n",
    "- PASSWORD (senha do banco de dados);\n",
    "- DRIVER (tipo do banco de dados).\n",
    "\n",
    "Para estabelecer uma conexão utiliza-se o método `pyodbc.connect` da seguinte forma:\n",
    "\n",
    "`pyodbc.connect('DRIVER='+driver+';SERVER='+server+';PORT=1433;DATABASE='+database+';UID='+username+';PWD='+ password)`"
   ]
  },
  {
   "cell_type": "code",
   "execution_count": 2,
   "metadata": {},
   "outputs": [],
   "source": [
    "#hide\n",
    "conn = pyodbc.connect('DRIVER={SQL Server};SERVER=LAPTOP-93DTTS7R\\SQLEXPRESS;DATABASE=SQL_DB_1;Trusted_Connection = yes')"
   ]
  },
  {
   "cell_type": "markdown",
   "metadata": {},
   "source": [
    "## Criando cursor"
   ]
  },
  {
   "cell_type": "markdown",
   "metadata": {},
   "source": [
    "Para manipularmos os dados de um banco de dados utilizando uma API (Application Programming Interface), necessita-se de fazermos utilizando um cursor. Os cursores possibilitam é um objeto que aponta para uma determinada linha dentro de um conjunto, o este que irá realizar todas as operações no banco de dados.\n",
    "\n",
    "Para declarar iniciar um cursor utiliza-se o método `.cursor()`.\n",
    "\n",
    "Obs.: Nunca deve-mos deixar de fechar o cursor após o uso."
   ]
  },
  {
   "cell_type": "code",
   "execution_count": 3,
   "metadata": {},
   "outputs": [],
   "source": [
    "cur = conn.cursor()"
   ]
  },
  {
   "cell_type": "markdown",
   "metadata": {},
   "source": [
    "## Criando uma tabela no SQL Server"
   ]
  },
  {
   "cell_type": "markdown",
   "metadata": {},
   "source": [
    "Com o cursor aberto, podemos utiliza-lo para realizarmos as consultas (*queries*) no banco de dados, da qual está excluindo a tabela no banco de dados com o nome `Socioeconomic_chicago` se ela existir.\n",
    "\n",
    "Observe que podemos fazer todas as consultados nos banco de dados utilizando o método `execute()`, assim podemos escrever as `strings` que serão utilizada para esse fim."
   ]
  },
  {
   "cell_type": "code",
   "execution_count": 4,
   "metadata": {},
   "outputs": [
    {
     "data": {
      "text/plain": [
       "<pyodbc.Cursor at 0x21c5a180918>"
      ]
     },
     "execution_count": 4,
     "metadata": {},
     "output_type": "execute_result"
    }
   ],
   "source": [
    "cur.execute('DROP TABLE IF EXISTS Socioeconomic_chicago')"
   ]
  },
  {
   "cell_type": "markdown",
   "metadata": {},
   "source": [
    "Segue o link para download do arquivo `.csv` utilizado:\n",
    "\n",
    "https://data.cityofchicago.org/Health-Human-Services/Census-Data-Selected-socioeconomic-indicators-in-C/kn9c-c2s2"
   ]
  },
  {
   "cell_type": "markdown",
   "metadata": {},
   "source": [
    "Como não haverá mais conflito com uma tabela igual, pode-se utilizar o comando `CREATE TABLE` para criar uma nova tabela."
   ]
  },
  {
   "cell_type": "code",
   "execution_count": 5,
   "metadata": {},
   "outputs": [
    {
     "data": {
      "text/plain": [
       "<pyodbc.Cursor at 0x21c5a180918>"
      ]
     },
     "execution_count": 5,
     "metadata": {},
     "output_type": "execute_result"
    }
   ],
   "source": [
    "cur.execute(''' CREATE TABLE Socioeconomic_chicago(\n",
    "                Community_Area_Number INT PRIMARY KEY,\n",
    "                COMMUNITY_AREA_NAME VARCHAR(50),\n",
    "                PERCENT_OF_HOUSING_CROWDED FLOAT,\n",
    "                PERCENT_HOUSEHOLDS_BELOW_POVERTY FLOAT,\n",
    "                PERCENT_AGED_16_UNEMPLOYED FLOAT,\n",
    "                PERCENT_AGED_25_WITHOUT_HIGH_SCHOOL_DIPLOMA FLOAT,\n",
    "                PERCENT_AGED_UNDER_18_OR_OVER_64 FLOAT,\n",
    "                PER_CAPITA_INCOME FLOAT,\n",
    "                HARDSHIP_INDEX INT,\n",
    "\n",
    ")\n",
    "'''\n",
    ")"
   ]
  },
  {
   "cell_type": "markdown",
   "metadata": {},
   "source": [
    "## Salvando os dados no banco de dados"
   ]
  },
  {
   "cell_type": "markdown",
   "metadata": {},
   "source": [
    "Declarar o caminho onde está localizado o arquivo em `.csv`.\n",
    "\n",
    "`file = \"C:/caminho/arquivo.csv\"`"
   ]
  },
  {
   "cell_type": "code",
   "execution_count": 1,
   "metadata": {},
   "outputs": [],
   "source": [
    "#hide\n",
    "file = '''C:/Users/lucas/Documents/lucastiagooliveira/db/Socioeconomics_Chicago/Census_Data_-_Selected_socioeconomic_indicators_in_Chicago__2008___2012.csv'''"
   ]
  },
  {
   "cell_type": "markdown",
   "metadata": {},
   "source": [
    "Neste passo será executado um loop para percorrer todas as linhas do arquivo `.csv` e gravar no banco de dados utilizando a *query* `INSERT INTO nome_tabela (coluna1, coluna2, coluna3, ...) VALUES (valor1, valor2, valor3, ...)`."
   ]
  },
  {
   "cell_type": "code",
   "execution_count": 7,
   "metadata": {},
   "outputs": [],
   "source": [
    "i = 0\n",
    "with open(file) as csv_file:\n",
    "    csv_reader =  csv.reader(csv_file, delimiter = ',')\n",
    "    for row in csv_reader:\n",
    "        if i == 0:\n",
    "            pass\n",
    "        else:\n",
    "            try:\n",
    "                col1 = int(row[0])\n",
    "                col2  = row[1]\n",
    "                col3 = float(row[2])\n",
    "                col4 = float(row[3])\n",
    "                col5 = float(row[4])\n",
    "                col6 = float(row[5])\n",
    "                col7 = float(row[6])\n",
    "                col8 = float(row[7])\n",
    "                col9 = int(row[8])\n",
    "            except:\n",
    "                print('Values is broken, impossible to save in database. Code=', i)\n",
    "            cur.execute(''' INSERT INTO Socioeconomic_chicago (Community_Area_Number, COMMUNITY_AREA_NAME,PERCENT_OF_HOUSING_CROWDED,PERCENT_HOUSEHOLDS_BELOW_POVERTY, PERCENT_AGED_16_UNEMPLOYED,\n",
    "                PERCENT_AGED_25_WITHOUT_HIGH_SCHOOL_DIPLOMA,PERCENT_AGED_UNDER_18_OR_OVER_64,PER_CAPITA_INCOME,HARDSHIP_INDEX)\n",
    "                VALUES (?,?,?,?,?,?,?,?,?)\n",
    "\n",
    "            ''',(col1, col2, col3, col4, col5, col6, col7, col8, col9))\n",
    "        i += 1"
   ]
  },
  {
   "cell_type": "markdown",
   "metadata": {},
   "source": [
    "Pronto tabela salva no bando de dados!"
   ]
  },
  {
   "cell_type": "markdown",
   "metadata": {},
   "source": [
    "## Verificação todas as linhas foram salvas"
   ]
  },
  {
   "cell_type": "markdown",
   "metadata": {},
   "source": [
    "Carregando todos os dados da tabela utilizando o `pandas`."
   ]
  },
  {
   "cell_type": "code",
   "execution_count": 8,
   "metadata": {},
   "outputs": [],
   "source": [
    "df = pd.read_sql_query('''SELECT * FROM Socioeconomic_chicago''', conn)\n"
   ]
  },
  {
   "cell_type": "markdown",
   "metadata": {},
   "source": [
    "> Important: Feche a conexão com o banco de dados."
   ]
  },
  {
   "cell_type": "code",
   "execution_count": 9,
   "metadata": {},
   "outputs": [],
   "source": [
    "cur.close()"
   ]
  },
  {
   "cell_type": "markdown",
   "metadata": {},
   "source": [
    "## Imprimindo a tabela carregada no banco de dados."
   ]
  },
  {
   "cell_type": "code",
   "execution_count": 10,
   "metadata": {},
   "outputs": [
    {
     "data": {
      "text/html": [
       "<div>\n",
       "<style scoped>\n",
       "    .dataframe tbody tr th:only-of-type {\n",
       "        vertical-align: middle;\n",
       "    }\n",
       "\n",
       "    .dataframe tbody tr th {\n",
       "        vertical-align: top;\n",
       "    }\n",
       "\n",
       "    .dataframe thead th {\n",
       "        text-align: right;\n",
       "    }\n",
       "</style>\n",
       "<table border=\"1\" class=\"dataframe\">\n",
       "  <thead>\n",
       "    <tr style=\"text-align: right;\">\n",
       "      <th></th>\n",
       "      <th>Community_Area_Number</th>\n",
       "      <th>COMMUNITY_AREA_NAME</th>\n",
       "      <th>PERCENT_OF_HOUSING_CROWDED</th>\n",
       "      <th>PERCENT_HOUSEHOLDS_BELOW_POVERTY</th>\n",
       "      <th>PERCENT_AGED_16_UNEMPLOYED</th>\n",
       "      <th>PERCENT_AGED_25_WITHOUT_HIGH_SCHOOL_DIPLOMA</th>\n",
       "      <th>PERCENT_AGED_UNDER_18_OR_OVER_64</th>\n",
       "      <th>PER_CAPITA_INCOME</th>\n",
       "      <th>HARDSHIP_INDEX</th>\n",
       "    </tr>\n",
       "  </thead>\n",
       "  <tbody>\n",
       "    <tr>\n",
       "      <th>0</th>\n",
       "      <td>1</td>\n",
       "      <td>Rogers Park</td>\n",
       "      <td>7.7</td>\n",
       "      <td>23.6</td>\n",
       "      <td>8.7</td>\n",
       "      <td>18.2</td>\n",
       "      <td>27.5</td>\n",
       "      <td>23939.0</td>\n",
       "      <td>39</td>\n",
       "    </tr>\n",
       "    <tr>\n",
       "      <th>1</th>\n",
       "      <td>2</td>\n",
       "      <td>West Ridge</td>\n",
       "      <td>7.8</td>\n",
       "      <td>17.2</td>\n",
       "      <td>8.8</td>\n",
       "      <td>20.8</td>\n",
       "      <td>38.5</td>\n",
       "      <td>23040.0</td>\n",
       "      <td>46</td>\n",
       "    </tr>\n",
       "    <tr>\n",
       "      <th>2</th>\n",
       "      <td>3</td>\n",
       "      <td>Uptown</td>\n",
       "      <td>3.8</td>\n",
       "      <td>24.0</td>\n",
       "      <td>8.9</td>\n",
       "      <td>11.8</td>\n",
       "      <td>22.2</td>\n",
       "      <td>35787.0</td>\n",
       "      <td>20</td>\n",
       "    </tr>\n",
       "    <tr>\n",
       "      <th>3</th>\n",
       "      <td>4</td>\n",
       "      <td>Lincoln Square</td>\n",
       "      <td>3.4</td>\n",
       "      <td>10.9</td>\n",
       "      <td>8.2</td>\n",
       "      <td>13.4</td>\n",
       "      <td>25.5</td>\n",
       "      <td>37524.0</td>\n",
       "      <td>17</td>\n",
       "    </tr>\n",
       "    <tr>\n",
       "      <th>4</th>\n",
       "      <td>5</td>\n",
       "      <td>North Center</td>\n",
       "      <td>0.3</td>\n",
       "      <td>7.5</td>\n",
       "      <td>5.2</td>\n",
       "      <td>4.5</td>\n",
       "      <td>26.2</td>\n",
       "      <td>57123.0</td>\n",
       "      <td>6</td>\n",
       "    </tr>\n",
       "    <tr>\n",
       "      <th>...</th>\n",
       "      <td>...</td>\n",
       "      <td>...</td>\n",
       "      <td>...</td>\n",
       "      <td>...</td>\n",
       "      <td>...</td>\n",
       "      <td>...</td>\n",
       "      <td>...</td>\n",
       "      <td>...</td>\n",
       "      <td>...</td>\n",
       "    </tr>\n",
       "    <tr>\n",
       "      <th>73</th>\n",
       "      <td>74</td>\n",
       "      <td>Mount Greenwood</td>\n",
       "      <td>1.0</td>\n",
       "      <td>3.4</td>\n",
       "      <td>8.7</td>\n",
       "      <td>4.3</td>\n",
       "      <td>36.8</td>\n",
       "      <td>34381.0</td>\n",
       "      <td>16</td>\n",
       "    </tr>\n",
       "    <tr>\n",
       "      <th>74</th>\n",
       "      <td>75</td>\n",
       "      <td>Morgan Park</td>\n",
       "      <td>0.8</td>\n",
       "      <td>13.2</td>\n",
       "      <td>15.0</td>\n",
       "      <td>10.8</td>\n",
       "      <td>40.3</td>\n",
       "      <td>27149.0</td>\n",
       "      <td>30</td>\n",
       "    </tr>\n",
       "    <tr>\n",
       "      <th>75</th>\n",
       "      <td>76</td>\n",
       "      <td>O'Hare</td>\n",
       "      <td>3.6</td>\n",
       "      <td>15.4</td>\n",
       "      <td>7.1</td>\n",
       "      <td>10.9</td>\n",
       "      <td>30.3</td>\n",
       "      <td>25828.0</td>\n",
       "      <td>24</td>\n",
       "    </tr>\n",
       "    <tr>\n",
       "      <th>76</th>\n",
       "      <td>77</td>\n",
       "      <td>Edgewater</td>\n",
       "      <td>4.1</td>\n",
       "      <td>18.2</td>\n",
       "      <td>9.2</td>\n",
       "      <td>9.7</td>\n",
       "      <td>23.8</td>\n",
       "      <td>33385.0</td>\n",
       "      <td>19</td>\n",
       "    </tr>\n",
       "    <tr>\n",
       "      <th>77</th>\n",
       "      <td>78</td>\n",
       "      <td>CHICAGO</td>\n",
       "      <td>4.7</td>\n",
       "      <td>19.7</td>\n",
       "      <td>12.9</td>\n",
       "      <td>19.5</td>\n",
       "      <td>33.5</td>\n",
       "      <td>28202.0</td>\n",
       "      <td>66</td>\n",
       "    </tr>\n",
       "  </tbody>\n",
       "</table>\n",
       "<p>78 rows × 9 columns</p>\n",
       "</div>"
      ],
      "text/plain": [
       "    Community_Area_Number COMMUNITY_AREA_NAME  PERCENT_OF_HOUSING_CROWDED  \\\n",
       "0                       1         Rogers Park                         7.7   \n",
       "1                       2          West Ridge                         7.8   \n",
       "2                       3              Uptown                         3.8   \n",
       "3                       4      Lincoln Square                         3.4   \n",
       "4                       5        North Center                         0.3   \n",
       "..                    ...                 ...                         ...   \n",
       "73                     74     Mount Greenwood                         1.0   \n",
       "74                     75         Morgan Park                         0.8   \n",
       "75                     76              O'Hare                         3.6   \n",
       "76                     77           Edgewater                         4.1   \n",
       "77                     78             CHICAGO                         4.7   \n",
       "\n",
       "    PERCENT_HOUSEHOLDS_BELOW_POVERTY  PERCENT_AGED_16_UNEMPLOYED  \\\n",
       "0                               23.6                         8.7   \n",
       "1                               17.2                         8.8   \n",
       "2                               24.0                         8.9   \n",
       "3                               10.9                         8.2   \n",
       "4                                7.5                         5.2   \n",
       "..                               ...                         ...   \n",
       "73                               3.4                         8.7   \n",
       "74                              13.2                        15.0   \n",
       "75                              15.4                         7.1   \n",
       "76                              18.2                         9.2   \n",
       "77                              19.7                        12.9   \n",
       "\n",
       "    PERCENT_AGED_25_WITHOUT_HIGH_SCHOOL_DIPLOMA  \\\n",
       "0                                          18.2   \n",
       "1                                          20.8   \n",
       "2                                          11.8   \n",
       "3                                          13.4   \n",
       "4                                           4.5   \n",
       "..                                          ...   \n",
       "73                                          4.3   \n",
       "74                                         10.8   \n",
       "75                                         10.9   \n",
       "76                                          9.7   \n",
       "77                                         19.5   \n",
       "\n",
       "    PERCENT_AGED_UNDER_18_OR_OVER_64  PER_CAPITA_INCOME  HARDSHIP_INDEX  \n",
       "0                               27.5            23939.0              39  \n",
       "1                               38.5            23040.0              46  \n",
       "2                               22.2            35787.0              20  \n",
       "3                               25.5            37524.0              17  \n",
       "4                               26.2            57123.0               6  \n",
       "..                               ...                ...             ...  \n",
       "73                              36.8            34381.0              16  \n",
       "74                              40.3            27149.0              30  \n",
       "75                              30.3            25828.0              24  \n",
       "76                              23.8            33385.0              19  \n",
       "77                              33.5            28202.0              66  \n",
       "\n",
       "[78 rows x 9 columns]"
      ]
     },
     "execution_count": 10,
     "metadata": {},
     "output_type": "execute_result"
    }
   ],
   "source": [
    "df"
   ]
  },
  {
   "cell_type": "markdown",
   "metadata": {},
   "source": [
    "Essa foi uma forma simples que encontrei para fazer essa tarefa, pois existem outras formas igualmente eficazes."
   ]
  },
  {
   "cell_type": "markdown",
   "metadata": {},
   "source": [
    "<sup>Powered by: Lucas Tiago</sup>"
   ]
  }
 ],
 "metadata": {
  "kernelspec": {
   "display_name": "Python 3",
   "language": "python",
   "name": "python3"
  },
  "language_info": {
   "codemirror_mode": {
    "name": "ipython",
    "version": 3
   },
   "file_extension": ".py",
   "mimetype": "text/x-python",
   "name": "python",
   "nbconvert_exporter": "python",
   "pygments_lexer": "ipython3",
   "version": "3.7.1"
  }
 },
 "nbformat": 4,
 "nbformat_minor": 4
}
